{
 "cells": [
  {
   "attachments": {},
   "cell_type": "markdown",
   "metadata": {},
   "source": [
    "# Preparazione all'asta di Fantacalcio 2024-2025\n",
    "\n",
    "Obiettivi:\n",
    "* quotazioni di giocatori diversi.\n",
    "* ..."
   ]
  },
  {
   "attachments": {},
   "cell_type": "markdown",
   "metadata": {},
   "source": [
    "## Getting started"
   ]
  },
  {
   "cell_type": "code",
   "execution_count": 201,
   "metadata": {},
   "outputs": [],
   "source": [
    "import pandas as pd\n",
    "import plotly.express as px\n",
    "import numpy as np\n",
    "import os\n",
    "\n",
    "files = [\n",
    "    \"../data/Quotazioni_Fantacalcio_Stagione_2024_25.xlsx\",\n",
    "    \"../data/Statistiche_Fantacalcio_Stagione_2023_24.xlsx\",\n",
    "    \"../data/Quotazioni_FantacalcioOnline.xlsx\"\n",
    "]\n",
    "\n",
    "quote = pd.read_excel(files[0], header = 1)\n",
    "stats = pd.read_excel(files[1], header = 1)"
   ]
  },
  {
   "cell_type": "code",
   "execution_count": 202,
   "metadata": {},
   "outputs": [
    {
     "name": "stderr",
     "output_type": "stream",
     "text": [
      "<ipython-input-202-c5f54ab8df05>:2: FutureWarning:\n",
      "\n",
      "The default value of regex will change from True to False in a future version.\n",
      "\n"
     ]
    },
    {
     "data": {
      "text/html": [
       "<div>\n",
       "<style scoped>\n",
       "    .dataframe tbody tr th:only-of-type {\n",
       "        vertical-align: middle;\n",
       "    }\n",
       "\n",
       "    .dataframe tbody tr th {\n",
       "        vertical-align: top;\n",
       "    }\n",
       "\n",
       "    .dataframe thead th {\n",
       "        text-align: right;\n",
       "    }\n",
       "</style>\n",
       "<table border=\"1\" class=\"dataframe\">\n",
       "  <thead>\n",
       "    <tr style=\"text-align: right;\">\n",
       "      <th></th>\n",
       "      <th>Id</th>\n",
       "      <th>R</th>\n",
       "      <th>RM</th>\n",
       "      <th>Nome</th>\n",
       "      <th>Squadra</th>\n",
       "      <th>Qt.A M</th>\n",
       "      <th>Diff.M</th>\n",
       "      <th>FVM</th>\n",
       "      <th>Rm</th>\n",
       "      <th>Pv</th>\n",
       "      <th>Mv</th>\n",
       "      <th>Fm</th>\n",
       "      <th>Ass</th>\n",
       "      <th>Amm</th>\n",
       "      <th>Esp</th>\n",
       "      <th>Au</th>\n",
       "    </tr>\n",
       "  </thead>\n",
       "  <tbody>\n",
       "    <tr>\n",
       "      <th>0</th>\n",
       "      <td>2428</td>\n",
       "      <td>P</td>\n",
       "      <td>Por</td>\n",
       "      <td>Sommer</td>\n",
       "      <td>Inter</td>\n",
       "      <td>19.0</td>\n",
       "      <td>1.0</td>\n",
       "      <td>110.0</td>\n",
       "      <td>Por</td>\n",
       "      <td>34</td>\n",
       "      <td>6.12</td>\n",
       "      <td>5.63</td>\n",
       "      <td>0</td>\n",
       "      <td>1</td>\n",
       "      <td>0</td>\n",
       "      <td>0</td>\n",
       "    </tr>\n",
       "    <tr>\n",
       "      <th>1</th>\n",
       "      <td>453</td>\n",
       "      <td>P</td>\n",
       "      <td>NaN</td>\n",
       "      <td>Szczesny</td>\n",
       "      <td>Juventus</td>\n",
       "      <td>NaN</td>\n",
       "      <td>NaN</td>\n",
       "      <td>NaN</td>\n",
       "      <td>Por</td>\n",
       "      <td>35</td>\n",
       "      <td>6.21</td>\n",
       "      <td>5.43</td>\n",
       "      <td>0</td>\n",
       "      <td>1</td>\n",
       "      <td>0</td>\n",
       "      <td>0</td>\n",
       "    </tr>\n",
       "    <tr>\n",
       "      <th>2</th>\n",
       "      <td>5841</td>\n",
       "      <td>P</td>\n",
       "      <td>Por</td>\n",
       "      <td>Svilar</td>\n",
       "      <td>Roma</td>\n",
       "      <td>14.0</td>\n",
       "      <td>1.0</td>\n",
       "      <td>70.0</td>\n",
       "      <td>Por</td>\n",
       "      <td>15</td>\n",
       "      <td>6.47</td>\n",
       "      <td>5.37</td>\n",
       "      <td>0</td>\n",
       "      <td>1</td>\n",
       "      <td>0</td>\n",
       "      <td>0</td>\n",
       "    </tr>\n",
       "    <tr>\n",
       "      <th>3</th>\n",
       "      <td>5876</td>\n",
       "      <td>P</td>\n",
       "      <td>NaN</td>\n",
       "      <td>Di Gregorio</td>\n",
       "      <td>Monza</td>\n",
       "      <td>NaN</td>\n",
       "      <td>NaN</td>\n",
       "      <td>NaN</td>\n",
       "      <td>Por</td>\n",
       "      <td>33</td>\n",
       "      <td>6.35</td>\n",
       "      <td>5.47</td>\n",
       "      <td>0</td>\n",
       "      <td>0</td>\n",
       "      <td>0</td>\n",
       "      <td>0</td>\n",
       "    </tr>\n",
       "    <tr>\n",
       "      <th>4</th>\n",
       "      <td>133</td>\n",
       "      <td>P</td>\n",
       "      <td>Por</td>\n",
       "      <td>Skorupski</td>\n",
       "      <td>Bologna</td>\n",
       "      <td>12.0</td>\n",
       "      <td>1.0</td>\n",
       "      <td>50.0</td>\n",
       "      <td>Por</td>\n",
       "      <td>32</td>\n",
       "      <td>6.17</td>\n",
       "      <td>5.33</td>\n",
       "      <td>0</td>\n",
       "      <td>2</td>\n",
       "      <td>0</td>\n",
       "      <td>0</td>\n",
       "    </tr>\n",
       "    <tr>\n",
       "      <th>5</th>\n",
       "      <td>2815</td>\n",
       "      <td>P</td>\n",
       "      <td>Por</td>\n",
       "      <td>Terracciano</td>\n",
       "      <td>Fiorentina</td>\n",
       "      <td>11.0</td>\n",
       "      <td>0.0</td>\n",
       "      <td>20.0</td>\n",
       "      <td>Por</td>\n",
       "      <td>33</td>\n",
       "      <td>6.27</td>\n",
       "      <td>5.26</td>\n",
       "      <td>0</td>\n",
       "      <td>3</td>\n",
       "      <td>0</td>\n",
       "      <td>0</td>\n",
       "    </tr>\n",
       "  </tbody>\n",
       "</table>\n",
       "</div>"
      ],
      "text/plain": [
       "     Id  R   RM         Nome     Squadra  Qt.A M  Diff.M    FVM   Rm  Pv  \\\n",
       "0  2428  P  Por       Sommer       Inter    19.0     1.0  110.0  Por  34   \n",
       "1   453  P  NaN     Szczesny    Juventus     NaN     NaN    NaN  Por  35   \n",
       "2  5841  P  Por       Svilar        Roma    14.0     1.0   70.0  Por  15   \n",
       "3  5876  P  NaN  Di Gregorio       Monza     NaN     NaN    NaN  Por  33   \n",
       "4   133  P  Por    Skorupski     Bologna    12.0     1.0   50.0  Por  32   \n",
       "5  2815  P  Por  Terracciano  Fiorentina    11.0     0.0   20.0  Por  33   \n",
       "\n",
       "     Mv    Fm  Ass  Amm  Esp  Au  \n",
       "0  6.12  5.63    0    1    0   0  \n",
       "1  6.21  5.43    0    1    0   0  \n",
       "2  6.47  5.37    0    1    0   0  \n",
       "3  6.35  5.47    0    0    0   0  \n",
       "4  6.17  5.33    0    2    0   0  \n",
       "5  6.27  5.26    0    3    0   0  "
      ]
     },
     "execution_count": 202,
     "metadata": {},
     "output_type": "execute_result"
    }
   ],
   "source": [
    "def remove_weird_end(s):\n",
    "    out = s.str.replace(\" [A-Z].$\", \"\").str.replace(\" [A-Z][a-z].$\", \"\")\n",
    "    return out\n",
    "\n",
    "quote[\"Nome\"] = remove_weird_end(quote[\"Nome\"])\n",
    "stats[\"Nome\"] = remove_weird_end(stats[\"Nome\"])\n",
    "\n",
    "merged = pd.merge(quote, stats, on = [\"Nome\", \"Squadra\", \"R\", \"Id\"], how = \"right\")\n",
    "\n",
    "if \"Qt.A\" in merged.columns:\n",
    "    merged = merged.drop([\"Qt.A\", \"Qt.I\", \"Diff.\", \"Qt.I M\", \"FVM M\", \"Gf\", \"Gs\", \"Rp\", \"Rc\", \"R+\", \"R-\"], axis = 1)\n",
    "merged.head(6)"
   ]
  },
  {
   "cell_type": "code",
   "execution_count": 199,
   "metadata": {},
   "outputs": [
    {
     "name": "stderr",
     "output_type": "stream",
     "text": [
      "<ipython-input-199-381de0cce35b>:5: FutureWarning:\n",
      "\n",
      "The default value of regex will change from True to False in a future version.\n",
      "\n",
      "<ipython-input-199-381de0cce35b>:7: FutureWarning:\n",
      "\n",
      "The default value of regex will change from True to False in a future version.\n",
      "\n",
      "<ipython-input-199-381de0cce35b>:8: FutureWarning:\n",
      "\n",
      "The default value of regex will change from True to False in a future version.\n",
      "\n",
      "<ipython-input-199-381de0cce35b>:9: FutureWarning:\n",
      "\n",
      "The default value of regex will change from True to False in a future version.\n",
      "\n"
     ]
    }
   ],
   "source": [
    "# Load eval\n",
    "eval  = pd.read_excel(files[2], header = 1)\n",
    "\n",
    "# Keep only uppercase letters in \"Nome\"\n",
    "eval[\"Nome\"] = eval[\"Nome\"].str.replace(\"[a-z]\", \"\").str.replace(\" [A-Z]$\", \"\").str.title()\n",
    "eval = eval[(eval.Posizione != \"POR\") | (eval.Nome != \"Martinez\")]\n",
    "eval[\"Nome\"] = eval[\"Nome\"].str.replace(\" ..$\", \"\")\n",
    "eval[\"Nome\"] = eval[\"Nome\"].str.replace(\" [A-Z]$\", \"\")\n",
    "eval[\"Nome\"] = eval[\"Nome\"].str.replace(\" -$\", \"\")"
   ]
  },
  {
   "cell_type": "code",
   "execution_count": 215,
   "metadata": {},
   "outputs": [],
   "source": [
    "eval2 = eval[[\"Nome\", \"Squadra\", \"RAT\", \"IS %\", \"Kapitals\"]].rename(columns={\"RAT\":\"FantaRating\", \"IS %\": \"Schierabilita\"})\n",
    "merged2 = pd.merge(eval2, merged, on = [\"Nome\", \"Squadra\"], how=\"outer\")\n",
    "del eval2\n",
    "merged2.head(4)\n",
    "\n",
    "# jitter shierabilita\n",
    "merged2[\"Schierabilita\"] = merged2[\"Schierabilita\"] + np.random.normal(0, 2, merged2.shape[0])"
   ]
  },
  {
   "cell_type": "code",
   "execution_count": 216,
   "metadata": {},
   "outputs": [
    {
     "name": "stdout",
     "output_type": "stream",
     "text": [
      "(271, 19)\n",
      "           Nome     Squadra  FantaRating  Schierabilita  Kapitals  Id    R  \\\n",
      "304  Abdulhamid        Roma         58.0      55.239905      10.0 NaN  NaN   \n",
      "68      Abraham       Milan         62.0      62.235653      19.0 NaN  NaN   \n",
      "545   Accornero       Genoa         45.0      11.952325       1.0 NaN  NaN   \n",
      "49        Adams      Torino         66.0      74.556798      22.0 NaN  NaN   \n",
      "286        Adli  Fiorentina         59.0      64.319465      10.0 NaN  NaN   \n",
      "\n",
      "      RM  Qt.A M  Diff.M  FVM   Rm  Pv  Mv  Fm  Ass  Amm  Esp  Au  \n",
      "304  NaN     NaN     NaN  NaN  NaN NaN NaN NaN  NaN  NaN  NaN NaN  \n",
      "68   NaN     NaN     NaN  NaN  NaN NaN NaN NaN  NaN  NaN  NaN NaN  \n",
      "545  NaN     NaN     NaN  NaN  NaN NaN NaN NaN  NaN  NaN  NaN NaN  \n",
      "49   NaN     NaN     NaN  NaN  NaN NaN NaN NaN  NaN  NaN  NaN NaN  \n",
      "286  NaN     NaN     NaN  NaN  NaN NaN NaN NaN  NaN  NaN  NaN NaN  \n",
      "(386, 19)\n",
      "         Nome   Squadra  FantaRating  Schierabilita  Kapitals      Id  R  \\\n",
      "704  Abankwah   Udinese          NaN            NaN       NaN  6021.0  D   \n",
      "886   Abraham      Roma          NaN            NaN       NaN  2544.0  A   \n",
      "579  Adamonis     Lazio          NaN            NaN       NaN  5502.0  P   \n",
      "769      Adli     Milan          NaN            NaN       NaN  5875.0  C   \n",
      "810     Adopo  Atalanta          NaN            NaN       NaN  4870.0  C   \n",
      "\n",
      "        RM  Qt.A M  Diff.M  FVM     Rm    Pv    Mv    Fm  Ass  Amm  Esp   Au  \n",
      "704  Dd;Dc     1.0     0.0  1.0  Dd;Dc   0.0  0.00  0.00  0.0  0.0  0.0  0.0  \n",
      "886    NaN     NaN     NaN  NaN     Pc   6.0  5.83  6.25  0.0  1.0  0.0  0.0  \n",
      "579    NaN     NaN     NaN  NaN    Por   0.0  0.00  0.00  0.0  0.0  0.0  0.0  \n",
      "769    NaN     NaN     NaN  NaN      T  21.0  5.98  6.14  2.0  3.0  0.0  0.0  \n",
      "810    NaN     NaN     NaN  NaN    M;C   4.0  5.75  6.00  1.0  0.0  0.0  0.0  \n"
     ]
    }
   ],
   "source": [
    "missing1 = merged2[np.isnan(merged2.Id)].sort_values(\"Nome\")\n",
    "print(missing1.shape)\n",
    "print(missing1.head())\n",
    "\n",
    "missing2 = merged2[np.isnan(merged2.FantaRating)].sort_values(\"Nome\")\n",
    "print(missing2.shape)\n",
    "print(missing2.head())"
   ]
  },
  {
   "cell_type": "code",
   "execution_count": 217,
   "metadata": {},
   "outputs": [
    {
     "data": {
      "text/html": [
       "<div>\n",
       "<style scoped>\n",
       "    .dataframe tbody tr th:only-of-type {\n",
       "        vertical-align: middle;\n",
       "    }\n",
       "\n",
       "    .dataframe tbody tr th {\n",
       "        vertical-align: top;\n",
       "    }\n",
       "\n",
       "    .dataframe thead th {\n",
       "        text-align: right;\n",
       "    }\n",
       "</style>\n",
       "<table border=\"1\" class=\"dataframe\">\n",
       "  <thead>\n",
       "    <tr style=\"text-align: right;\">\n",
       "      <th></th>\n",
       "      <th>Nome</th>\n",
       "      <th>Squadra</th>\n",
       "      <th>FantaRating</th>\n",
       "      <th>Schierabilita</th>\n",
       "      <th>Kapitals</th>\n",
       "      <th>Id</th>\n",
       "      <th>R</th>\n",
       "      <th>RM</th>\n",
       "      <th>Qt.A M</th>\n",
       "      <th>Diff.M</th>\n",
       "      <th>FVM</th>\n",
       "      <th>Rm</th>\n",
       "      <th>Pv</th>\n",
       "      <th>Mv</th>\n",
       "      <th>Fm</th>\n",
       "      <th>Ass</th>\n",
       "      <th>Amm</th>\n",
       "      <th>Esp</th>\n",
       "      <th>Au</th>\n",
       "    </tr>\n",
       "  </thead>\n",
       "  <tbody>\n",
       "    <tr>\n",
       "      <th>0</th>\n",
       "      <td>Audero</td>\n",
       "      <td>Inter</td>\n",
       "      <td>NaN</td>\n",
       "      <td>NaN</td>\n",
       "      <td>NaN</td>\n",
       "      <td>761.0</td>\n",
       "      <td>P</td>\n",
       "      <td>NaN</td>\n",
       "      <td>NaN</td>\n",
       "      <td>NaN</td>\n",
       "      <td>NaN</td>\n",
       "      <td>Por</td>\n",
       "      <td>4.0</td>\n",
       "      <td>6.00</td>\n",
       "      <td>5.25</td>\n",
       "      <td>0.0</td>\n",
       "      <td>0.0</td>\n",
       "      <td>0.0</td>\n",
       "      <td>0.0</td>\n",
       "    </tr>\n",
       "    <tr>\n",
       "      <th>1</th>\n",
       "      <td>Correa</td>\n",
       "      <td>Inter</td>\n",
       "      <td>NaN</td>\n",
       "      <td>NaN</td>\n",
       "      <td>NaN</td>\n",
       "      <td>495.0</td>\n",
       "      <td>A</td>\n",
       "      <td>A</td>\n",
       "      <td>2.0</td>\n",
       "      <td>-1.0</td>\n",
       "      <td>7.0</td>\n",
       "      <td>A</td>\n",
       "      <td>0.0</td>\n",
       "      <td>0.00</td>\n",
       "      <td>0.00</td>\n",
       "      <td>0.0</td>\n",
       "      <td>0.0</td>\n",
       "      <td>0.0</td>\n",
       "      <td>0.0</td>\n",
       "    </tr>\n",
       "    <tr>\n",
       "      <th>2</th>\n",
       "      <td>Cuadrado</td>\n",
       "      <td>Inter</td>\n",
       "      <td>NaN</td>\n",
       "      <td>NaN</td>\n",
       "      <td>NaN</td>\n",
       "      <td>697.0</td>\n",
       "      <td>D</td>\n",
       "      <td>NaN</td>\n",
       "      <td>NaN</td>\n",
       "      <td>NaN</td>\n",
       "      <td>NaN</td>\n",
       "      <td>E</td>\n",
       "      <td>10.0</td>\n",
       "      <td>6.05</td>\n",
       "      <td>6.20</td>\n",
       "      <td>2.0</td>\n",
       "      <td>1.0</td>\n",
       "      <td>0.0</td>\n",
       "      <td>0.0</td>\n",
       "    </tr>\n",
       "    <tr>\n",
       "      <th>3</th>\n",
       "      <td>Esposito</td>\n",
       "      <td>Inter</td>\n",
       "      <td>NaN</td>\n",
       "      <td>NaN</td>\n",
       "      <td>NaN</td>\n",
       "      <td>4463.0</td>\n",
       "      <td>A</td>\n",
       "      <td>NaN</td>\n",
       "      <td>NaN</td>\n",
       "      <td>NaN</td>\n",
       "      <td>NaN</td>\n",
       "      <td>Pc</td>\n",
       "      <td>0.0</td>\n",
       "      <td>0.00</td>\n",
       "      <td>0.00</td>\n",
       "      <td>0.0</td>\n",
       "      <td>0.0</td>\n",
       "      <td>0.0</td>\n",
       "      <td>0.0</td>\n",
       "    </tr>\n",
       "    <tr>\n",
       "      <th>4</th>\n",
       "      <td>Gosens</td>\n",
       "      <td>Inter</td>\n",
       "      <td>NaN</td>\n",
       "      <td>NaN</td>\n",
       "      <td>NaN</td>\n",
       "      <td>2160.0</td>\n",
       "      <td>D</td>\n",
       "      <td>NaN</td>\n",
       "      <td>NaN</td>\n",
       "      <td>NaN</td>\n",
       "      <td>NaN</td>\n",
       "      <td>E</td>\n",
       "      <td>0.0</td>\n",
       "      <td>0.00</td>\n",
       "      <td>0.00</td>\n",
       "      <td>0.0</td>\n",
       "      <td>0.0</td>\n",
       "      <td>0.0</td>\n",
       "      <td>0.0</td>\n",
       "    </tr>\n",
       "    <tr>\n",
       "      <th>5</th>\n",
       "      <td>Klaassen</td>\n",
       "      <td>Inter</td>\n",
       "      <td>NaN</td>\n",
       "      <td>NaN</td>\n",
       "      <td>NaN</td>\n",
       "      <td>4182.0</td>\n",
       "      <td>C</td>\n",
       "      <td>NaN</td>\n",
       "      <td>NaN</td>\n",
       "      <td>NaN</td>\n",
       "      <td>NaN</td>\n",
       "      <td>C;T</td>\n",
       "      <td>6.0</td>\n",
       "      <td>6.00</td>\n",
       "      <td>6.00</td>\n",
       "      <td>0.0</td>\n",
       "      <td>1.0</td>\n",
       "      <td>0.0</td>\n",
       "      <td>0.0</td>\n",
       "    </tr>\n",
       "    <tr>\n",
       "      <th>6</th>\n",
       "      <td>Sanchez</td>\n",
       "      <td>Inter</td>\n",
       "      <td>NaN</td>\n",
       "      <td>NaN</td>\n",
       "      <td>NaN</td>\n",
       "      <td>2475.0</td>\n",
       "      <td>A</td>\n",
       "      <td>NaN</td>\n",
       "      <td>NaN</td>\n",
       "      <td>NaN</td>\n",
       "      <td>NaN</td>\n",
       "      <td>A</td>\n",
       "      <td>19.0</td>\n",
       "      <td>6.18</td>\n",
       "      <td>6.76</td>\n",
       "      <td>5.0</td>\n",
       "      <td>0.0</td>\n",
       "      <td>0.0</td>\n",
       "      <td>0.0</td>\n",
       "    </tr>\n",
       "    <tr>\n",
       "      <th>7</th>\n",
       "      <td>Sensi</td>\n",
       "      <td>Inter</td>\n",
       "      <td>NaN</td>\n",
       "      <td>NaN</td>\n",
       "      <td>NaN</td>\n",
       "      <td>1978.0</td>\n",
       "      <td>C</td>\n",
       "      <td>NaN</td>\n",
       "      <td>NaN</td>\n",
       "      <td>NaN</td>\n",
       "      <td>NaN</td>\n",
       "      <td>C;T</td>\n",
       "      <td>1.0</td>\n",
       "      <td>6.50</td>\n",
       "      <td>6.50</td>\n",
       "      <td>0.0</td>\n",
       "      <td>0.0</td>\n",
       "      <td>0.0</td>\n",
       "      <td>0.0</td>\n",
       "    </tr>\n",
       "    <tr>\n",
       "      <th>8</th>\n",
       "      <td>Stankovic</td>\n",
       "      <td>Inter</td>\n",
       "      <td>NaN</td>\n",
       "      <td>NaN</td>\n",
       "      <td>NaN</td>\n",
       "      <td>6248.0</td>\n",
       "      <td>P</td>\n",
       "      <td>NaN</td>\n",
       "      <td>NaN</td>\n",
       "      <td>NaN</td>\n",
       "      <td>NaN</td>\n",
       "      <td>Por</td>\n",
       "      <td>0.0</td>\n",
       "      <td>0.00</td>\n",
       "      <td>0.00</td>\n",
       "      <td>0.0</td>\n",
       "      <td>0.0</td>\n",
       "      <td>0.0</td>\n",
       "      <td>0.0</td>\n",
       "    </tr>\n",
       "    <tr>\n",
       "      <th>9</th>\n",
       "      <td>Palacios</td>\n",
       "      <td>Inter</td>\n",
       "      <td>58.0</td>\n",
       "      <td>55.345320</td>\n",
       "      <td>7.0</td>\n",
       "      <td>NaN</td>\n",
       "      <td>NaN</td>\n",
       "      <td>NaN</td>\n",
       "      <td>NaN</td>\n",
       "      <td>NaN</td>\n",
       "      <td>NaN</td>\n",
       "      <td>NaN</td>\n",
       "      <td>NaN</td>\n",
       "      <td>NaN</td>\n",
       "      <td>NaN</td>\n",
       "      <td>NaN</td>\n",
       "      <td>NaN</td>\n",
       "      <td>NaN</td>\n",
       "      <td>NaN</td>\n",
       "    </tr>\n",
       "    <tr>\n",
       "      <th>10</th>\n",
       "      <td>Taremi</td>\n",
       "      <td>Inter</td>\n",
       "      <td>62.0</td>\n",
       "      <td>61.792985</td>\n",
       "      <td>23.0</td>\n",
       "      <td>NaN</td>\n",
       "      <td>NaN</td>\n",
       "      <td>NaN</td>\n",
       "      <td>NaN</td>\n",
       "      <td>NaN</td>\n",
       "      <td>NaN</td>\n",
       "      <td>NaN</td>\n",
       "      <td>NaN</td>\n",
       "      <td>NaN</td>\n",
       "      <td>NaN</td>\n",
       "      <td>NaN</td>\n",
       "      <td>NaN</td>\n",
       "      <td>NaN</td>\n",
       "      <td>NaN</td>\n",
       "    </tr>\n",
       "    <tr>\n",
       "      <th>11</th>\n",
       "      <td>Zielinski</td>\n",
       "      <td>Inter</td>\n",
       "      <td>68.0</td>\n",
       "      <td>70.133267</td>\n",
       "      <td>19.0</td>\n",
       "      <td>NaN</td>\n",
       "      <td>NaN</td>\n",
       "      <td>NaN</td>\n",
       "      <td>NaN</td>\n",
       "      <td>NaN</td>\n",
       "      <td>NaN</td>\n",
       "      <td>NaN</td>\n",
       "      <td>NaN</td>\n",
       "      <td>NaN</td>\n",
       "      <td>NaN</td>\n",
       "      <td>NaN</td>\n",
       "      <td>NaN</td>\n",
       "      <td>NaN</td>\n",
       "      <td>NaN</td>\n",
       "    </tr>\n",
       "  </tbody>\n",
       "</table>\n",
       "</div>"
      ],
      "text/plain": [
       "         Nome Squadra  FantaRating  Schierabilita  Kapitals      Id    R   RM  \\\n",
       "0      Audero   Inter          NaN            NaN       NaN   761.0    P  NaN   \n",
       "1      Correa   Inter          NaN            NaN       NaN   495.0    A    A   \n",
       "2    Cuadrado   Inter          NaN            NaN       NaN   697.0    D  NaN   \n",
       "3    Esposito   Inter          NaN            NaN       NaN  4463.0    A  NaN   \n",
       "4      Gosens   Inter          NaN            NaN       NaN  2160.0    D  NaN   \n",
       "5    Klaassen   Inter          NaN            NaN       NaN  4182.0    C  NaN   \n",
       "6     Sanchez   Inter          NaN            NaN       NaN  2475.0    A  NaN   \n",
       "7       Sensi   Inter          NaN            NaN       NaN  1978.0    C  NaN   \n",
       "8   Stankovic   Inter          NaN            NaN       NaN  6248.0    P  NaN   \n",
       "9    Palacios   Inter         58.0      55.345320       7.0     NaN  NaN  NaN   \n",
       "10     Taremi   Inter         62.0      61.792985      23.0     NaN  NaN  NaN   \n",
       "11  Zielinski   Inter         68.0      70.133267      19.0     NaN  NaN  NaN   \n",
       "\n",
       "    Qt.A M  Diff.M  FVM   Rm    Pv    Mv    Fm  Ass  Amm  Esp   Au  \n",
       "0      NaN     NaN  NaN  Por   4.0  6.00  5.25  0.0  0.0  0.0  0.0  \n",
       "1      2.0    -1.0  7.0    A   0.0  0.00  0.00  0.0  0.0  0.0  0.0  \n",
       "2      NaN     NaN  NaN    E  10.0  6.05  6.20  2.0  1.0  0.0  0.0  \n",
       "3      NaN     NaN  NaN   Pc   0.0  0.00  0.00  0.0  0.0  0.0  0.0  \n",
       "4      NaN     NaN  NaN    E   0.0  0.00  0.00  0.0  0.0  0.0  0.0  \n",
       "5      NaN     NaN  NaN  C;T   6.0  6.00  6.00  0.0  1.0  0.0  0.0  \n",
       "6      NaN     NaN  NaN    A  19.0  6.18  6.76  5.0  0.0  0.0  0.0  \n",
       "7      NaN     NaN  NaN  C;T   1.0  6.50  6.50  0.0  0.0  0.0  0.0  \n",
       "8      NaN     NaN  NaN  Por   0.0  0.00  0.00  0.0  0.0  0.0  0.0  \n",
       "9      NaN     NaN  NaN  NaN   NaN   NaN   NaN  NaN  NaN  NaN  NaN  \n",
       "10     NaN     NaN  NaN  NaN   NaN   NaN   NaN  NaN  NaN  NaN  NaN  \n",
       "11     NaN     NaN  NaN  NaN   NaN   NaN   NaN  NaN  NaN  NaN  NaN  "
      ]
     },
     "execution_count": 217,
     "metadata": {},
     "output_type": "execute_result"
    }
   ],
   "source": [
    "def search_by_player(player):\n",
    "    return pd.concat([\n",
    "        missing2[missing2[\"Nome\"] == player],\n",
    "        missing1[missing1[\"Nome\"] == player]\n",
    "    ], ignore_index=True)\n",
    "\n",
    "def search_by_team(team):\n",
    "    return pd.concat([\n",
    "        missing2[missing2[\"Squadra\"] == team],\n",
    "        missing1[missing1[\"Squadra\"] == team]\n",
    "    ], ignore_index=True)\n",
    "\n",
    "\n",
    "search_by_player(\"Martinez\")\n",
    "search_by_team(\"Inter\")\n"
   ]
  },
  {
   "attachments": {},
   "cell_type": "markdown",
   "metadata": {},
   "source": [
    "### What do we need to plot?\n",
    "\n",
    "Need to understand what Kapitals mean...\n",
    "\n",
    "* is it always the case that k_350_* > k_500_*\n",
    "* "
   ]
  },
  {
   "cell_type": "code",
   "execution_count": 218,
   "metadata": {},
   "outputs": [],
   "source": [
    "team_colors = {\n",
    "    \"Atalanta\": \"#1F4E79\",  # Dark Blue\n",
    "    \"Bologna\": \"#A52A2A\",  # Brown\n",
    "    \"Cagliari\": \"#C71585\",  # Medium Violet Red\n",
    "    \"Empoli\": \"#006BB6\",  # Royal Blue\n",
    "    \"Fiorentina\": \"#6A0DAD\",  # Purple\n",
    "    \"Genoa\": \"#D91E18\",  # Red\n",
    "    \"Inter\": \"#0033CC\",  # Blue\n",
    "    \"Juventus\": \"#000000\",  # Black\n",
    "    \"Lazio\": \"#87CEEB\",  # Sky Blue\n",
    "    \"Lecce\": \"#FFD700\",  # Gold\n",
    "    \"Monza\": \"#FF4500\",  # Orange Red\n",
    "    \"Napoli\": \"#00FFFF\",  # Cyan\n",
    "    \"Roma\": \"#800000\",  # Maroon\n",
    "    \"Salernitana\": \"#8B0000\",  # Dark Red\n",
    "    \"Sampdoria\": \"#4169E1\",  # Royal Blue\n",
    "    \"Sassuolo\": \"#228B22\",  # Forest Green\n",
    "    \"Torino\": \"#8B4513\",  # Saddle Brown\n",
    "    \"Udinese\": \"#808080\",  # Gray\n",
    "    \"Verona\": \"#FFFF00\",  # Yellow\n",
    "    \"Milan\": \"#FF0000\"  # Red\n",
    "}"
   ]
  },
  {
   "attachments": {},
   "cell_type": "markdown",
   "metadata": {},
   "source": [
    "**Exploratory plots** \n",
    "\n",
    "Let us plot price over Mv:"
   ]
  },
  {
   "cell_type": "code",
   "execution_count": 219,
   "metadata": {},
   "outputs": [
    {
     "data": {
      "application/vnd.plotly.v1+json": {
       "config": {
        "plotlyServerURL": "https://plot.ly"
       },
       "data": [
        {
         "hovertemplate": "<b>%{hovertext}</b><br><br>Squadra=Inter<br>R=P<br>Qt.A M=%{x}<br>Fm=%{y}<extra></extra>",
         "hovertext": [
          "Sommer",
          "Audero",
          "Di Gennaro"
         ],
         "legendgroup": "Inter",
         "marker": {
          "color": "#0033CC",
          "symbol": "circle"
         },
         "mode": "markers",
         "name": "Inter",
         "orientation": "v",
         "showlegend": true,
         "type": "scatter",
         "x": [
          19,
          null,
          1
         ],
         "xaxis": "x3",
         "y": [
          5.63,
          5.25,
          6.5
         ],
         "yaxis": "y3"
        },
        {
         "hovertemplate": "<b>%{hovertext}</b><br><br>Squadra=Inter<br>R=D<br>Qt.A M=%{x}<br>Fm=%{y}<extra></extra>",
         "hovertext": [
          "Dimarco",
          "Dumfries",
          "Acerbi",
          "Bastoni",
          "Carlos Augusto",
          "Darmian",
          "Bisseck",
          "De Vrij",
          "Pavard",
          "Cuadrado"
         ],
         "legendgroup": "Inter",
         "marker": {
          "color": "#0033CC",
          "symbol": "circle"
         },
         "mode": "markers",
         "name": "Inter",
         "orientation": "v",
         "showlegend": false,
         "type": "scatter",
         "x": [
          23,
          15,
          10,
          16,
          8,
          10,
          4,
          7,
          15,
          null
         ],
         "xaxis": "x4",
         "y": [
          7.18,
          6.53,
          6.5,
          6.45,
          6.21,
          6.33,
          7,
          6.41,
          6.24,
          6.2
         ],
         "yaxis": "y4"
        },
        {
         "hovertemplate": "<b>%{hovertext}</b><br><br>Squadra=Inter<br>R=C<br>Qt.A M=%{x}<br>Fm=%{y}<extra></extra>",
         "hovertext": [
          "Calhanoglu",
          "Frattesi",
          "Mkhitaryan",
          "Barella",
          "Asllani",
          "Buchanan",
          "Sensi",
          "Klaassen"
         ],
         "legendgroup": "Inter",
         "marker": {
          "color": "#0033CC",
          "symbol": "circle"
         },
         "mode": "markers",
         "name": "Inter",
         "orientation": "v",
         "showlegend": false,
         "type": "scatter",
         "x": [
          30,
          17,
          14,
          21,
          6,
          1,
          null,
          null
         ],
         "xaxis": "x",
         "y": [
          7.7,
          7,
          6.68,
          6.53,
          6.5,
          6.5,
          6.5,
          6
         ],
         "yaxis": "y"
        },
        {
         "hovertemplate": "<b>%{hovertext}</b><br><br>Squadra=Inter<br>R=A<br>Qt.A M=%{x}<br>Fm=%{y}<extra></extra>",
         "hovertext": [
          "Martinez",
          "Thuram",
          "Sanchez",
          "Arnautovic"
         ],
         "legendgroup": "Inter",
         "marker": {
          "color": "#0033CC",
          "symbol": "circle"
         },
         "mode": "markers",
         "name": "Inter",
         "orientation": "v",
         "showlegend": false,
         "type": "scatter",
         "x": [
          39,
          33,
          null,
          7
         ],
         "xaxis": "x2",
         "y": [
          8.73,
          7.81,
          6.76,
          6.9
         ],
         "yaxis": "y2"
        },
        {
         "hovertemplate": "<b>%{hovertext}</b><br><br>Squadra=Juventus<br>R=P<br>Qt.A M=%{x}<br>Fm=%{y}<extra></extra>",
         "hovertext": [
          "Szczesny",
          "Perin",
          "Pinsoglio"
         ],
         "legendgroup": "Juventus",
         "marker": {
          "color": "#000000",
          "symbol": "circle"
         },
         "mode": "markers",
         "name": "Juventus",
         "orientation": "v",
         "showlegend": true,
         "type": "scatter",
         "x": [
          null,
          1,
          1
         ],
         "xaxis": "x3",
         "y": [
          5.43,
          5.67,
          6.5
         ],
         "yaxis": "y3"
        },
        {
         "hovertemplate": "<b>%{hovertext}</b><br><br>Squadra=Juventus<br>R=D<br>Qt.A M=%{x}<br>Fm=%{y}<extra></extra>",
         "hovertext": [
          "Bremer",
          "Danilo",
          "Cambiaso",
          "Gatti",
          "Rugani",
          "Alex Sandro",
          "Djalo'",
          "De Sciglio"
         ],
         "legendgroup": "Juventus",
         "marker": {
          "color": "#000000",
          "symbol": "circle"
         },
         "mode": "markers",
         "name": "Juventus",
         "orientation": "v",
         "showlegend": false,
         "type": "scatter",
         "x": [
          16,
          15,
          12,
          8,
          null,
          null,
          2,
          null
         ],
         "xaxis": "x4",
         "y": [
          6.36,
          6.11,
          6.12,
          6.11,
          6.46,
          6.25,
          6,
          6
         ],
         "yaxis": "y4"
        },
        {
         "hovertemplate": "<b>%{hovertext}</b><br><br>Squadra=Juventus<br>R=C<br>Qt.A M=%{x}<br>Fm=%{y}<extra></extra>",
         "hovertext": [
          "Rabiot",
          "Mckennie",
          "Alcaraz",
          "Locatelli",
          "Iling Junior",
          "Kostic",
          "Weah",
          "Fagioli",
          "Miretti",
          "Nicolussi Caviglia",
          "Pogba",
          "Nonge"
         ],
         "legendgroup": "Juventus",
         "marker": {
          "color": "#000000",
          "symbol": "circle"
         },
         "mode": "markers",
         "name": "Juventus",
         "orientation": "v",
         "showlegend": false,
         "type": "scatter",
         "x": [
          null,
          null,
          null,
          10,
          null,
          4,
          5,
          9,
          null,
          null,
          null,
          null
         ],
         "xaxis": "x",
         "y": [
          6.5,
          6.32,
          6.07,
          5.94,
          6.2,
          5.98,
          5.86,
          6.25,
          5.9,
          6,
          6,
          4.5
         ],
         "yaxis": "y"
        },
        {
         "hovertemplate": "<b>%{hovertext}</b><br><br>Squadra=Juventus<br>R=A<br>Qt.A M=%{x}<br>Fm=%{y}<extra></extra>",
         "hovertext": [
          "Vlahovic",
          "Chiesa",
          "Milik",
          "Yildiz",
          "Kean"
         ],
         "legendgroup": "Juventus",
         "marker": {
          "color": "#000000",
          "symbol": "circle"
         },
         "mode": "markers",
         "name": "Juventus",
         "orientation": "v",
         "showlegend": false,
         "type": "scatter",
         "x": [
          38,
          null,
          9,
          17,
          null
         ],
         "xaxis": "x2",
         "y": [
          7.42,
          7.17,
          6.46,
          6.29,
          5.93
         ],
         "yaxis": "y2"
        },
        {
         "hovertemplate": "<b>%{hovertext}</b><br><br>Squadra=Roma<br>R=P<br>Qt.A M=%{x}<br>Fm=%{y}<extra></extra>",
         "hovertext": [
          "Svilar",
          "Rui Patricio"
         ],
         "legendgroup": "Roma",
         "marker": {
          "color": "#800000",
          "symbol": "circle"
         },
         "mode": "markers",
         "name": "Roma",
         "orientation": "v",
         "showlegend": true,
         "type": "scatter",
         "x": [
          14,
          null
         ],
         "xaxis": "x3",
         "y": [
          5.37,
          4.78
         ],
         "yaxis": "y3"
        },
        {
         "hovertemplate": "<b>%{hovertext}</b><br><br>Squadra=Roma<br>R=D<br>Qt.A M=%{x}<br>Fm=%{y}<extra></extra>",
         "hovertext": [
          "Mancini",
          "Spinazzola",
          "Angelino",
          "Smalling",
          "Llorente",
          "N'Dicka",
          "Karsdorp",
          "Huijsen",
          "Celik",
          "Kristensen"
         ],
         "legendgroup": "Roma",
         "marker": {
          "color": "#800000",
          "symbol": "circle"
         },
         "mode": "markers",
         "name": "Roma",
         "orientation": "v",
         "showlegend": false,
         "type": "scatter",
         "x": [
          11,
          null,
          10,
          7,
          null,
          9,
          null,
          null,
          4,
          null
         ],
         "xaxis": "x4",
         "y": [
          6.2,
          6.3,
          5.88,
          5.83,
          5.97,
          5.86,
          6.08,
          6.05,
          5.88,
          5.69
         ],
         "yaxis": "y4"
        },
        {
         "hovertemplate": "<b>%{hovertext}</b><br><br>Squadra=Roma<br>R=C<br>Qt.A M=%{x}<br>Fm=%{y}<extra></extra>",
         "hovertext": [
          "Pellegrini",
          "Cristante",
          "El Shaarawy",
          "Paredes",
          "Aouar",
          "Baldanzi",
          "Bove",
          "Renato Sanches",
          "Zalewski",
          "Pagano"
         ],
         "legendgroup": "Roma",
         "marker": {
          "color": "#800000",
          "symbol": "circle"
         },
         "mode": "markers",
         "name": "Roma",
         "orientation": "v",
         "showlegend": false,
         "type": "scatter",
         "x": [
          21,
          11,
          6,
          7,
          null,
          9,
          null,
          null,
          4,
          null
         ],
         "xaxis": "x",
         "y": [
          6.95,
          6.35,
          6.4,
          6.13,
          6.73,
          6.27,
          5.96,
          6.2,
          5.77,
          6
         ],
         "yaxis": "y"
        },
        {
         "hovertemplate": "<b>%{hovertext}</b><br><br>Squadra=Roma<br>R=A<br>Qt.A M=%{x}<br>Fm=%{y}<extra></extra>",
         "hovertext": [
          "Dybala",
          "Lukaku",
          "Azmoun",
          "Abraham",
          "Solbakken"
         ],
         "legendgroup": "Roma",
         "marker": {
          "color": "#800000",
          "symbol": "circle"
         },
         "mode": "markers",
         "name": "Roma",
         "orientation": "v",
         "showlegend": false,
         "type": "scatter",
         "x": [
          33,
          null,
          null,
          null,
          null
         ],
         "xaxis": "x2",
         "y": [
          8.2,
          7.2,
          6.77,
          6.25,
          5.5
         ],
         "yaxis": "y2"
        },
        {
         "hovertemplate": "<b>%{hovertext}</b><br><br>Squadra=Monza<br>R=P<br>Qt.A M=%{x}<br>Fm=%{y}<extra></extra>",
         "hovertext": [
          "Di Gregorio",
          "Sorrentino"
         ],
         "legendgroup": "Monza",
         "marker": {
          "color": "#FF4500",
          "symbol": "circle"
         },
         "mode": "markers",
         "name": "Monza",
         "orientation": "v",
         "showlegend": true,
         "type": "scatter",
         "x": [
          null,
          null
         ],
         "xaxis": "x3",
         "y": [
          5.47,
          3.71
         ],
         "yaxis": "y3"
        },
        {
         "hovertemplate": "<b>%{hovertext}</b><br><br>Squadra=Monza<br>R=D<br>Qt.A M=%{x}<br>Fm=%{y}<extra></extra>",
         "hovertext": [
          "Mari'",
          "Birindelli",
          "Kyriakopoulos",
          "Carboni",
          "Caldirola",
          "Izzo",
          "D'Ambrosio",
          "Pereira",
          "Donati"
         ],
         "legendgroup": "Monza",
         "marker": {
          "color": "#FF4500",
          "symbol": "circle"
         },
         "mode": "markers",
         "name": "Monza",
         "orientation": "v",
         "showlegend": false,
         "type": "scatter",
         "x": [
          7,
          5,
          7,
          6,
          5,
          6,
          4,
          6,
          null
         ],
         "xaxis": "x4",
         "y": [
          5.88,
          5.89,
          5.93,
          6,
          5.78,
          5.62,
          5.69,
          5.74,
          4.5
         ],
         "yaxis": "y4"
        },
        {
         "hovertemplate": "<b>%{hovertext}</b><br><br>Squadra=Monza<br>R=C<br>Qt.A M=%{x}<br>Fm=%{y}<extra></extra>",
         "hovertext": [
          "Colpani",
          "Pessina",
          "Maldini",
          "Carboni",
          "Gagliardini",
          "Bondo",
          "Zerbin",
          "Akpa Akpro",
          "Ciurria",
          "Vignato",
          "Gomez",
          "Machin"
         ],
         "legendgroup": "Monza",
         "marker": {
          "color": "#FF4500",
          "symbol": "circle"
         },
         "mode": "markers",
         "name": "Monza",
         "orientation": "v",
         "showlegend": false,
         "type": "scatter",
         "x": [
          null,
          12,
          9,
          null,
          6,
          5,
          null,
          null,
          5,
          3,
          null,
          null
         ],
         "xaxis": "x",
         "y": [
          6.92,
          6.46,
          6.97,
          6.32,
          5.92,
          5.78,
          5.78,
          5.64,
          5.86,
          6.25,
          6.25,
          5.81
         ],
         "yaxis": "y"
        },
        {
         "hovertemplate": "<b>%{hovertext}</b><br><br>Squadra=Monza<br>R=A<br>Qt.A M=%{x}<br>Fm=%{y}<extra></extra>",
         "hovertext": [
          "Djuric",
          "Mota",
          "Colombo",
          "Maric",
          "Caprari"
         ],
         "legendgroup": "Monza",
         "marker": {
          "color": "#FF4500",
          "symbol": "circle"
         },
         "mode": "markers",
         "name": "Monza",
         "orientation": "v",
         "showlegend": false,
         "type": "scatter",
         "x": [
          12,
          9,
          null,
          null,
          9
         ],
         "xaxis": "x2",
         "y": [
          6.67,
          6.41,
          6.39,
          6.5,
          5.9
         ],
         "yaxis": "y2"
        },
        {
         "hovertemplate": "<b>%{hovertext}</b><br><br>Squadra=Bologna<br>R=P<br>Qt.A M=%{x}<br>Fm=%{y}<extra></extra>",
         "hovertext": [
          "Skorupski",
          "Ravaglia"
         ],
         "legendgroup": "Bologna",
         "marker": {
          "color": "#A52A2A",
          "symbol": "circle"
         },
         "mode": "markers",
         "name": "Bologna",
         "orientation": "v",
         "showlegend": true,
         "type": "scatter",
         "x": [
          12,
          1
         ],
         "xaxis": "x3",
         "y": [
          5.33,
          6.33
         ],
         "yaxis": "y3"
        },
        {
         "hovertemplate": "<b>%{hovertext}</b><br><br>Squadra=Bologna<br>R=D<br>Qt.A M=%{x}<br>Fm=%{y}<extra></extra>",
         "hovertext": [
          "Calafiori",
          "Posch",
          "Lucumi'",
          "Kristiansen",
          "De Silvestri",
          "Beukema",
          "Lykogiannis",
          "Corazza"
         ],
         "legendgroup": "Bologna",
         "marker": {
          "color": "#A52A2A",
          "symbol": "circle"
         },
         "mode": "markers",
         "name": "Bologna",
         "orientation": "v",
         "showlegend": false,
         "type": "scatter",
         "x": [
          null,
          8,
          7,
          null,
          2,
          8,
          4,
          1
         ],
         "xaxis": "x4",
         "y": [
          6.57,
          6.15,
          6.07,
          6,
          6.67,
          6.02,
          6.36,
          5.8
         ],
         "yaxis": "y4"
        },
        {
         "hovertemplate": "<b>%{hovertext}</b><br><br>Squadra=Bologna<br>R=C<br>Qt.A M=%{x}<br>Fm=%{y}<extra></extra>",
         "hovertext": [
          "Orsolini",
          "Ferguson",
          "Fabbian",
          "Saelemaekers",
          "Dominguez",
          "Freuler",
          "Ndoye",
          "El Azzouzi",
          "Aebischer",
          "Moro",
          "Urbanski"
         ],
         "legendgroup": "Bologna",
         "marker": {
          "color": "#A52A2A",
          "symbol": "circle"
         },
         "mode": "markers",
         "name": "Bologna",
         "orientation": "v",
         "showlegend": false,
         "type": "scatter",
         "x": [
          21,
          17,
          14,
          null,
          null,
          11,
          9,
          4,
          10,
          3,
          5
         ],
         "xaxis": "x",
         "y": [
          7.06,
          6.94,
          6.86,
          6.47,
          5.75,
          6.06,
          6.08,
          6.83,
          5.9,
          6.21,
          5.83
         ],
         "yaxis": "y"
        },
        {
         "hovertemplate": "<b>%{hovertext}</b><br><br>Squadra=Bologna<br>R=A<br>Qt.A M=%{x}<br>Fm=%{y}<extra></extra>",
         "hovertext": [
          "Zirkzee",
          "Odgaard",
          "Castro",
          "Van Hooijdonk",
          "Karlsson"
         ],
         "legendgroup": "Bologna",
         "marker": {
          "color": "#A52A2A",
          "symbol": "circle"
         },
         "mode": "markers",
         "name": "Bologna",
         "orientation": "v",
         "showlegend": false,
         "type": "scatter",
         "x": [
          null,
          10,
          7,
          null,
          null
         ],
         "xaxis": "x2",
         "y": [
          7.4,
          7,
          6.5,
          5.79,
          5.92
         ],
         "yaxis": "y2"
        },
        {
         "hovertemplate": "<b>%{hovertext}</b><br><br>Squadra=Fiorentina<br>R=P<br>Qt.A M=%{x}<br>Fm=%{y}<extra></extra>",
         "hovertext": [
          "Terracciano",
          "Martinelli",
          "Christensen"
         ],
         "legendgroup": "Fiorentina",
         "marker": {
          "color": "#6A0DAD",
          "symbol": "circle"
         },
         "mode": "markers",
         "name": "Fiorentina",
         "orientation": "v",
         "showlegend": true,
         "type": "scatter",
         "x": [
          11,
          1,
          1
         ],
         "xaxis": "x3",
         "y": [
          5.26,
          4.5,
          3.25
         ],
         "yaxis": "y3"
        },
        {
         "hovertemplate": "<b>%{hovertext}</b><br><br>Squadra=Fiorentina<br>R=D<br>Qt.A M=%{x}<br>Fm=%{y}<extra></extra>",
         "hovertext": [
          "Martinez Quarta",
          "Kayode",
          "Biraghi",
          "Ranieri",
          "Milenkovic",
          "Parisi",
          "Dodo'",
          "Faraoni",
          "Comuzzo"
         ],
         "legendgroup": "Fiorentina",
         "marker": {
          "color": "#6A0DAD",
          "symbol": "circle"
         },
         "mode": "markers",
         "name": "Fiorentina",
         "orientation": "v",
         "showlegend": false,
         "type": "scatter",
         "x": [
          10,
          6,
          9,
          8,
          null,
          8,
          9,
          null,
          2
         ],
         "xaxis": "x4",
         "y": [
          6.41,
          6.17,
          6.11,
          5.88,
          5.6,
          5.64,
          5.75,
          5.62,
          5.75
         ],
         "yaxis": "y4"
        },
        {
         "hovertemplate": "<b>%{hovertext}</b><br><br>Squadra=Fiorentina<br>R=C<br>Qt.A M=%{x}<br>Fm=%{y}<extra></extra>",
         "hovertext": [
          "Bonaventura",
          "Duncan",
          "Arthur Melo",
          "Mandragora",
          "Barak",
          "Castrovilli",
          "Sottil",
          "Ikone'",
          "Lopez",
          "Amatucci",
          "Infantino"
         ],
         "legendgroup": "Fiorentina",
         "marker": {
          "color": "#6A0DAD",
          "symbol": "circle"
         },
         "mode": "markers",
         "name": "Fiorentina",
         "orientation": "v",
         "showlegend": false,
         "type": "scatter",
         "x": [
          null,
          null,
          null,
          8,
          5,
          null,
          8,
          6,
          null,
          null,
          null
         ],
         "xaxis": "x",
         "y": [
          6.89,
          6.46,
          6.34,
          6.28,
          6.62,
          7.3,
          6.44,
          6.08,
          5.66,
          5.5,
          5.67
         ],
         "yaxis": "y"
        },
        {
         "hovertemplate": "<b>%{hovertext}</b><br><br>Squadra=Fiorentina<br>R=A<br>Qt.A M=%{x}<br>Fm=%{y}<extra></extra>",
         "hovertext": [
          "Gonzalez",
          "Belotti",
          "Beltran",
          "Kouame'",
          "Brekalo",
          "Nzola"
         ],
         "legendgroup": "Fiorentina",
         "marker": {
          "color": "#6A0DAD",
          "symbol": "circle"
         },
         "mode": "markers",
         "name": "Fiorentina",
         "orientation": "v",
         "showlegend": false,
         "type": "scatter",
         "x": [
          null,
          null,
          10,
          4,
          null,
          null
         ],
         "xaxis": "x2",
         "y": [
          7.4,
          7.1,
          6.65,
          6.3,
          6.18,
          6.09
         ],
         "yaxis": "y2"
        },
        {
         "hovertemplate": "<b>%{hovertext}</b><br><br>Squadra=Atalanta<br>R=P<br>Qt.A M=%{x}<br>Fm=%{y}<extra></extra>",
         "hovertext": [
          "Carnesecchi",
          "Musso",
          "Rossi"
         ],
         "legendgroup": "Atalanta",
         "marker": {
          "color": "#1F4E79",
          "symbol": "circle"
         },
         "mode": "markers",
         "name": "Atalanta",
         "orientation": "v",
         "showlegend": true,
         "type": "scatter",
         "x": [
          12,
          null,
          1
         ],
         "xaxis": "x3",
         "y": [
          5.3,
          5.05,
          6.5
         ],
         "yaxis": "y3"
        },
        {
         "hovertemplate": "<b>%{hovertext}</b><br><br>Squadra=Atalanta<br>R=D<br>Qt.A M=%{x}<br>Fm=%{y}<extra></extra>",
         "hovertext": [
          "Scalvini",
          "Zappacosta",
          "Ruggeri",
          "Kolasinac",
          "Djimsiti",
          "Holm",
          "Bakker",
          "Hien",
          "Toloi",
          "Hateboer",
          "Bonfanti"
         ],
         "legendgroup": "Atalanta",
         "marker": {
          "color": "#1F4E79",
          "symbol": "circle"
         },
         "mode": "markers",
         "name": "Atalanta",
         "orientation": "v",
         "showlegend": false,
         "type": "scatter",
         "x": [
          7,
          9,
          11,
          9,
          7,
          null,
          null,
          8,
          4,
          null,
          null
         ],
         "xaxis": "x4",
         "y": [
          6.2,
          6.06,
          6.08,
          6.07,
          5.92,
          6.08,
          6,
          5.82,
          5.68,
          5.78,
          5.75
         ],
         "yaxis": "y4"
        },
        {
         "hovertemplate": "<b>%{hovertext}</b><br><br>Squadra=Atalanta<br>R=C<br>Qt.A M=%{x}<br>Fm=%{y}<extra></extra>",
         "hovertext": [
          "Koopmeiners",
          "De Ketelaere",
          "Pasalic",
          "Miranchuk",
          "Ederson D.s.",
          "De Roon",
          "Adopo"
         ],
         "legendgroup": "Atalanta",
         "marker": {
          "color": "#1F4E79",
          "symbol": "circle"
         },
         "mode": "markers",
         "name": "Atalanta",
         "orientation": "v",
         "showlegend": false,
         "type": "scatter",
         "x": [
          null,
          null,
          14,
          null,
          17,
          8,
          null
         ],
         "xaxis": "x",
         "y": [
          7.53,
          7.39,
          6.89,
          6.82,
          6.56,
          5.97,
          6
         ],
         "yaxis": "y"
        },
        {
         "hovertemplate": "<b>%{hovertext}</b><br><br>Squadra=Atalanta<br>R=A<br>Qt.A M=%{x}<br>Fm=%{y}<extra></extra>",
         "hovertext": [
          "Scamacca",
          "Lookman",
          "Muriel",
          "Toure'"
         ],
         "legendgroup": "Atalanta",
         "marker": {
          "color": "#1F4E79",
          "symbol": "circle"
         },
         "mode": "markers",
         "name": "Atalanta",
         "orientation": "v",
         "showlegend": false,
         "type": "scatter",
         "x": [
          25,
          27,
          null,
          null
         ],
         "xaxis": "x2",
         "y": [
          7.89,
          7.63,
          6.69,
          6.56
         ],
         "yaxis": "y2"
        },
        {
         "hovertemplate": "<b>%{hovertext}</b><br><br>Squadra=Torino<br>R=P<br>Qt.A M=%{x}<br>Fm=%{y}<extra></extra>",
         "hovertext": [
          "Milinkovic-Savic",
          "Gemello"
         ],
         "legendgroup": "Torino",
         "marker": {
          "color": "#8B4513",
          "symbol": "circle"
         },
         "mode": "markers",
         "name": "Torino",
         "orientation": "v",
         "showlegend": true,
         "type": "scatter",
         "x": [
          12,
          null
         ],
         "xaxis": "x3",
         "y": [
          5.24,
          2.5
         ],
         "yaxis": "y3"
        },
        {
         "hovertemplate": "<b>%{hovertext}</b><br><br>Squadra=Torino<br>R=D<br>Qt.A M=%{x}<br>Fm=%{y}<extra></extra>",
         "hovertext": [
          "Buongiorno",
          "Bellanova",
          "Rodriguez",
          "Lazaro",
          "Schuurs",
          "Vojvoda",
          "Masina",
          "Djidji",
          "Lovato",
          "Soppy",
          "Zima",
          "Sazonov"
         ],
         "legendgroup": "Torino",
         "marker": {
          "color": "#8B4513",
          "symbol": "circle"
         },
         "mode": "markers",
         "name": "Torino",
         "orientation": "v",
         "showlegend": false,
         "type": "scatter",
         "x": [
          null,
          null,
          null,
          5,
          6,
          7,
          8,
          null,
          null,
          null,
          null,
          null
         ],
         "xaxis": "x4",
         "y": [
          6.5,
          6.35,
          6.17,
          6.07,
          6.33,
          5.95,
          5.8,
          5.88,
          5.45,
          5.83,
          6,
          5.69
         ],
         "yaxis": "y4"
        },
        {
         "hovertemplate": "<b>%{hovertext}</b><br><br>Squadra=Torino<br>R=C<br>Qt.A M=%{x}<br>Fm=%{y}<extra></extra>",
         "hovertext": [
          "Vlasic",
          "Ilic",
          "Radonjic",
          "Ricci",
          "Linetty",
          "Tameze",
          "Gineitis"
         ],
         "legendgroup": "Torino",
         "marker": {
          "color": "#8B4513",
          "symbol": "circle"
         },
         "mode": "markers",
         "name": "Torino",
         "orientation": "v",
         "showlegend": false,
         "type": "scatter",
         "x": [
          13,
          9,
          null,
          10,
          4,
          6,
          3
         ],
         "xaxis": "x",
         "y": [
          6.3,
          6.38,
          7.19,
          5.87,
          5.69,
          5.73,
          5.95
         ],
         "yaxis": "y"
        },
        {
         "hovertemplate": "<b>%{hovertext}</b><br><br>Squadra=Torino<br>R=A<br>Qt.A M=%{x}<br>Fm=%{y}<extra></extra>",
         "hovertext": [
          "Zapata",
          "Sanabria",
          "Pellegri",
          "Okereke",
          "Karamoh"
         ],
         "legendgroup": "Torino",
         "marker": {
          "color": "#8B4513",
          "symbol": "circle"
         },
         "mode": "markers",
         "name": "Torino",
         "orientation": "v",
         "showlegend": false,
         "type": "scatter",
         "x": [
          25,
          9,
          null,
          null,
          1
         ],
         "xaxis": "x2",
         "y": [
          7.36,
          6.24,
          6.03,
          5.8,
          6.1
         ],
         "yaxis": "y2"
        },
        {
         "hovertemplate": "<b>%{hovertext}</b><br><br>Squadra=Empoli<br>R=P<br>Qt.A M=%{x}<br>Fm=%{y}<extra></extra>",
         "hovertext": [
          "Caprile",
          "Berisha",
          "Perisan"
         ],
         "legendgroup": "Empoli",
         "marker": {
          "color": "#006BB6",
          "symbol": "circle"
         },
         "mode": "markers",
         "name": "Empoli",
         "orientation": "v",
         "showlegend": true,
         "type": "scatter",
         "x": [
          null,
          null,
          1
         ],
         "xaxis": "x3",
         "y": [
          5.22,
          4.54,
          3
         ],
         "yaxis": "y3"
        },
        {
         "hovertemplate": "<b>%{hovertext}</b><br><br>Squadra=Empoli<br>R=D<br>Qt.A M=%{x}<br>Fm=%{y}<extra></extra>",
         "hovertext": [
          "Luperto",
          "Bereszynski",
          "Walukiewicz",
          "Ismajli",
          "Bastoni",
          "Cacace",
          "Pezzella Giu.",
          "Ebuehi"
         ],
         "legendgroup": "Empoli",
         "marker": {
          "color": "#006BB6",
          "symbol": "circle"
         },
         "mode": "markers",
         "name": "Empoli",
         "orientation": "v",
         "showlegend": false,
         "type": "scatter",
         "x": [
          null,
          null,
          null,
          8,
          null,
          3,
          7,
          3
         ],
         "xaxis": "x4",
         "y": [
          6.05,
          5.83,
          5.65,
          5.68,
          6,
          5.66,
          5.5,
          5.87
         ],
         "yaxis": "y4"
        },
        {
         "hovertemplate": "<b>%{hovertext}</b><br><br>Squadra=Empoli<br>R=C<br>Qt.A M=%{x}<br>Fm=%{y}<extra></extra>",
         "hovertext": [
          "Zurkowski",
          "Marin",
          "Kovalenko",
          "Gyasi",
          "Fazzini",
          "Maleh",
          "Grassi",
          "Ranocchia",
          "Haas"
         ],
         "legendgroup": "Empoli",
         "marker": {
          "color": "#006BB6",
          "symbol": "circle"
         },
         "mode": "markers",
         "name": "Empoli",
         "orientation": "v",
         "showlegend": false,
         "type": "scatter",
         "x": [
          9,
          null,
          null,
          9,
          6,
          4,
          4,
          null,
          3
         ],
         "xaxis": "x",
         "y": [
          6.81,
          6.02,
          6.16,
          5.69,
          5.96,
          5.66,
          5.77,
          5.72,
          5
         ],
         "yaxis": "y"
        },
        {
         "hovertemplate": "<b>%{hovertext}</b><br><br>Squadra=Empoli<br>R=A<br>Qt.A M=%{x}<br>Fm=%{y}<extra></extra>",
         "hovertext": [
          "Niang",
          "Cambiaghi",
          "Cancellieri",
          "Cerri",
          "Caputo",
          "Destro",
          "Shpendi"
         ],
         "legendgroup": "Empoli",
         "marker": {
          "color": "#006BB6",
          "symbol": "circle"
         },
         "mode": "markers",
         "name": "Empoli",
         "orientation": "v",
         "showlegend": false,
         "type": "scatter",
         "x": [
          null,
          null,
          null,
          null,
          null,
          null,
          null
         ],
         "xaxis": "x2",
         "y": [
          7.68,
          6.2,
          6.31,
          6.05,
          6.15,
          5.59,
          5.72
         ],
         "yaxis": "y2"
        },
        {
         "hovertemplate": "<b>%{hovertext}</b><br><br>Squadra=Napoli<br>R=P<br>Qt.A M=%{x}<br>Fm=%{y}<extra></extra>",
         "hovertext": [
          "Meret",
          "Gollini",
          "Contini"
         ],
         "legendgroup": "Napoli",
         "marker": {
          "color": "#00FFFF",
          "symbol": "circle"
         },
         "mode": "markers",
         "name": "Napoli",
         "orientation": "v",
         "showlegend": true,
         "type": "scatter",
         "x": [
          15,
          null,
          1
         ],
         "xaxis": "x3",
         "y": [
          4.97,
          4.86,
          6
         ],
         "yaxis": "y3"
        },
        {
         "hovertemplate": "<b>%{hovertext}</b><br><br>Squadra=Napoli<br>R=D<br>Qt.A M=%{x}<br>Fm=%{y}<extra></extra>",
         "hovertext": [
          "Di Lorenzo",
          "Rrahmani",
          "Mazzocchi",
          "Ostigard",
          "Olivera",
          "Juan Jesus",
          "Mario",
          "Natan"
         ],
         "legendgroup": "Napoli",
         "marker": {
          "color": "#00FFFF",
          "symbol": "circle"
         },
         "mode": "markers",
         "name": "Napoli",
         "orientation": "v",
         "showlegend": false,
         "type": "scatter",
         "x": [
          20,
          11,
          4,
          null,
          8,
          4,
          2,
          null
         ],
         "xaxis": "x4",
         "y": [
          6.21,
          6.15,
          5.64,
          6,
          5.89,
          5.67,
          5.74,
          5.69
         ],
         "yaxis": "y4"
        },
        {
         "hovertemplate": "<b>%{hovertext}</b><br><br>Squadra=Napoli<br>R=C<br>Qt.A M=%{x}<br>Fm=%{y}<extra></extra>",
         "hovertext": [
          "Politano",
          "Zielinski",
          "Elmas",
          "Lobotka",
          "Zambo Anguissa",
          "Traore'",
          "Cajuste",
          "Lindstrom",
          "Demme"
         ],
         "legendgroup": "Napoli",
         "marker": {
          "color": "#00FFFF",
          "symbol": "circle"
         },
         "mode": "markers",
         "name": "Napoli",
         "orientation": "v",
         "showlegend": false,
         "type": "scatter",
         "x": [
          22,
          null,
          null,
          10,
          12,
          null,
          null,
          null,
          null
         ],
         "xaxis": "x",
         "y": [
          6.89,
          6.33,
          6.56,
          5.91,
          5.85,
          5.75,
          5.68,
          5.84,
          6.5
         ],
         "yaxis": "y"
        },
        {
         "hovertemplate": "<b>%{hovertext}</b><br><br>Squadra=Napoli<br>R=A<br>Qt.A M=%{x}<br>Fm=%{y}<extra></extra>",
         "hovertext": [
          "Osimhen",
          "Kvaratskhelia",
          "Ngonge",
          "Raspadori",
          "Simeone"
         ],
         "legendgroup": "Napoli",
         "marker": {
          "color": "#00FFFF",
          "symbol": "circle"
         },
         "mode": "markers",
         "name": "Napoli",
         "orientation": "v",
         "showlegend": false,
         "type": "scatter",
         "x": [
          34,
          30,
          10,
          11,
          10
         ],
         "xaxis": "x2",
         "y": [
          7.88,
          7.25,
          6.86,
          6.44,
          5.82
         ],
         "yaxis": "y2"
        },
        {
         "hovertemplate": "<b>%{hovertext}</b><br><br>Squadra=Verona<br>R=P<br>Qt.A M=%{x}<br>Fm=%{y}<extra></extra>",
         "hovertext": [
          "Montipo'",
          "Perilli"
         ],
         "legendgroup": "Verona",
         "marker": {
          "color": "#FFFF00",
          "symbol": "circle"
         },
         "mode": "markers",
         "name": "Verona",
         "orientation": "v",
         "showlegend": true,
         "type": "scatter",
         "x": [
          8,
          1
         ],
         "xaxis": "x3",
         "y": [
          4.99,
          5.5
         ],
         "yaxis": "y3"
        },
        {
         "hovertemplate": "<b>%{hovertext}</b><br><br>Squadra=Verona<br>R=D<br>Qt.A M=%{x}<br>Fm=%{y}<extra></extra>",
         "hovertext": [
          "Magnani",
          "Coppola",
          "Cabal",
          "Dawidowicz",
          "Vinagre",
          "Centonze",
          "Amione"
         ],
         "legendgroup": "Verona",
         "marker": {
          "color": "#FFFF00",
          "symbol": "circle"
         },
         "mode": "markers",
         "name": "Verona",
         "orientation": "v",
         "showlegend": false,
         "type": "scatter",
         "x": [
          3,
          5,
          null,
          5,
          null,
          null,
          null
         ],
         "xaxis": "x4",
         "y": [
          5.9,
          5.92,
          5.66,
          5.6,
          5.79,
          5.67,
          5.56
         ],
         "yaxis": "y4"
        },
        {
         "hovertemplate": "<b>%{hovertext}</b><br><br>Squadra=Verona<br>R=C<br>Qt.A M=%{x}<br>Fm=%{y}<extra></extra>",
         "hovertext": [
          "Suslov",
          "Folorunsho",
          "Lazovic",
          "Duda",
          "Serdar",
          "Mitrovic",
          "Saponara",
          "Hongla",
          "Tchatchoua",
          "Mboula",
          "Dani Silva",
          "Belahyane"
         ],
         "legendgroup": "Verona",
         "marker": {
          "color": "#FFFF00",
          "symbol": "circle"
         },
         "mode": "markers",
         "name": "Verona",
         "orientation": "v",
         "showlegend": false,
         "type": "scatter",
         "x": [
          13,
          null,
          10,
          8,
          5,
          2,
          null,
          null,
          null,
          null,
          2,
          2
         ],
         "xaxis": "x",
         "y": [
          6.47,
          6.41,
          6.19,
          5.98,
          5.96,
          5.9,
          6,
          5.82,
          5.76,
          5.86,
          5.72,
          6.25
         ],
         "yaxis": "y"
        },
        {
         "hovertemplate": "<b>%{hovertext}</b><br><br>Squadra=Verona<br>R=A<br>Qt.A M=%{x}<br>Fm=%{y}<extra></extra>",
         "hovertext": [
          "Noslin",
          "Swiderski",
          "Bonazzoli",
          "Henry",
          "Tavsan",
          "Cruz"
         ],
         "legendgroup": "Verona",
         "marker": {
          "color": "#FFFF00",
          "symbol": "circle"
         },
         "mode": "markers",
         "name": "Verona",
         "orientation": "v",
         "showlegend": false,
         "type": "scatter",
         "x": [
          null,
          null,
          null,
          null,
          null,
          1
         ],
         "xaxis": "x2",
         "y": [
          7.41,
          6.54,
          6.3,
          6.32,
          6,
          5.67
         ],
         "yaxis": "y2"
        },
        {
         "hovertemplate": "<b>%{hovertext}</b><br><br>Squadra=Lecce<br>R=P<br>Qt.A M=%{x}<br>Fm=%{y}<extra></extra>",
         "hovertext": [
          "Falcone"
         ],
         "legendgroup": "Lecce",
         "marker": {
          "color": "#FFD700",
          "symbol": "circle"
         },
         "mode": "markers",
         "name": "Lecce",
         "orientation": "v",
         "showlegend": true,
         "type": "scatter",
         "x": [
          9
         ],
         "xaxis": "x3",
         "y": [
          4.91
         ],
         "yaxis": "y3"
        },
        {
         "hovertemplate": "<b>%{hovertext}</b><br><br>Squadra=Lecce<br>R=D<br>Qt.A M=%{x}<br>Fm=%{y}<extra></extra>",
         "hovertext": [
          "Gendrey",
          "Gallo",
          "Pongracic",
          "Dorgu",
          "Baschirotto",
          "Venuti",
          "Touba"
         ],
         "legendgroup": "Lecce",
         "marker": {
          "color": "#FFD700",
          "symbol": "circle"
         },
         "mode": "markers",
         "name": "Lecce",
         "orientation": "v",
         "showlegend": false,
         "type": "scatter",
         "x": [
          null,
          5,
          null,
          7,
          10,
          null,
          null
         ],
         "xaxis": "x4",
         "y": [
          6.09,
          6,
          5.81,
          6,
          5.72,
          5.42,
          5.33
         ],
         "yaxis": "y4"
        },
        {
         "hovertemplate": "<b>%{hovertext}</b><br><br>Squadra=Lecce<br>R=C<br>Qt.A M=%{x}<br>Fm=%{y}<extra></extra>",
         "hovertext": [
          "Oudin",
          "Strefezza",
          "Gonzalez",
          "Blin",
          "Rafia",
          "Ramadani",
          "Kaba"
         ],
         "legendgroup": "Lecce",
         "marker": {
          "color": "#FFD700",
          "symbol": "circle"
         },
         "mode": "markers",
         "name": "Lecce",
         "orientation": "v",
         "showlegend": false,
         "type": "scatter",
         "x": [
          7,
          null,
          null,
          null,
          4,
          7,
          1
         ],
         "xaxis": "x",
         "y": [
          6.48,
          5.87,
          5.94,
          5.75,
          5.88,
          5.72,
          5.73
         ],
         "yaxis": "y"
        },
        {
         "hovertemplate": "<b>%{hovertext}</b><br><br>Squadra=Lecce<br>R=A<br>Qt.A M=%{x}<br>Fm=%{y}<extra></extra>",
         "hovertext": [
          "Piccoli",
          "Krstovic",
          "Almqvist",
          "Sansone",
          "Banda",
          "Di Francesco",
          "Pierotti",
          "Burnete"
         ],
         "legendgroup": "Lecce",
         "marker": {
          "color": "#FFD700",
          "symbol": "circle"
         },
         "mode": "markers",
         "name": "Lecce",
         "orientation": "v",
         "showlegend": false,
         "type": "scatter",
         "x": [
          null,
          16,
          null,
          null,
          10,
          null,
          4,
          1
         ],
         "xaxis": "x2",
         "y": [
          6.41,
          6.3,
          6.13,
          6.3,
          6.33,
          10,
          6.21,
          6
         ],
         "yaxis": "y2"
        },
        {
         "hovertemplate": "<b>%{hovertext}</b><br><br>Squadra=Lazio<br>R=P<br>Qt.A M=%{x}<br>Fm=%{y}<extra></extra>",
         "hovertext": [
          "Provedel",
          "Mandas"
         ],
         "legendgroup": "Lazio",
         "marker": {
          "color": "#87CEEB",
          "symbol": "circle"
         },
         "mode": "markers",
         "name": "Lazio",
         "orientation": "v",
         "showlegend": true,
         "type": "scatter",
         "x": [
          11,
          1
         ],
         "xaxis": "x3",
         "y": [
          5.13,
          5.5
         ],
         "yaxis": "y3"
        },
        {
         "hovertemplate": "<b>%{hovertext}</b><br><br>Squadra=Lazio<br>R=D<br>Qt.A M=%{x}<br>Fm=%{y}<extra></extra>",
         "hovertext": [
          "Patric",
          "Romagnoli",
          "Marusic",
          "Lazzari",
          "Gila",
          "Hysaj",
          "Pellegrini",
          "Casale"
         ],
         "legendgroup": "Lazio",
         "marker": {
          "color": "#87CEEB",
          "symbol": "circle"
         },
         "mode": "markers",
         "name": "Lazio",
         "orientation": "v",
         "showlegend": false,
         "type": "scatter",
         "x": [
          4,
          9,
          7,
          6,
          4,
          4,
          2,
          null
         ],
         "xaxis": "x4",
         "y": [
          6.29,
          5.8,
          5.73,
          5.9,
          5.93,
          5.65,
          5.76,
          5.55
         ],
         "yaxis": "y4"
        },
        {
         "hovertemplate": "<b>%{hovertext}</b><br><br>Squadra=Lazio<br>R=C<br>Qt.A M=%{x}<br>Fm=%{y}<extra></extra>",
         "hovertext": [
          "Luis Alberto",
          "Vecino",
          "Felipe Anderson",
          "Zaccagni",
          "Guendouzi",
          "Kamada",
          "Rovella",
          "Cataldi"
         ],
         "legendgroup": "Lazio",
         "marker": {
          "color": "#87CEEB",
          "symbol": "circle"
         },
         "mode": "markers",
         "name": "Lazio",
         "orientation": "v",
         "showlegend": false,
         "type": "scatter",
         "x": [
          null,
          8,
          null,
          26,
          9,
          null,
          7,
          null
         ],
         "xaxis": "x",
         "y": [
          6.84,
          6.78,
          6.59,
          6.77,
          6.21,
          6.1,
          6.07,
          5.95
         ],
         "yaxis": "y"
        },
        {
         "hovertemplate": "<b>%{hovertext}</b><br><br>Squadra=Lazio<br>R=A<br>Qt.A M=%{x}<br>Fm=%{y}<extra></extra>",
         "hovertext": [
          "Immobile",
          "Castellanos",
          "Isaksen",
          "Pedro"
         ],
         "legendgroup": "Lazio",
         "marker": {
          "color": "#87CEEB",
          "symbol": "circle"
         },
         "mode": "markers",
         "name": "Lazio",
         "orientation": "v",
         "showlegend": false,
         "type": "scatter",
         "x": [
          null,
          23,
          13,
          2
         ],
         "xaxis": "x2",
         "y": [
          6.59,
          6.32,
          6.46,
          6
         ],
         "yaxis": "y2"
        },
        {
         "hovertemplate": "<b>%{hovertext}</b><br><br>Squadra=Genoa<br>R=P<br>Qt.A M=%{x}<br>Fm=%{y}<extra></extra>",
         "hovertext": [
          "Martinez",
          "Leali"
         ],
         "legendgroup": "Genoa",
         "marker": {
          "color": "#D91E18",
          "symbol": "circle"
         },
         "mode": "markers",
         "name": "Genoa",
         "orientation": "v",
         "showlegend": true,
         "type": "scatter",
         "x": [
          null,
          1
         ],
         "xaxis": "x3",
         "y": [
          4.97,
          5.25
         ],
         "yaxis": "y3"
        },
        {
         "hovertemplate": "<b>%{hovertext}</b><br><br>Squadra=Genoa<br>R=D<br>Qt.A M=%{x}<br>Fm=%{y}<extra></extra>",
         "hovertext": [
          "Dragusin",
          "Vasquez",
          "Bani",
          "Sabelli",
          "Spence",
          "Martin",
          "Vogliacco",
          "Haps",
          "De Winter",
          "Biraschi",
          "Hefti",
          "Cittadini",
          "Matturro"
         ],
         "legendgroup": "Genoa",
         "marker": {
          "color": "#D91E18",
          "symbol": "circle"
         },
         "mode": "markers",
         "name": "Genoa",
         "orientation": "v",
         "showlegend": false,
         "type": "scatter",
         "x": [
          null,
          10,
          7,
          8,
          null,
          5,
          5,
          null,
          5,
          null,
          null,
          null,
          1
         ],
         "xaxis": "x4",
         "y": [
          6.45,
          6.19,
          6.07,
          5.87,
          5.97,
          5.92,
          5.97,
          6,
          5.74,
          9,
          5.7,
          5.83,
          4.83
         ],
         "yaxis": "y4"
        },
        {
         "hovertemplate": "<b>%{hovertext}</b><br><br>Squadra=Genoa<br>R=C<br>Qt.A M=%{x}<br>Fm=%{y}<extra></extra>",
         "hovertext": [
          "Gudmundsson",
          "Frendrup",
          "Malinovskyi",
          "Badelj",
          "Thorsby",
          "Messias",
          "Strootman",
          "Kutlu",
          "Bohinen",
          "Jagiello"
         ],
         "legendgroup": "Genoa",
         "marker": {
          "color": "#D91E18",
          "symbol": "circle"
         },
         "mode": "markers",
         "name": "Genoa",
         "orientation": "v",
         "showlegend": false,
         "type": "scatter",
         "x": [
          null,
          13,
          11,
          7,
          4,
          10,
          null,
          null,
          1,
          null
         ],
         "xaxis": "x",
         "y": [
          7.64,
          6.42,
          6.63,
          6.14,
          6.31,
          6.35,
          5.96,
          6,
          5.82,
          5
         ],
         "yaxis": "y"
        },
        {
         "hovertemplate": "<b>%{hovertext}</b><br><br>Squadra=Genoa<br>R=A<br>Qt.A M=%{x}<br>Fm=%{y}<extra></extra>",
         "hovertext": [
          "Retegui",
          "Ekuban",
          "Vitinha",
          "Puscas",
          "Ankeye"
         ],
         "legendgroup": "Genoa",
         "marker": {
          "color": "#D91E18",
          "symbol": "circle"
         },
         "mode": "markers",
         "name": "Genoa",
         "orientation": "v",
         "showlegend": false,
         "type": "scatter",
         "x": [
          null,
          9,
          11,
          null,
          1
         ],
         "xaxis": "x2",
         "y": [
          6.79,
          6.65,
          7.33,
          5.33,
          5.75
         ],
         "yaxis": "y2"
        },
        {
         "hovertemplate": "<b>%{hovertext}</b><br><br>Squadra=Udinese<br>R=P<br>Qt.A M=%{x}<br>Fm=%{y}<extra></extra>",
         "hovertext": [
          "Okoye",
          "Silvestri"
         ],
         "legendgroup": "Udinese",
         "marker": {
          "color": "#808080",
          "symbol": "circle"
         },
         "mode": "markers",
         "name": "Udinese",
         "orientation": "v",
         "showlegend": true,
         "type": "scatter",
         "x": [
          8,
          null
         ],
         "xaxis": "x3",
         "y": [
          4.93,
          4.18
         ],
         "yaxis": "y3"
        },
        {
         "hovertemplate": "<b>%{hovertext}</b><br><br>Squadra=Udinese<br>R=D<br>Qt.A M=%{x}<br>Fm=%{y}<extra></extra>",
         "hovertext": [
          "Kamara",
          "Bijol",
          "Perez",
          "Ehizibue",
          "Kristensen",
          "Zemura",
          "Ebosele",
          "Ferreira",
          "Kabasele",
          "Guessand",
          "Giannetti"
         ],
         "legendgroup": "Udinese",
         "marker": {
          "color": "#808080",
          "symbol": "circle"
         },
         "mode": "markers",
         "name": "Udinese",
         "orientation": "v",
         "showlegend": false,
         "type": "scatter",
         "x": [
          5,
          9,
          null,
          7,
          4,
          3,
          null,
          null,
          4,
          null,
          6
         ],
         "xaxis": "x4",
         "y": [
          6.1,
          6,
          5.82,
          5.82,
          5.75,
          5.98,
          5.73,
          5.55,
          5.8,
          5.5,
          5.64
         ],
         "yaxis": "y4"
        },
        {
         "hovertemplate": "<b>%{hovertext}</b><br><br>Squadra=Udinese<br>R=C<br>Qt.A M=%{x}<br>Fm=%{y}<extra></extra>",
         "hovertext": [
          "Samardzic",
          "Pereyra",
          "Walace",
          "Lovric",
          "Zarraga",
          "Payero"
         ],
         "legendgroup": "Udinese",
         "marker": {
          "color": "#808080",
          "symbol": "circle"
         },
         "mode": "markers",
         "name": "Udinese",
         "orientation": "v",
         "showlegend": false,
         "type": "scatter",
         "x": [
          null,
          null,
          null,
          10,
          4,
          7
         ],
         "xaxis": "x",
         "y": [
          6.74,
          6.58,
          6,
          6.09,
          6.93,
          6.02
         ],
         "yaxis": "y"
        },
        {
         "hovertemplate": "<b>%{hovertext}</b><br><br>Squadra=Udinese<br>R=A<br>Qt.A M=%{x}<br>Fm=%{y}<extra></extra>",
         "hovertext": [
          "Beto",
          "Lucca",
          "Thauvin",
          "Davis",
          "Success",
          "Brenner"
         ],
         "legendgroup": "Udinese",
         "marker": {
          "color": "#808080",
          "symbol": "circle"
         },
         "mode": "markers",
         "name": "Udinese",
         "orientation": "v",
         "showlegend": false,
         "type": "scatter",
         "x": [
          null,
          13,
          11,
          5,
          null,
          9
         ],
         "xaxis": "x2",
         "y": [
          5.5,
          6.75,
          6.84,
          6.6,
          5.82,
          5.88
         ],
         "yaxis": "y2"
        },
        {
         "hovertemplate": "<b>%{hovertext}</b><br><br>Squadra=Milan<br>R=P<br>Qt.A M=%{x}<br>Fm=%{y}<extra></extra>",
         "hovertext": [
          "Maignan",
          "Sportiello",
          "Mirante",
          "Nava"
         ],
         "legendgroup": "Milan",
         "marker": {
          "color": "#FF0000",
          "symbol": "circle"
         },
         "mode": "markers",
         "name": "Milan",
         "orientation": "v",
         "showlegend": true,
         "type": "scatter",
         "x": [
          14,
          1,
          null,
          1
         ],
         "xaxis": "x3",
         "y": [
          4.86,
          4.57,
          4.75,
          4.5
         ],
         "yaxis": "y3"
        },
        {
         "hovertemplate": "<b>%{hovertext}</b><br><br>Squadra=Milan<br>R=D<br>Qt.A M=%{x}<br>Fm=%{y}<extra></extra>",
         "hovertext": [
          "Hernandez",
          "Tomori",
          "Calabria",
          "Florenzi",
          "Gabbia",
          "Kjaer",
          "Terracciano",
          "Kalulu",
          "Thiaw",
          "Bartesaghi",
          "Simic",
          "Jimenez"
         ],
         "legendgroup": "Milan",
         "marker": {
          "color": "#FF0000",
          "symbol": "circle"
         },
         "mode": "markers",
         "name": "Milan",
         "orientation": "v",
         "showlegend": false,
         "type": "scatter",
         "x": [
          20,
          13,
          6,
          null,
          3,
          null,
          1,
          null,
          3,
          null,
          null,
          null
         ],
         "xaxis": "x4",
         "y": [
          6.45,
          6.32,
          6.03,
          6.19,
          6.26,
          5.87,
          5.89,
          5.86,
          5.4,
          6,
          7.17,
          4.5
         ],
         "yaxis": "y4"
        },
        {
         "hovertemplate": "<b>%{hovertext}</b><br><br>Squadra=Milan<br>R=C<br>Qt.A M=%{x}<br>Fm=%{y}<extra></extra>",
         "hovertext": [
          "Pulisic",
          "Loftus-Cheek",
          "Reijnders",
          "Bennacer",
          "Chukwueze",
          "Adli",
          "Musah",
          "Krunic",
          "Pobega",
          "Romero"
         ],
         "legendgroup": "Milan",
         "marker": {
          "color": "#FF0000",
          "symbol": "circle"
         },
         "mode": "markers",
         "name": "Milan",
         "orientation": "v",
         "showlegend": false,
         "type": "scatter",
         "x": [
          29,
          18,
          11,
          8,
          9,
          null,
          5,
          null,
          null,
          null
         ],
         "xaxis": "x",
         "y": [
          7.5,
          6.69,
          6.38,
          6.47,
          6.25,
          6.14,
          5.86,
          5.72,
          5.93,
          5.75
         ],
         "yaxis": "y"
        },
        {
         "hovertemplate": "<b>%{hovertext}</b><br><br>Squadra=Milan<br>R=A<br>Qt.A M=%{x}<br>Fm=%{y}<extra></extra>",
         "hovertext": [
          "Giroud",
          "Rafael Leao",
          "Okafor",
          "Jovic",
          "Traore'"
         ],
         "legendgroup": "Milan",
         "marker": {
          "color": "#FF0000",
          "symbol": "circle"
         },
         "mode": "markers",
         "name": "Milan",
         "orientation": "v",
         "showlegend": false,
         "type": "scatter",
         "x": [
          null,
          null,
          12,
          8,
          null
         ],
         "xaxis": "x2",
         "y": [
          7.71,
          7.41,
          7.02,
          6.79,
          10
         ],
         "yaxis": "y2"
        },
        {
         "hovertemplate": "<b>%{hovertext}</b><br><br>Squadra=Sassuolo<br>R=P<br>Qt.A M=%{x}<br>Fm=%{y}<extra></extra>",
         "hovertext": [
          "Consigli",
          "Cragno"
         ],
         "legendgroup": "Sassuolo",
         "marker": {
          "color": "#228B22",
          "symbol": "circle"
         },
         "mode": "markers",
         "name": "Sassuolo",
         "orientation": "v",
         "showlegend": true,
         "type": "scatter",
         "x": [
          null,
          null
         ],
         "xaxis": "x3",
         "y": [
          4.27,
          3.67
         ],
         "yaxis": "y3"
        },
        {
         "hovertemplate": "<b>%{hovertext}</b><br><br>Squadra=Sassuolo<br>R=D<br>Qt.A M=%{x}<br>Fm=%{y}<extra></extra>",
         "hovertext": [
          "Toljan",
          "Erlic",
          "Doig",
          "Ferrari",
          "Viti",
          "Vina",
          "Missori",
          "Pedersen",
          "Tressoldi",
          "Kumbulla"
         ],
         "legendgroup": "Sassuolo",
         "marker": {
          "color": "#228B22",
          "symbol": "circle"
         },
         "mode": "markers",
         "name": "Sassuolo",
         "orientation": "v",
         "showlegend": false,
         "type": "scatter",
         "x": [
          null,
          null,
          null,
          null,
          null,
          null,
          null,
          null,
          null,
          null
         ],
         "xaxis": "x4",
         "y": [
          6.06,
          5.78,
          5.77,
          5.59,
          5.96,
          5.6,
          5.75,
          5.72,
          5.13,
          4.9
         ],
         "yaxis": "y4"
        },
        {
         "hovertemplate": "<b>%{hovertext}</b><br><br>Squadra=Sassuolo<br>R=C<br>Qt.A M=%{x}<br>Fm=%{y}<extra></extra>",
         "hovertext": [
          "Thorstvedt",
          "Bajrami",
          "Matheus Henrique",
          "Racic",
          "Volpato",
          "Boloca",
          "Lipani",
          "Obiang",
          "Castillejo"
         ],
         "legendgroup": "Sassuolo",
         "marker": {
          "color": "#228B22",
          "symbol": "circle"
         },
         "mode": "markers",
         "name": "Sassuolo",
         "orientation": "v",
         "showlegend": false,
         "type": "scatter",
         "x": [
          null,
          null,
          null,
          null,
          null,
          null,
          null,
          null,
          null
         ],
         "xaxis": "x",
         "y": [
          6.4,
          6.27,
          5.92,
          6.08,
          6,
          5.82,
          6,
          5.5,
          5.68
         ],
         "yaxis": "y"
        },
        {
         "hovertemplate": "<b>%{hovertext}</b><br><br>Squadra=Sassuolo<br>R=A<br>Qt.A M=%{x}<br>Fm=%{y}<extra></extra>",
         "hovertext": [
          "Berardi",
          "Pinamonti",
          "Lauriente'",
          "Defrel",
          "Mulattieri",
          "Ceide"
         ],
         "legendgroup": "Sassuolo",
         "marker": {
          "color": "#228B22",
          "symbol": "circle"
         },
         "mode": "markers",
         "name": "Sassuolo",
         "orientation": "v",
         "showlegend": false,
         "type": "scatter",
         "x": [
          null,
          null,
          null,
          null,
          null,
          null
         ],
         "xaxis": "x2",
         "y": [
          8.06,
          6.7,
          6.46,
          6.31,
          5.88,
          5.64
         ],
         "yaxis": "y2"
        },
        {
         "hovertemplate": "<b>%{hovertext}</b><br><br>Squadra=Cagliari<br>R=P<br>Qt.A M=%{x}<br>Fm=%{y}<extra></extra>",
         "hovertext": [
          "Scuffet",
          "Aresti",
          "Radunovic"
         ],
         "legendgroup": "Cagliari",
         "marker": {
          "color": "#C71585",
          "symbol": "circle"
         },
         "mode": "markers",
         "name": "Cagliari",
         "orientation": "v",
         "showlegend": true,
         "type": "scatter",
         "x": [
          8,
          null,
          null
         ],
         "xaxis": "x3",
         "y": [
          4.31,
          5,
          4
         ],
         "yaxis": "y3"
        },
        {
         "hovertemplate": "<b>%{hovertext}</b><br><br>Squadra=Cagliari<br>R=D<br>Qt.A M=%{x}<br>Fm=%{y}<extra></extra>",
         "hovertext": [
          "Mina",
          "Zappa",
          "Dossena",
          "Augello",
          "Goldaniga",
          "Azzi",
          "Di Pardo",
          "Obert",
          "Hatzidiakos",
          "Wieteska"
         ],
         "legendgroup": "Cagliari",
         "marker": {
          "color": "#C71585",
          "symbol": "circle"
         },
         "mode": "markers",
         "name": "Cagliari",
         "orientation": "v",
         "showlegend": false,
         "type": "scatter",
         "x": [
          8,
          7,
          null,
          5,
          null,
          5,
          null,
          1,
          2,
          3
         ],
         "xaxis": "x4",
         "y": [
          6.27,
          5.91,
          5.94,
          5.81,
          5.54,
          5.82,
          5.67,
          5.31,
          5.46,
          5.5
         ],
         "yaxis": "y4"
        },
        {
         "hovertemplate": "<b>%{hovertext}</b><br><br>Squadra=Cagliari<br>R=C<br>Qt.A M=%{x}<br>Fm=%{y}<extra></extra>",
         "hovertext": [
          "Gaetano",
          "Viola",
          "Nandez",
          "Oristanio",
          "Prati",
          "Sulemana",
          "Deiola",
          "Jankto",
          "Makoumbou",
          "Mancosu"
         ],
         "legendgroup": "Cagliari",
         "marker": {
          "color": "#C71585",
          "symbol": "circle"
         },
         "mode": "markers",
         "name": "Cagliari",
         "orientation": "v",
         "showlegend": false,
         "type": "scatter",
         "x": [
          7,
          5,
          null,
          null,
          5,
          null,
          5,
          3,
          4,
          null
         ],
         "xaxis": "x",
         "y": [
          6.88,
          6.7,
          6.2,
          6.38,
          6,
          6.13,
          5.59,
          6.16,
          5.61,
          4.33
         ],
         "yaxis": "y"
        },
        {
         "hovertemplate": "<b>%{hovertext}</b><br><br>Squadra=Cagliari<br>R=A<br>Qt.A M=%{x}<br>Fm=%{y}<extra></extra>",
         "hovertext": [
          "Luvumbo",
          "Shomurodov",
          "Lapadula",
          "Pavoletti",
          "Petagna"
         ],
         "legendgroup": "Cagliari",
         "marker": {
          "color": "#C71585",
          "symbol": "circle"
         },
         "mode": "markers",
         "name": "Cagliari",
         "orientation": "v",
         "showlegend": false,
         "type": "scatter",
         "x": [
          12,
          null,
          8,
          3,
          null
         ],
         "xaxis": "x2",
         "y": [
          6.75,
          6.42,
          6.24,
          7.04,
          6
         ],
         "yaxis": "y2"
        },
        {
         "hovertemplate": "<b>%{hovertext}</b><br><br>Squadra=Frosinone<br>R=P<br>Qt.A M=%{x}<br>Fm=%{y}<extra></extra>",
         "hovertext": [
          "Turati",
          "Cerofolini"
         ],
         "legendgroup": "Frosinone",
         "marker": {
          "color": "#636efa",
          "symbol": "circle"
         },
         "mode": "markers",
         "name": "Frosinone",
         "orientation": "v",
         "showlegend": true,
         "type": "scatter",
         "x": [
          null,
          null
         ],
         "xaxis": "x3",
         "y": [
          4.42,
          4.25
         ],
         "yaxis": "y3"
        },
        {
         "hovertemplate": "<b>%{hovertext}</b><br><br>Squadra=Frosinone<br>R=D<br>Qt.A M=%{x}<br>Fm=%{y}<extra></extra>",
         "hovertext": [
          "Zortea",
          "Lirola",
          "Romagnoli",
          "Monterisi",
          "Valeri",
          "Marchizza",
          "Okoli",
          "Bonifazi",
          "Oyono",
          "Mateus Lusuardi"
         ],
         "legendgroup": "Frosinone",
         "marker": {
          "color": "#636efa",
          "symbol": "circle"
         },
         "mode": "markers",
         "name": "Frosinone",
         "orientation": "v",
         "showlegend": false,
         "type": "scatter",
         "x": [
          null,
          null,
          null,
          null,
          null,
          null,
          null,
          null,
          null,
          null
         ],
         "xaxis": "x4",
         "y": [
          6.63,
          6.02,
          5.83,
          6.25,
          5.57,
          6.19,
          5.62,
          5.75,
          5.75,
          5
         ],
         "yaxis": "y4"
        },
        {
         "hovertemplate": "<b>%{hovertext}</b><br><br>Squadra=Frosinone<br>R=C<br>Qt.A M=%{x}<br>Fm=%{y}<extra></extra>",
         "hovertext": [
          "Mazzitelli",
          "Brescianini",
          "Harroui",
          "Reinier",
          "Barrenechea",
          "Gelli",
          "Ibrahimovic",
          "Lulic",
          "Baez",
          "Garritano",
          "Bourabia"
         ],
         "legendgroup": "Frosinone",
         "marker": {
          "color": "#636efa",
          "symbol": "circle"
         },
         "mode": "markers",
         "name": "Frosinone",
         "orientation": "v",
         "showlegend": false,
         "type": "scatter",
         "x": [
          null,
          null,
          null,
          null,
          null,
          null,
          null,
          null,
          null,
          null,
          null
         ],
         "xaxis": "x",
         "y": [
          6.52,
          6.44,
          6.79,
          6.31,
          5.73,
          5.78,
          6.5,
          6,
          6.25,
          5.85,
          5.4
         ],
         "yaxis": "y"
        },
        {
         "hovertemplate": "<b>%{hovertext}</b><br><br>Squadra=Frosinone<br>R=A<br>Qt.A M=%{x}<br>Fm=%{y}<extra></extra>",
         "hovertext": [
          "Soule'",
          "Cheddira",
          "Kaio Jorge",
          "Cuni",
          "Seck",
          "Caso",
          "Borrelli",
          "Kvernadze",
          "Ghedjemis"
         ],
         "legendgroup": "Frosinone",
         "marker": {
          "color": "#636efa",
          "symbol": "circle"
         },
         "mode": "markers",
         "name": "Frosinone",
         "orientation": "v",
         "showlegend": false,
         "type": "scatter",
         "x": [
          null,
          null,
          null,
          null,
          null,
          null,
          null,
          null,
          null
         ],
         "xaxis": "x2",
         "y": [
          7.07,
          6.76,
          6.29,
          6.28,
          5.89,
          5.95,
          6,
          5.75,
          6.1
         ],
         "yaxis": "y2"
        },
        {
         "hovertemplate": "<b>%{hovertext}</b><br><br>Squadra=Salernitana<br>R=P<br>Qt.A M=%{x}<br>Fm=%{y}<extra></extra>",
         "hovertext": [
          "Ochoa",
          "Fiorillo",
          "Costil"
         ],
         "legendgroup": "Salernitana",
         "marker": {
          "color": "#8B0000",
          "symbol": "circle"
         },
         "mode": "markers",
         "name": "Salernitana",
         "orientation": "v",
         "showlegend": true,
         "type": "scatter",
         "x": [
          null,
          null,
          null
         ],
         "xaxis": "x3",
         "y": [
          4.21,
          3.88,
          3.96
         ],
         "yaxis": "y3"
        },
        {
         "hovertemplate": "<b>%{hovertext}</b><br><br>Squadra=Salernitana<br>R=D<br>Qt.A M=%{x}<br>Fm=%{y}<extra></extra>",
         "hovertext": [
          "Sambia",
          "Manolas",
          "Zanoli",
          "Pierozzi",
          "Boateng",
          "Bradaric",
          "Fazio",
          "Pirola",
          "Gyomber",
          "Daniliuc",
          "Pellegrino",
          "Pasalidis",
          "Bronn"
         ],
         "legendgroup": "Salernitana",
         "marker": {
          "color": "#8B0000",
          "symbol": "circle"
         },
         "mode": "markers",
         "name": "Salernitana",
         "orientation": "v",
         "showlegend": false,
         "type": "scatter",
         "x": [
          null,
          null,
          null,
          null,
          null,
          null,
          null,
          null,
          null,
          null,
          null,
          null,
          null
         ],
         "xaxis": "x4",
         "y": [
          6.09,
          5.81,
          5.75,
          6,
          5.83,
          5.74,
          5.85,
          5.54,
          5.07,
          5.36,
          5.3,
          5.36,
          5.75
         ],
         "yaxis": "y4"
        },
        {
         "hovertemplate": "<b>%{hovertext}</b><br><br>Squadra=Salernitana<br>R=C<br>Qt.A M=%{x}<br>Fm=%{y}<extra></extra>",
         "hovertext": [
          "Candreva",
          "Tchaouna",
          "Kastanos",
          "Maggiore",
          "Vignato",
          "Coulibaly",
          "Legowski",
          "Martegani",
          "Basic",
          "Gomis"
         ],
         "legendgroup": "Salernitana",
         "marker": {
          "color": "#8B0000",
          "symbol": "circle"
         },
         "mode": "markers",
         "name": "Salernitana",
         "orientation": "v",
         "showlegend": false,
         "type": "scatter",
         "x": [
          null,
          null,
          null,
          null,
          null,
          null,
          null,
          null,
          null,
          null
         ],
         "xaxis": "x",
         "y": [
          6.87,
          6.52,
          6.29,
          6.19,
          6.07,
          5.65,
          5.65,
          6,
          5.36,
          5.7
         ],
         "yaxis": "y"
        },
        {
         "hovertemplate": "<b>%{hovertext}</b><br><br>Squadra=Salernitana<br>R=A<br>Qt.A M=%{x}<br>Fm=%{y}<extra></extra>",
         "hovertext": [
          "Dia",
          "Simy",
          "Jovane",
          "Weissman",
          "Ikwuemesi",
          "Botheim",
          "Stewart"
         ],
         "legendgroup": "Salernitana",
         "marker": {
          "color": "#8B0000",
          "symbol": "circle"
         },
         "mode": "markers",
         "name": "Salernitana",
         "orientation": "v",
         "showlegend": false,
         "type": "scatter",
         "x": [
          null,
          null,
          null,
          null,
          null,
          null,
          null
         ],
         "xaxis": "x2",
         "y": [
          6.53,
          6.82,
          6.15,
          6,
          5.8,
          5.2,
          5.83
         ],
         "yaxis": "y2"
        }
       ],
       "layout": {
        "annotations": [
         {
          "font": {},
          "showarrow": false,
          "text": "R=C",
          "x": 0.245,
          "xanchor": "center",
          "xref": "paper",
          "y": 0.46499999999999997,
          "yanchor": "bottom",
          "yref": "paper"
         },
         {
          "font": {},
          "showarrow": false,
          "text": "R=A",
          "x": 0.755,
          "xanchor": "center",
          "xref": "paper",
          "y": 0.46499999999999997,
          "yanchor": "bottom",
          "yref": "paper"
         },
         {
          "font": {},
          "showarrow": false,
          "text": "R=P",
          "x": 0.245,
          "xanchor": "center",
          "xref": "paper",
          "y": 0.9999999999999999,
          "yanchor": "bottom",
          "yref": "paper"
         },
         {
          "font": {},
          "showarrow": false,
          "text": "R=D",
          "x": 0.755,
          "xanchor": "center",
          "xref": "paper",
          "y": 0.9999999999999999,
          "yanchor": "bottom",
          "yref": "paper"
         }
        ],
        "legend": {
         "title": {
          "text": "Squadra"
         },
         "tracegroupgap": 0
        },
        "template": {
         "data": {
          "bar": [
           {
            "error_x": {
             "color": "#2a3f5f"
            },
            "error_y": {
             "color": "#2a3f5f"
            },
            "marker": {
             "line": {
              "color": "#E5ECF6",
              "width": 0.5
             }
            },
            "type": "bar"
           }
          ],
          "barpolar": [
           {
            "marker": {
             "line": {
              "color": "#E5ECF6",
              "width": 0.5
             }
            },
            "type": "barpolar"
           }
          ],
          "carpet": [
           {
            "aaxis": {
             "endlinecolor": "#2a3f5f",
             "gridcolor": "white",
             "linecolor": "white",
             "minorgridcolor": "white",
             "startlinecolor": "#2a3f5f"
            },
            "baxis": {
             "endlinecolor": "#2a3f5f",
             "gridcolor": "white",
             "linecolor": "white",
             "minorgridcolor": "white",
             "startlinecolor": "#2a3f5f"
            },
            "type": "carpet"
           }
          ],
          "choropleth": [
           {
            "colorbar": {
             "outlinewidth": 0,
             "ticks": ""
            },
            "type": "choropleth"
           }
          ],
          "contour": [
           {
            "colorbar": {
             "outlinewidth": 0,
             "ticks": ""
            },
            "colorscale": [
             [
              0,
              "#0d0887"
             ],
             [
              0.1111111111111111,
              "#46039f"
             ],
             [
              0.2222222222222222,
              "#7201a8"
             ],
             [
              0.3333333333333333,
              "#9c179e"
             ],
             [
              0.4444444444444444,
              "#bd3786"
             ],
             [
              0.5555555555555556,
              "#d8576b"
             ],
             [
              0.6666666666666666,
              "#ed7953"
             ],
             [
              0.7777777777777778,
              "#fb9f3a"
             ],
             [
              0.8888888888888888,
              "#fdca26"
             ],
             [
              1,
              "#f0f921"
             ]
            ],
            "type": "contour"
           }
          ],
          "contourcarpet": [
           {
            "colorbar": {
             "outlinewidth": 0,
             "ticks": ""
            },
            "type": "contourcarpet"
           }
          ],
          "heatmap": [
           {
            "colorbar": {
             "outlinewidth": 0,
             "ticks": ""
            },
            "colorscale": [
             [
              0,
              "#0d0887"
             ],
             [
              0.1111111111111111,
              "#46039f"
             ],
             [
              0.2222222222222222,
              "#7201a8"
             ],
             [
              0.3333333333333333,
              "#9c179e"
             ],
             [
              0.4444444444444444,
              "#bd3786"
             ],
             [
              0.5555555555555556,
              "#d8576b"
             ],
             [
              0.6666666666666666,
              "#ed7953"
             ],
             [
              0.7777777777777778,
              "#fb9f3a"
             ],
             [
              0.8888888888888888,
              "#fdca26"
             ],
             [
              1,
              "#f0f921"
             ]
            ],
            "type": "heatmap"
           }
          ],
          "heatmapgl": [
           {
            "colorbar": {
             "outlinewidth": 0,
             "ticks": ""
            },
            "colorscale": [
             [
              0,
              "#0d0887"
             ],
             [
              0.1111111111111111,
              "#46039f"
             ],
             [
              0.2222222222222222,
              "#7201a8"
             ],
             [
              0.3333333333333333,
              "#9c179e"
             ],
             [
              0.4444444444444444,
              "#bd3786"
             ],
             [
              0.5555555555555556,
              "#d8576b"
             ],
             [
              0.6666666666666666,
              "#ed7953"
             ],
             [
              0.7777777777777778,
              "#fb9f3a"
             ],
             [
              0.8888888888888888,
              "#fdca26"
             ],
             [
              1,
              "#f0f921"
             ]
            ],
            "type": "heatmapgl"
           }
          ],
          "histogram": [
           {
            "marker": {
             "colorbar": {
              "outlinewidth": 0,
              "ticks": ""
             }
            },
            "type": "histogram"
           }
          ],
          "histogram2d": [
           {
            "colorbar": {
             "outlinewidth": 0,
             "ticks": ""
            },
            "colorscale": [
             [
              0,
              "#0d0887"
             ],
             [
              0.1111111111111111,
              "#46039f"
             ],
             [
              0.2222222222222222,
              "#7201a8"
             ],
             [
              0.3333333333333333,
              "#9c179e"
             ],
             [
              0.4444444444444444,
              "#bd3786"
             ],
             [
              0.5555555555555556,
              "#d8576b"
             ],
             [
              0.6666666666666666,
              "#ed7953"
             ],
             [
              0.7777777777777778,
              "#fb9f3a"
             ],
             [
              0.8888888888888888,
              "#fdca26"
             ],
             [
              1,
              "#f0f921"
             ]
            ],
            "type": "histogram2d"
           }
          ],
          "histogram2dcontour": [
           {
            "colorbar": {
             "outlinewidth": 0,
             "ticks": ""
            },
            "colorscale": [
             [
              0,
              "#0d0887"
             ],
             [
              0.1111111111111111,
              "#46039f"
             ],
             [
              0.2222222222222222,
              "#7201a8"
             ],
             [
              0.3333333333333333,
              "#9c179e"
             ],
             [
              0.4444444444444444,
              "#bd3786"
             ],
             [
              0.5555555555555556,
              "#d8576b"
             ],
             [
              0.6666666666666666,
              "#ed7953"
             ],
             [
              0.7777777777777778,
              "#fb9f3a"
             ],
             [
              0.8888888888888888,
              "#fdca26"
             ],
             [
              1,
              "#f0f921"
             ]
            ],
            "type": "histogram2dcontour"
           }
          ],
          "mesh3d": [
           {
            "colorbar": {
             "outlinewidth": 0,
             "ticks": ""
            },
            "type": "mesh3d"
           }
          ],
          "parcoords": [
           {
            "line": {
             "colorbar": {
              "outlinewidth": 0,
              "ticks": ""
             }
            },
            "type": "parcoords"
           }
          ],
          "pie": [
           {
            "automargin": true,
            "type": "pie"
           }
          ],
          "scatter": [
           {
            "marker": {
             "colorbar": {
              "outlinewidth": 0,
              "ticks": ""
             }
            },
            "type": "scatter"
           }
          ],
          "scatter3d": [
           {
            "line": {
             "colorbar": {
              "outlinewidth": 0,
              "ticks": ""
             }
            },
            "marker": {
             "colorbar": {
              "outlinewidth": 0,
              "ticks": ""
             }
            },
            "type": "scatter3d"
           }
          ],
          "scattercarpet": [
           {
            "marker": {
             "colorbar": {
              "outlinewidth": 0,
              "ticks": ""
             }
            },
            "type": "scattercarpet"
           }
          ],
          "scattergeo": [
           {
            "marker": {
             "colorbar": {
              "outlinewidth": 0,
              "ticks": ""
             }
            },
            "type": "scattergeo"
           }
          ],
          "scattergl": [
           {
            "marker": {
             "colorbar": {
              "outlinewidth": 0,
              "ticks": ""
             }
            },
            "type": "scattergl"
           }
          ],
          "scattermapbox": [
           {
            "marker": {
             "colorbar": {
              "outlinewidth": 0,
              "ticks": ""
             }
            },
            "type": "scattermapbox"
           }
          ],
          "scatterpolar": [
           {
            "marker": {
             "colorbar": {
              "outlinewidth": 0,
              "ticks": ""
             }
            },
            "type": "scatterpolar"
           }
          ],
          "scatterpolargl": [
           {
            "marker": {
             "colorbar": {
              "outlinewidth": 0,
              "ticks": ""
             }
            },
            "type": "scatterpolargl"
           }
          ],
          "scatterternary": [
           {
            "marker": {
             "colorbar": {
              "outlinewidth": 0,
              "ticks": ""
             }
            },
            "type": "scatterternary"
           }
          ],
          "surface": [
           {
            "colorbar": {
             "outlinewidth": 0,
             "ticks": ""
            },
            "colorscale": [
             [
              0,
              "#0d0887"
             ],
             [
              0.1111111111111111,
              "#46039f"
             ],
             [
              0.2222222222222222,
              "#7201a8"
             ],
             [
              0.3333333333333333,
              "#9c179e"
             ],
             [
              0.4444444444444444,
              "#bd3786"
             ],
             [
              0.5555555555555556,
              "#d8576b"
             ],
             [
              0.6666666666666666,
              "#ed7953"
             ],
             [
              0.7777777777777778,
              "#fb9f3a"
             ],
             [
              0.8888888888888888,
              "#fdca26"
             ],
             [
              1,
              "#f0f921"
             ]
            ],
            "type": "surface"
           }
          ],
          "table": [
           {
            "cells": {
             "fill": {
              "color": "#EBF0F8"
             },
             "line": {
              "color": "white"
             }
            },
            "header": {
             "fill": {
              "color": "#C8D4E3"
             },
             "line": {
              "color": "white"
             }
            },
            "type": "table"
           }
          ]
         },
         "layout": {
          "annotationdefaults": {
           "arrowcolor": "#2a3f5f",
           "arrowhead": 0,
           "arrowwidth": 1
          },
          "autotypenumbers": "strict",
          "coloraxis": {
           "colorbar": {
            "outlinewidth": 0,
            "ticks": ""
           }
          },
          "colorscale": {
           "diverging": [
            [
             0,
             "#8e0152"
            ],
            [
             0.1,
             "#c51b7d"
            ],
            [
             0.2,
             "#de77ae"
            ],
            [
             0.3,
             "#f1b6da"
            ],
            [
             0.4,
             "#fde0ef"
            ],
            [
             0.5,
             "#f7f7f7"
            ],
            [
             0.6,
             "#e6f5d0"
            ],
            [
             0.7,
             "#b8e186"
            ],
            [
             0.8,
             "#7fbc41"
            ],
            [
             0.9,
             "#4d9221"
            ],
            [
             1,
             "#276419"
            ]
           ],
           "sequential": [
            [
             0,
             "#0d0887"
            ],
            [
             0.1111111111111111,
             "#46039f"
            ],
            [
             0.2222222222222222,
             "#7201a8"
            ],
            [
             0.3333333333333333,
             "#9c179e"
            ],
            [
             0.4444444444444444,
             "#bd3786"
            ],
            [
             0.5555555555555556,
             "#d8576b"
            ],
            [
             0.6666666666666666,
             "#ed7953"
            ],
            [
             0.7777777777777778,
             "#fb9f3a"
            ],
            [
             0.8888888888888888,
             "#fdca26"
            ],
            [
             1,
             "#f0f921"
            ]
           ],
           "sequentialminus": [
            [
             0,
             "#0d0887"
            ],
            [
             0.1111111111111111,
             "#46039f"
            ],
            [
             0.2222222222222222,
             "#7201a8"
            ],
            [
             0.3333333333333333,
             "#9c179e"
            ],
            [
             0.4444444444444444,
             "#bd3786"
            ],
            [
             0.5555555555555556,
             "#d8576b"
            ],
            [
             0.6666666666666666,
             "#ed7953"
            ],
            [
             0.7777777777777778,
             "#fb9f3a"
            ],
            [
             0.8888888888888888,
             "#fdca26"
            ],
            [
             1,
             "#f0f921"
            ]
           ]
          },
          "colorway": [
           "#636efa",
           "#EF553B",
           "#00cc96",
           "#ab63fa",
           "#FFA15A",
           "#19d3f3",
           "#FF6692",
           "#B6E880",
           "#FF97FF",
           "#FECB52"
          ],
          "font": {
           "color": "#2a3f5f"
          },
          "geo": {
           "bgcolor": "white",
           "lakecolor": "white",
           "landcolor": "#E5ECF6",
           "showlakes": true,
           "showland": true,
           "subunitcolor": "white"
          },
          "hoverlabel": {
           "align": "left"
          },
          "hovermode": "closest",
          "mapbox": {
           "style": "light"
          },
          "paper_bgcolor": "white",
          "plot_bgcolor": "#E5ECF6",
          "polar": {
           "angularaxis": {
            "gridcolor": "white",
            "linecolor": "white",
            "ticks": ""
           },
           "bgcolor": "#E5ECF6",
           "radialaxis": {
            "gridcolor": "white",
            "linecolor": "white",
            "ticks": ""
           }
          },
          "scene": {
           "xaxis": {
            "backgroundcolor": "#E5ECF6",
            "gridcolor": "white",
            "gridwidth": 2,
            "linecolor": "white",
            "showbackground": true,
            "ticks": "",
            "zerolinecolor": "white"
           },
           "yaxis": {
            "backgroundcolor": "#E5ECF6",
            "gridcolor": "white",
            "gridwidth": 2,
            "linecolor": "white",
            "showbackground": true,
            "ticks": "",
            "zerolinecolor": "white"
           },
           "zaxis": {
            "backgroundcolor": "#E5ECF6",
            "gridcolor": "white",
            "gridwidth": 2,
            "linecolor": "white",
            "showbackground": true,
            "ticks": "",
            "zerolinecolor": "white"
           }
          },
          "shapedefaults": {
           "line": {
            "color": "#2a3f5f"
           }
          },
          "ternary": {
           "aaxis": {
            "gridcolor": "white",
            "linecolor": "white",
            "ticks": ""
           },
           "baxis": {
            "gridcolor": "white",
            "linecolor": "white",
            "ticks": ""
           },
           "bgcolor": "#E5ECF6",
           "caxis": {
            "gridcolor": "white",
            "linecolor": "white",
            "ticks": ""
           }
          },
          "title": {
           "x": 0.05
          },
          "xaxis": {
           "automargin": true,
           "gridcolor": "white",
           "linecolor": "white",
           "ticks": "",
           "title": {
            "standoff": 15
           },
           "zerolinecolor": "white",
           "zerolinewidth": 2
          },
          "yaxis": {
           "automargin": true,
           "gridcolor": "white",
           "linecolor": "white",
           "ticks": "",
           "title": {
            "standoff": 15
           },
           "zerolinecolor": "white",
           "zerolinewidth": 2
          }
         }
        },
        "title": {
         "text": "Qt.A vs Fm"
        },
        "xaxis": {
         "anchor": "y",
         "domain": [
          0,
          0.49
         ],
         "title": {
          "text": "Qt.A M"
         }
        },
        "xaxis2": {
         "anchor": "y2",
         "domain": [
          0.51,
          1
         ],
         "matches": "x",
         "title": {
          "text": "Qt.A M"
         }
        },
        "xaxis3": {
         "anchor": "y3",
         "domain": [
          0,
          0.49
         ],
         "matches": "x",
         "showticklabels": false
        },
        "xaxis4": {
         "anchor": "y4",
         "domain": [
          0.51,
          1
         ],
         "matches": "x",
         "showticklabels": false
        },
        "yaxis": {
         "anchor": "x",
         "domain": [
          0,
          0.46499999999999997
         ],
         "title": {
          "text": "Fm"
         }
        },
        "yaxis2": {
         "anchor": "x2",
         "domain": [
          0,
          0.46499999999999997
         ],
         "matches": "y",
         "showticklabels": false
        },
        "yaxis3": {
         "anchor": "x3",
         "domain": [
          0.5349999999999999,
          0.9999999999999999
         ],
         "matches": "y",
         "title": {
          "text": "Fm"
         }
        },
        "yaxis4": {
         "anchor": "x4",
         "domain": [
          0.5349999999999999,
          0.9999999999999999
         ],
         "matches": "y",
         "showticklabels": false
        }
       }
      }
     },
     "metadata": {},
     "output_type": "display_data"
    }
   ],
   "source": [
    "# plot Qt.A over average vote (Fm)\n",
    "fig = px.scatter(merged[merged[\"Fm\"] > 0], \n",
    "                 x=\"Qt.A M\", y=\"Fm\",\n",
    "                 hover_name=\"Nome\",\n",
    "                 color=\"Squadra\",\n",
    "                 facet_col= \"R\", facet_col_wrap=2,\n",
    "                 color_discrete_map=team_colors,\n",
    "                 title=\"Qt.A vs Fm\")\n",
    "fig"
   ]
  },
  {
   "cell_type": "code",
   "execution_count": 208,
   "metadata": {},
   "outputs": [
    {
     "data": {
      "text/plain": [
       "Index(['Nome', 'RAT', 'POT', 'IS %', 'ETA'', 'Ruolo trequartista',\n",
       "       'Ruolo standard', 'Posizione', 'Squadra', 'Kapitals', 'Bonus'],\n",
       "      dtype='object')"
      ]
     },
     "execution_count": 208,
     "metadata": {},
     "output_type": "execute_result"
    }
   ],
   "source": [
    "eval.columns\n",
    "# px.scatter(eval, x = \"\")"
   ]
  },
  {
   "cell_type": "code",
   "execution_count": 209,
   "metadata": {},
   "outputs": [
    {
     "name": "stdout",
     "output_type": "stream",
     "text": [
      "Index(['Nome', 'Squadra', 'FantaRating', 'Schierabilita', 'Kapitals', 'Id',\n",
      "       'R', 'RM', 'Qt.A M', 'Diff.M', 'FVM', 'Rm', 'Pv', 'Mv', 'Fm', 'Ass',\n",
      "       'Amm', 'Esp', 'Au'],\n",
      "      dtype='object')\n",
      "Index(['Nome', 'RAT', 'POT', 'IS %', 'ETA'', 'Ruolo trequartista',\n",
      "       'Ruolo standard', 'Posizione', 'Squadra', 'Kapitals', 'Bonus'],\n",
      "      dtype='object')\n"
     ]
    }
   ],
   "source": [
    "print(merged2.columns)\n",
    "print(eval.columns)"
   ]
  },
  {
   "cell_type": "code",
   "execution_count": 220,
   "metadata": {},
   "outputs": [
    {
     "data": {
      "application/vnd.plotly.v1+json": {
       "config": {
        "plotlyServerURL": "https://plot.ly"
       },
       "data": [
        {
         "hovertemplate": "<b>%{hovertext}</b><br><br>Squadra=Inter<br>R=A<br>Schierabilita=%{x}<br>Fm=%{y}<extra></extra>",
         "hovertext": [
          "Martinez",
          "Thuram",
          "Arnautovic",
          "Sanchez"
         ],
         "legendgroup": "Inter",
         "marker": {
          "color": "#0033CC",
          "symbol": "circle"
         },
         "mode": "markers",
         "name": "Inter",
         "orientation": "v",
         "showlegend": true,
         "type": "scatter",
         "x": [
          84.09012767107366,
          80.20961670590525,
          57.09510383916964,
          null
         ],
         "xaxis": "x3",
         "y": [
          8.73,
          7.81,
          6.9,
          6.76
         ],
         "yaxis": "y3"
        },
        {
         "hovertemplate": "<b>%{hovertext}</b><br><br>Squadra=Inter<br>R=C<br>Schierabilita=%{x}<br>Fm=%{y}<extra></extra>",
         "hovertext": [
          "Calhanoglu",
          "Barella",
          "Frattesi",
          "Mkhitaryan",
          "Asllani",
          "Buchanan",
          "Sensi",
          "Klaassen"
         ],
         "legendgroup": "Inter",
         "marker": {
          "color": "#0033CC",
          "symbol": "circle"
         },
         "mode": "markers",
         "name": "Inter",
         "orientation": "v",
         "showlegend": false,
         "type": "scatter",
         "x": [
          81.87038713858861,
          83.54915664804318,
          67.6965446006204,
          69.07586669872084,
          55.1141329341725,
          62.6672183321323,
          null,
          null
         ],
         "xaxis": "x4",
         "y": [
          7.7,
          6.53,
          7,
          6.68,
          6.5,
          6.5,
          6.5,
          6
         ],
         "yaxis": "y4"
        },
        {
         "hovertemplate": "<b>%{hovertext}</b><br><br>Squadra=Inter<br>R=D<br>Schierabilita=%{x}<br>Fm=%{y}<extra></extra>",
         "hovertext": [
          "Dimarco",
          "Bastoni",
          "Dumfries",
          "Pavard",
          "Acerbi",
          "Carlos Augusto",
          "Darmian",
          "De Vrij",
          "Bisseck",
          "Cuadrado"
         ],
         "legendgroup": "Inter",
         "marker": {
          "color": "#0033CC",
          "symbol": "circle"
         },
         "mode": "markers",
         "name": "Inter",
         "orientation": "v",
         "showlegend": false,
         "type": "scatter",
         "x": [
          81.80974449700933,
          85.05612456923133,
          70.43758840835336,
          80.88956206084629,
          73.46005450386012,
          67.65980204820607,
          67.5899895009504,
          59.428839152735144,
          57.7653959920554,
          null
         ],
         "xaxis": "x",
         "y": [
          7.18,
          6.45,
          6.53,
          6.24,
          6.5,
          6.21,
          6.33,
          6.41,
          7,
          6.2
         ],
         "yaxis": "y"
        },
        {
         "hovertemplate": "<b>%{hovertext}</b><br><br>Squadra=Inter<br>R=P<br>Schierabilita=%{x}<br>Fm=%{y}<extra></extra>",
         "hovertext": [
          "Sommer",
          "Di Gennaro",
          "Audero"
         ],
         "legendgroup": "Inter",
         "marker": {
          "color": "#0033CC",
          "symbol": "circle"
         },
         "mode": "markers",
         "name": "Inter",
         "orientation": "v",
         "showlegend": false,
         "type": "scatter",
         "x": [
          89.32295853854868,
          9.568091771733982,
          null
         ],
         "xaxis": "x2",
         "y": [
          5.63,
          6.5,
          5.25
         ],
         "yaxis": "y2"
        },
        {
         "hovertemplate": "<b>%{hovertext}</b><br><br>Squadra=Juventus<br>R=A<br>Schierabilita=%{x}<br>Fm=%{y}<extra></extra>",
         "hovertext": [
          "Vlahovic",
          "Yildiz",
          "Milik",
          "Chiesa",
          "Kean"
         ],
         "legendgroup": "Juventus",
         "marker": {
          "color": "#000000",
          "symbol": "circle"
         },
         "mode": "markers",
         "name": "Juventus",
         "orientation": "v",
         "showlegend": true,
         "type": "scatter",
         "x": [
          77.96380397692093,
          63.12361429491005,
          62.92667724754336,
          null,
          null
         ],
         "xaxis": "x3",
         "y": [
          7.42,
          6.29,
          6.46,
          7.17,
          5.93
         ],
         "yaxis": "y3"
        },
        {
         "hovertemplate": "<b>%{hovertext}</b><br><br>Squadra=Juventus<br>R=C<br>Schierabilita=%{x}<br>Fm=%{y}<extra></extra>",
         "hovertext": [
          "Fagioli",
          "Locatelli",
          "Weah",
          "Mckennie",
          "Kostic",
          "Rabiot",
          "Alcaraz",
          "Iling Junior",
          "Miretti",
          "Nicolussi Caviglia",
          "Pogba"
         ],
         "legendgroup": "Juventus",
         "marker": {
          "color": "#000000",
          "symbol": "circle"
         },
         "mode": "markers",
         "name": "Juventus",
         "orientation": "v",
         "showlegend": false,
         "type": "scatter",
         "x": [
          58.39653815721837,
          66.7966780350404,
          61.672863363263666,
          60.29883897964849,
          61.65336263652246,
          null,
          null,
          null,
          null,
          null,
          null
         ],
         "xaxis": "x4",
         "y": [
          6.25,
          5.94,
          5.86,
          6.32,
          5.98,
          6.5,
          6.07,
          6.2,
          5.9,
          6,
          6
         ],
         "yaxis": "y4"
        },
        {
         "hovertemplate": "<b>%{hovertext}</b><br><br>Squadra=Juventus<br>R=D<br>Schierabilita=%{x}<br>Fm=%{y}<extra></extra>",
         "hovertext": [
          "Bremer",
          "Danilo",
          "Cambiaso",
          "Gatti",
          "Rugani",
          "Alex Sandro",
          "Djalo'",
          "De Sciglio"
         ],
         "legendgroup": "Juventus",
         "marker": {
          "color": "#000000",
          "symbol": "circle"
         },
         "mode": "markers",
         "name": "Juventus",
         "orientation": "v",
         "showlegend": false,
         "type": "scatter",
         "x": [
          79.0305120967339,
          75.35658475374005,
          69.82126693615463,
          78.90564074713656,
          null,
          null,
          null,
          null
         ],
         "xaxis": "x",
         "y": [
          6.36,
          6.11,
          6.12,
          6.11,
          6.46,
          6.25,
          6,
          6
         ],
         "yaxis": "y"
        },
        {
         "hovertemplate": "<b>%{hovertext}</b><br><br>Squadra=Juventus<br>R=P<br>Schierabilita=%{x}<br>Fm=%{y}<extra></extra>",
         "hovertext": [
          "Perin",
          "Pinsoglio",
          "Szczesny"
         ],
         "legendgroup": "Juventus",
         "marker": {
          "color": "#000000",
          "symbol": "circle"
         },
         "mode": "markers",
         "name": "Juventus",
         "orientation": "v",
         "showlegend": false,
         "type": "scatter",
         "x": [
          39.25370899896477,
          10.895478271685837,
          null
         ],
         "xaxis": "x2",
         "y": [
          5.67,
          6.5,
          5.43
         ],
         "yaxis": "y2"
        },
        {
         "hovertemplate": "<b>%{hovertext}</b><br><br>Squadra=Napoli<br>R=A<br>Schierabilita=%{x}<br>Fm=%{y}<extra></extra>",
         "hovertext": [
          "Kvaratskhelia",
          "Osimhen",
          "Simeone",
          "Ngonge",
          "Raspadori"
         ],
         "legendgroup": "Napoli",
         "marker": {
          "color": "#00FFFF",
          "symbol": "circle"
         },
         "mode": "markers",
         "name": "Napoli",
         "orientation": "v",
         "showlegend": true,
         "type": "scatter",
         "x": [
          83.31040113493665,
          47.74475194609997,
          58.8030401263286,
          68.0901326082728,
          65.04963018320504
         ],
         "xaxis": "x3",
         "y": [
          7.25,
          7.88,
          5.82,
          6.86,
          6.44
         ],
         "yaxis": "y3"
        },
        {
         "hovertemplate": "<b>%{hovertext}</b><br><br>Squadra=Napoli<br>R=C<br>Schierabilita=%{x}<br>Fm=%{y}<extra></extra>",
         "hovertext": [
          "Politano",
          "Lobotka",
          "Zielinski",
          "Elmas",
          "Zambo Anguissa",
          "Traore'",
          "Cajuste",
          "Lindstrom",
          "Demme"
         ],
         "legendgroup": "Napoli",
         "marker": {
          "color": "#00FFFF",
          "symbol": "circle"
         },
         "mode": "markers",
         "name": "Napoli",
         "orientation": "v",
         "showlegend": false,
         "type": "scatter",
         "x": [
          72.95888315406935,
          85.79327324736887,
          null,
          null,
          null,
          null,
          null,
          null,
          null
         ],
         "xaxis": "x4",
         "y": [
          6.89,
          5.91,
          6.33,
          6.56,
          5.85,
          5.75,
          5.68,
          5.84,
          6.5
         ],
         "yaxis": "y4"
        },
        {
         "hovertemplate": "<b>%{hovertext}</b><br><br>Squadra=Napoli<br>R=D<br>Schierabilita=%{x}<br>Fm=%{y}<extra></extra>",
         "hovertext": [
          "Di Lorenzo",
          "Rrahmani",
          "Olivera",
          "Mazzocchi",
          "Ostigard",
          "Juan Jesus",
          "Mario",
          "Natan"
         ],
         "legendgroup": "Napoli",
         "marker": {
          "color": "#00FFFF",
          "symbol": "circle"
         },
         "mode": "markers",
         "name": "Napoli",
         "orientation": "v",
         "showlegend": false,
         "type": "scatter",
         "x": [
          86.45229207660647,
          86.26729443644864,
          71.31550331636483,
          59.976596995435116,
          null,
          null,
          null,
          null
         ],
         "xaxis": "x",
         "y": [
          6.21,
          6.15,
          5.89,
          5.64,
          6,
          5.67,
          5.74,
          5.69
         ],
         "yaxis": "y"
        },
        {
         "hovertemplate": "<b>%{hovertext}</b><br><br>Squadra=Napoli<br>R=P<br>Schierabilita=%{x}<br>Fm=%{y}<extra></extra>",
         "hovertext": [
          "Contini"
         ],
         "legendgroup": "Napoli",
         "marker": {
          "color": "#00FFFF",
          "symbol": "circle"
         },
         "mode": "markers",
         "name": "Napoli",
         "orientation": "v",
         "showlegend": false,
         "type": "scatter",
         "x": [
          11.534759522027127
         ],
         "xaxis": "x2",
         "y": [
          6
         ],
         "yaxis": "y2"
        },
        {
         "hovertemplate": "<b>%{hovertext}</b><br><br>Squadra=Roma<br>R=A<br>Schierabilita=%{x}<br>Fm=%{y}<extra></extra>",
         "hovertext": [
          "Dybala",
          "Lukaku",
          "Azmoun",
          "Abraham",
          "Solbakken"
         ],
         "legendgroup": "Roma",
         "marker": {
          "color": "#800000",
          "symbol": "circle"
         },
         "mode": "markers",
         "name": "Roma",
         "orientation": "v",
         "showlegend": true,
         "type": "scatter",
         "x": [
          76.57806280060834,
          null,
          null,
          null,
          null
         ],
         "xaxis": "x3",
         "y": [
          8.2,
          7.2,
          6.77,
          6.25,
          5.5
         ],
         "yaxis": "y3"
        },
        {
         "hovertemplate": "<b>%{hovertext}</b><br><br>Squadra=Roma<br>R=C<br>Schierabilita=%{x}<br>Fm=%{y}<extra></extra>",
         "hovertext": [
          "Pellegrini",
          "El Shaarawy",
          "Cristante",
          "Baldanzi",
          "Paredes",
          "Zalewski",
          "Aouar",
          "Bove",
          "Renato Sanches",
          "Pagano"
         ],
         "legendgroup": "Roma",
         "marker": {
          "color": "#800000",
          "symbol": "circle"
         },
         "mode": "markers",
         "name": "Roma",
         "orientation": "v",
         "showlegend": false,
         "type": "scatter",
         "x": [
          84.3790758879983,
          65.80096417445371,
          69.52405237441619,
          57.042062109847336,
          73.18263230828929,
          56.59912330382091,
          null,
          null,
          null,
          null
         ],
         "xaxis": "x4",
         "y": [
          6.95,
          6.4,
          6.35,
          6.27,
          6.13,
          5.77,
          6.73,
          5.96,
          6.2,
          6
         ],
         "yaxis": "y4"
        },
        {
         "hovertemplate": "<b>%{hovertext}</b><br><br>Squadra=Roma<br>R=D<br>Schierabilita=%{x}<br>Fm=%{y}<extra></extra>",
         "hovertext": [
          "Mancini",
          "Angelino",
          "Smalling",
          "Celik",
          "Spinazzola",
          "Llorente",
          "N'Dicka",
          "Karsdorp",
          "Huijsen",
          "Kristensen"
         ],
         "legendgroup": "Roma",
         "marker": {
          "color": "#800000",
          "symbol": "circle"
         },
         "mode": "markers",
         "name": "Roma",
         "orientation": "v",
         "showlegend": false,
         "type": "scatter",
         "x": [
          71.90240378969318,
          75.40237978115329,
          64.14745388654897,
          63.4782537113059,
          null,
          null,
          null,
          null,
          null,
          null
         ],
         "xaxis": "x",
         "y": [
          6.2,
          5.88,
          5.83,
          5.88,
          6.3,
          5.97,
          5.86,
          6.08,
          6.05,
          5.69
         ],
         "yaxis": "y"
        },
        {
         "hovertemplate": "<b>%{hovertext}</b><br><br>Squadra=Roma<br>R=P<br>Schierabilita=%{x}<br>Fm=%{y}<extra></extra>",
         "hovertext": [
          "Svilar"
         ],
         "legendgroup": "Roma",
         "marker": {
          "color": "#800000",
          "symbol": "circle"
         },
         "mode": "markers",
         "name": "Roma",
         "orientation": "v",
         "showlegend": false,
         "type": "scatter",
         "x": [
          79.83074663667594
         ],
         "xaxis": "x2",
         "y": [
          5.37
         ],
         "yaxis": "y2"
        },
        {
         "hovertemplate": "<b>%{hovertext}</b><br><br>Squadra=Milan<br>R=A<br>Schierabilita=%{x}<br>Fm=%{y}<extra></extra>",
         "hovertext": [
          "Okafor",
          "Jovic",
          "Giroud",
          "Rafael Leao",
          "Traore'"
         ],
         "legendgroup": "Milan",
         "marker": {
          "color": "#FF0000",
          "symbol": "circle"
         },
         "mode": "markers",
         "name": "Milan",
         "orientation": "v",
         "showlegend": true,
         "type": "scatter",
         "x": [
          65.28684337340407,
          60.36267929999917,
          null,
          null,
          null
         ],
         "xaxis": "x3",
         "y": [
          7.02,
          6.79,
          7.71,
          7.41,
          10
         ],
         "yaxis": "y3"
        },
        {
         "hovertemplate": "<b>%{hovertext}</b><br><br>Squadra=Milan<br>R=C<br>Schierabilita=%{x}<br>Fm=%{y}<extra></extra>",
         "hovertext": [
          "Pulisic",
          "Loftus-Cheek",
          "Reijnders",
          "Chukwueze",
          "Bennacer",
          "Musah",
          "Adli",
          "Krunic",
          "Pobega",
          "Romero"
         ],
         "legendgroup": "Milan",
         "marker": {
          "color": "#FF0000",
          "symbol": "circle"
         },
         "mode": "markers",
         "name": "Milan",
         "orientation": "v",
         "showlegend": false,
         "type": "scatter",
         "x": [
          79.78852824334895,
          82.56529570150474,
          73.47759830149981,
          69.4363587244473,
          76.61470804359895,
          61.370402782358994,
          null,
          null,
          null,
          null
         ],
         "xaxis": "x4",
         "y": [
          7.5,
          6.69,
          6.38,
          6.25,
          6.47,
          5.86,
          6.14,
          5.72,
          5.93,
          5.75
         ],
         "yaxis": "y4"
        },
        {
         "hovertemplate": "<b>%{hovertext}</b><br><br>Squadra=Milan<br>R=D<br>Schierabilita=%{x}<br>Fm=%{y}<extra></extra>",
         "hovertext": [
          "Hernandez",
          "Tomori",
          "Calabria",
          "Thiaw",
          "Florenzi",
          "Gabbia",
          "Terracciano",
          "Kjaer",
          "Kalulu",
          "Bartesaghi",
          "Simic"
         ],
         "legendgroup": "Milan",
         "marker": {
          "color": "#FF0000",
          "symbol": "circle"
         },
         "mode": "markers",
         "name": "Milan",
         "orientation": "v",
         "showlegend": false,
         "type": "scatter",
         "x": [
          90.54511477083017,
          76.07836782658102,
          61.646306384439825,
          65.40757649965269,
          60.85486156880218,
          52.482634366978886,
          55.51471951305723,
          null,
          null,
          null,
          null
         ],
         "xaxis": "x",
         "y": [
          6.45,
          6.32,
          6.03,
          5.4,
          6.19,
          6.26,
          5.89,
          5.87,
          5.86,
          6,
          7.17
         ],
         "yaxis": "y"
        },
        {
         "hovertemplate": "<b>%{hovertext}</b><br><br>Squadra=Atalanta<br>R=A<br>Schierabilita=%{x}<br>Fm=%{y}<extra></extra>",
         "hovertext": [
          "Scamacca",
          "Lookman",
          "Muriel",
          "Toure'"
         ],
         "legendgroup": "Atalanta",
         "marker": {
          "color": "#1F4E79",
          "symbol": "circle"
         },
         "mode": "markers",
         "name": "Atalanta",
         "orientation": "v",
         "showlegend": true,
         "type": "scatter",
         "x": [
          80.29750120136309,
          73.5359313855341,
          null,
          null
         ],
         "xaxis": "x3",
         "y": [
          7.89,
          7.63,
          6.69,
          6.56
         ],
         "yaxis": "y3"
        },
        {
         "hovertemplate": "<b>%{hovertext}</b><br><br>Squadra=Atalanta<br>R=C<br>Schierabilita=%{x}<br>Fm=%{y}<extra></extra>",
         "hovertext": [
          "De Ketelaere",
          "Pasalic",
          "De Roon",
          "Koopmeiners",
          "Miranchuk",
          "Ederson D.s.",
          "Adopo"
         ],
         "legendgroup": "Atalanta",
         "marker": {
          "color": "#1F4E79",
          "symbol": "circle"
         },
         "mode": "markers",
         "name": "Atalanta",
         "orientation": "v",
         "showlegend": false,
         "type": "scatter",
         "x": [
          79.36780973213213,
          75.69769172353432,
          79.56088419764825,
          null,
          null,
          null,
          null
         ],
         "xaxis": "x4",
         "y": [
          7.39,
          6.89,
          5.97,
          7.53,
          6.82,
          6.56,
          6
         ],
         "yaxis": "y4"
        },
        {
         "hovertemplate": "<b>%{hovertext}</b><br><br>Squadra=Atalanta<br>R=D<br>Schierabilita=%{x}<br>Fm=%{y}<extra></extra>",
         "hovertext": [
          "Zappacosta",
          "Ruggeri",
          "Djimsiti",
          "Scalvini",
          "Hien",
          "Kolasinac",
          "Toloi",
          "Holm",
          "Bakker",
          "Hateboer",
          "Bonfanti"
         ],
         "legendgroup": "Atalanta",
         "marker": {
          "color": "#1F4E79",
          "symbol": "circle"
         },
         "mode": "markers",
         "name": "Atalanta",
         "orientation": "v",
         "showlegend": false,
         "type": "scatter",
         "x": [
          75.82677323480677,
          73.78831432620356,
          83.28290333856994,
          81.01854896689323,
          68.99268467206002,
          73.25915958364405,
          64.50180135164938,
          null,
          null,
          null,
          null
         ],
         "xaxis": "x",
         "y": [
          6.06,
          6.08,
          5.92,
          6.2,
          5.82,
          6.07,
          5.68,
          6.08,
          6,
          5.78,
          5.75
         ],
         "yaxis": "y"
        },
        {
         "hovertemplate": "<b>%{hovertext}</b><br><br>Squadra=Atalanta<br>R=P<br>Schierabilita=%{x}<br>Fm=%{y}<extra></extra>",
         "hovertext": [
          "Carnesecchi",
          "Rossi",
          "Musso"
         ],
         "legendgroup": "Atalanta",
         "marker": {
          "color": "#1F4E79",
          "symbol": "circle"
         },
         "mode": "markers",
         "name": "Atalanta",
         "orientation": "v",
         "showlegend": false,
         "type": "scatter",
         "x": [
          75.80596655295963,
          6.884618022603265,
          null
         ],
         "xaxis": "x2",
         "y": [
          5.3,
          6.5,
          5.05
         ],
         "yaxis": "y2"
        },
        {
         "hovertemplate": "<b>%{hovertext}</b><br><br>Squadra=Torino<br>R=A<br>Schierabilita=%{x}<br>Fm=%{y}<extra></extra>",
         "hovertext": [
          "Zapata",
          "Sanabria",
          "Karamoh",
          "Pellegri",
          "Okereke"
         ],
         "legendgroup": "Torino",
         "marker": {
          "color": "#8B4513",
          "symbol": "circle"
         },
         "mode": "markers",
         "name": "Torino",
         "orientation": "v",
         "showlegend": true,
         "type": "scatter",
         "x": [
          78.57239619346655,
          69.65642890788243,
          62.069990535794304,
          null,
          null
         ],
         "xaxis": "x3",
         "y": [
          7.36,
          6.24,
          6.1,
          6.03,
          5.8
         ],
         "yaxis": "y3"
        },
        {
         "hovertemplate": "<b>%{hovertext}</b><br><br>Squadra=Torino<br>R=C<br>Schierabilita=%{x}<br>Fm=%{y}<extra></extra>",
         "hovertext": [
          "Vlasic",
          "Ilic",
          "Ricci",
          "Tameze",
          "Linetty",
          "Radonjic",
          "Gineitis"
         ],
         "legendgroup": "Torino",
         "marker": {
          "color": "#8B4513",
          "symbol": "circle"
         },
         "mode": "markers",
         "name": "Torino",
         "orientation": "v",
         "showlegend": false,
         "type": "scatter",
         "x": [
          78.02774646224088,
          76.86286498721297,
          80.3112533355799,
          76.74681249452475,
          61.47460261044694,
          53.64468052998198,
          47.84598389259461
         ],
         "xaxis": "x4",
         "y": [
          6.3,
          6.38,
          5.87,
          5.73,
          5.69,
          7.19,
          5.95
         ],
         "yaxis": "y4"
        },
        {
         "hovertemplate": "<b>%{hovertext}</b><br><br>Squadra=Torino<br>R=D<br>Schierabilita=%{x}<br>Fm=%{y}<extra></extra>",
         "hovertext": [
          "Schuurs",
          "Lazaro",
          "Vojvoda",
          "Masina",
          "Buongiorno",
          "Bellanova",
          "Rodriguez",
          "Djidji",
          "Lovato",
          "Soppy",
          "Zima",
          "Sazonov"
         ],
         "legendgroup": "Torino",
         "marker": {
          "color": "#8B4513",
          "symbol": "circle"
         },
         "mode": "markers",
         "name": "Torino",
         "orientation": "v",
         "showlegend": false,
         "type": "scatter",
         "x": [
          80.6770933278834,
          67.93493115214093,
          62.64448244509496,
          60.06668735943031,
          null,
          null,
          null,
          null,
          null,
          null,
          null,
          null
         ],
         "xaxis": "x",
         "y": [
          6.33,
          6.07,
          5.95,
          5.8,
          6.5,
          6.35,
          6.17,
          5.88,
          5.45,
          5.83,
          6,
          5.69
         ],
         "yaxis": "y"
        },
        {
         "hovertemplate": "<b>%{hovertext}</b><br><br>Squadra=Torino<br>R=P<br>Schierabilita=%{x}<br>Fm=%{y}<extra></extra>",
         "hovertext": [
          "Milinkovic-Savic"
         ],
         "legendgroup": "Torino",
         "marker": {
          "color": "#8B4513",
          "symbol": "circle"
         },
         "mode": "markers",
         "name": "Torino",
         "orientation": "v",
         "showlegend": false,
         "type": "scatter",
         "x": [
          null
         ],
         "xaxis": "x2",
         "y": [
          5.24
         ],
         "yaxis": "y2"
        },
        {
         "hovertemplate": "<b>%{hovertext}</b><br><br>Squadra=Lazio<br>R=A<br>Schierabilita=%{x}<br>Fm=%{y}<extra></extra>",
         "hovertext": [
          "Castellanos",
          "Isaksen",
          "Pedro",
          "Immobile"
         ],
         "legendgroup": "Lazio",
         "marker": {
          "color": "#87CEEB",
          "symbol": "circle"
         },
         "mode": "markers",
         "name": "Lazio",
         "orientation": "v",
         "showlegend": true,
         "type": "scatter",
         "x": [
          71.73800113900872,
          62.81215451557873,
          61.25686248609649,
          null
         ],
         "xaxis": "x3",
         "y": [
          6.32,
          6.46,
          6,
          6.59
         ],
         "yaxis": "y3"
        },
        {
         "hovertemplate": "<b>%{hovertext}</b><br><br>Squadra=Lazio<br>R=C<br>Schierabilita=%{x}<br>Fm=%{y}<extra></extra>",
         "hovertext": [
          "Zaccagni",
          "Guendouzi",
          "Vecino",
          "Rovella",
          "Luis Alberto",
          "Felipe Anderson",
          "Kamada",
          "Cataldi"
         ],
         "legendgroup": "Lazio",
         "marker": {
          "color": "#87CEEB",
          "symbol": "circle"
         },
         "mode": "markers",
         "name": "Lazio",
         "orientation": "v",
         "showlegend": false,
         "type": "scatter",
         "x": [
          81.41325262284819,
          78.7679752406576,
          61.145121170255116,
          65.55148540351746,
          null,
          null,
          null,
          null
         ],
         "xaxis": "x4",
         "y": [
          6.77,
          6.21,
          6.78,
          6.07,
          6.84,
          6.59,
          6.1,
          5.95
         ],
         "yaxis": "y4"
        },
        {
         "hovertemplate": "<b>%{hovertext}</b><br><br>Squadra=Lazio<br>R=D<br>Schierabilita=%{x}<br>Fm=%{y}<extra></extra>",
         "hovertext": [
          "Romagnoli",
          "Marusic",
          "Lazzari",
          "Patric",
          "Gila",
          "Hysaj",
          "Pellegrini",
          "Casale"
         ],
         "legendgroup": "Lazio",
         "marker": {
          "color": "#87CEEB",
          "symbol": "circle"
         },
         "mode": "markers",
         "name": "Lazio",
         "orientation": "v",
         "showlegend": false,
         "type": "scatter",
         "x": [
          79.14875764744043,
          76.25661083735287,
          63.47211539784181,
          64.5489577399274,
          70.14622334375318,
          64.88423363677937,
          62.49722699020618,
          null
         ],
         "xaxis": "x",
         "y": [
          5.8,
          5.73,
          5.9,
          6.29,
          5.93,
          5.65,
          5.76,
          5.55
         ],
         "yaxis": "y"
        },
        {
         "hovertemplate": "<b>%{hovertext}</b><br><br>Squadra=Lazio<br>R=P<br>Schierabilita=%{x}<br>Fm=%{y}<extra></extra>",
         "hovertext": [
          "Provedel",
          "Mandas"
         ],
         "legendgroup": "Lazio",
         "marker": {
          "color": "#87CEEB",
          "symbol": "circle"
         },
         "mode": "markers",
         "name": "Lazio",
         "orientation": "v",
         "showlegend": false,
         "type": "scatter",
         "x": [
          83.55795561380098,
          26.45446763651878
         ],
         "xaxis": "x2",
         "y": [
          5.13,
          5.5
         ],
         "yaxis": "y2"
        },
        {
         "hovertemplate": "<b>%{hovertext}</b><br><br>Squadra=Udinese<br>R=A<br>Schierabilita=%{x}<br>Fm=%{y}<extra></extra>",
         "hovertext": [
          "Lucca",
          "Thauvin",
          "Brenner",
          "Davis",
          "Beto",
          "Success"
         ],
         "legendgroup": "Udinese",
         "marker": {
          "color": "#808080",
          "symbol": "circle"
         },
         "mode": "markers",
         "name": "Udinese",
         "orientation": "v",
         "showlegend": true,
         "type": "scatter",
         "x": [
          75.37168903125738,
          61.55394344706951,
          67.1765833212009,
          59.884639891988634,
          null,
          null
         ],
         "xaxis": "x3",
         "y": [
          6.75,
          6.84,
          5.88,
          6.6,
          5.5,
          5.82
         ],
         "yaxis": "y3"
        },
        {
         "hovertemplate": "<b>%{hovertext}</b><br><br>Squadra=Udinese<br>R=C<br>Schierabilita=%{x}<br>Fm=%{y}<extra></extra>",
         "hovertext": [
          "Lovric",
          "Payero",
          "Zarraga",
          "Samardzic",
          "Pereyra",
          "Walace"
         ],
         "legendgroup": "Udinese",
         "marker": {
          "color": "#808080",
          "symbol": "circle"
         },
         "mode": "markers",
         "name": "Udinese",
         "orientation": "v",
         "showlegend": false,
         "type": "scatter",
         "x": [
          79.80441010640475,
          64.99448545636302,
          55.07599552858859,
          null,
          null,
          null
         ],
         "xaxis": "x4",
         "y": [
          6.09,
          6.02,
          6.93,
          6.74,
          6.58,
          6
         ],
         "yaxis": "y4"
        },
        {
         "hovertemplate": "<b>%{hovertext}</b><br><br>Squadra=Udinese<br>R=D<br>Schierabilita=%{x}<br>Fm=%{y}<extra></extra>",
         "hovertext": [
          "Bijol",
          "Giannetti",
          "Ehizibue",
          "Kamara",
          "Kristensen",
          "Zemura",
          "Kabasele",
          "Perez",
          "Ebosele",
          "Ferreira",
          "Guessand"
         ],
         "legendgroup": "Udinese",
         "marker": {
          "color": "#808080",
          "symbol": "circle"
         },
         "mode": "markers",
         "name": "Udinese",
         "orientation": "v",
         "showlegend": false,
         "type": "scatter",
         "x": [
          79.24087161429652,
          64.61360303335103,
          65.7268072301206,
          66.28692646685788,
          67.49892010469341,
          71.35738894258833,
          58.71330399445721,
          null,
          null,
          null,
          null
         ],
         "xaxis": "x",
         "y": [
          6,
          5.64,
          5.82,
          6.1,
          5.75,
          5.98,
          5.8,
          5.82,
          5.73,
          5.55,
          5.5
         ],
         "yaxis": "y"
        },
        {
         "hovertemplate": "<b>%{hovertext}</b><br><br>Squadra=Bologna<br>R=A<br>Schierabilita=%{x}<br>Fm=%{y}<extra></extra>",
         "hovertext": [
          "Odgaard",
          "Karlsson",
          "Castro",
          "Zirkzee",
          "Van Hooijdonk"
         ],
         "legendgroup": "Bologna",
         "marker": {
          "color": "#A52A2A",
          "symbol": "circle"
         },
         "mode": "markers",
         "name": "Bologna",
         "orientation": "v",
         "showlegend": true,
         "type": "scatter",
         "x": [
          60.04464445650883,
          53.28627667066657,
          60.220263639127936,
          null,
          null
         ],
         "xaxis": "x3",
         "y": [
          7,
          5.92,
          6.5,
          7.4,
          5.79
         ],
         "yaxis": "y3"
        },
        {
         "hovertemplate": "<b>%{hovertext}</b><br><br>Squadra=Bologna<br>R=C<br>Schierabilita=%{x}<br>Fm=%{y}<extra></extra>",
         "hovertext": [
          "Orsolini",
          "Ferguson",
          "Fabbian",
          "Freuler",
          "Aebischer",
          "Ndoye",
          "Dominguez",
          "Moro",
          "El Azzouzi",
          "Urbanski",
          "Saelemaekers"
         ],
         "legendgroup": "Bologna",
         "marker": {
          "color": "#A52A2A",
          "symbol": "circle"
         },
         "mode": "markers",
         "name": "Bologna",
         "orientation": "v",
         "showlegend": false,
         "type": "scatter",
         "x": [
          74.26362947271423,
          81.52456357247462,
          68.96730973857032,
          81.31355888093697,
          70.13167475553948,
          67.94987392920984,
          60.888094234326395,
          65.29177254420094,
          55.249104862302694,
          60.53508135326717,
          null
         ],
         "xaxis": "x4",
         "y": [
          7.06,
          6.94,
          6.86,
          6.06,
          5.9,
          6.08,
          5.75,
          6.21,
          6.83,
          5.83,
          6.47
         ],
         "yaxis": "y4"
        },
        {
         "hovertemplate": "<b>%{hovertext}</b><br><br>Squadra=Bologna<br>R=D<br>Schierabilita=%{x}<br>Fm=%{y}<extra></extra>",
         "hovertext": [
          "Posch",
          "Beukema",
          "Lykogiannis",
          "De Silvestri",
          "Corazza",
          "Calafiori",
          "Lucumi'",
          "Kristiansen"
         ],
         "legendgroup": "Bologna",
         "marker": {
          "color": "#A52A2A",
          "symbol": "circle"
         },
         "mode": "markers",
         "name": "Bologna",
         "orientation": "v",
         "showlegend": false,
         "type": "scatter",
         "x": [
          79.24755569685463,
          70.20847374631172,
          54.02355401350162,
          56.374839303057605,
          45.75473942096586,
          null,
          null,
          null
         ],
         "xaxis": "x",
         "y": [
          6.15,
          6.02,
          6.36,
          6.67,
          5.8,
          6.57,
          6.07,
          6
         ],
         "yaxis": "y"
        },
        {
         "hovertemplate": "<b>%{hovertext}</b><br><br>Squadra=Bologna<br>R=P<br>Schierabilita=%{x}<br>Fm=%{y}<extra></extra>",
         "hovertext": [
          "Skorupski",
          "Ravaglia"
         ],
         "legendgroup": "Bologna",
         "marker": {
          "color": "#A52A2A",
          "symbol": "circle"
         },
         "mode": "markers",
         "name": "Bologna",
         "orientation": "v",
         "showlegend": false,
         "type": "scatter",
         "x": [
          76.55825427572623,
          26.476516692562896
         ],
         "xaxis": "x2",
         "y": [
          5.33,
          6.33
         ],
         "yaxis": "y2"
        },
        {
         "hovertemplate": "<b>%{hovertext}</b><br><br>Squadra=Lecce<br>R=A<br>Schierabilita=%{x}<br>Fm=%{y}<extra></extra>",
         "hovertext": [
          "Krstovic",
          "Banda",
          "Pierotti",
          "Sansone",
          "Burnete",
          "Piccoli",
          "Almqvist",
          "Di Francesco"
         ],
         "legendgroup": "Lecce",
         "marker": {
          "color": "#FFD700",
          "symbol": "circle"
         },
         "mode": "markers",
         "name": "Lecce",
         "orientation": "v",
         "showlegend": true,
         "type": "scatter",
         "x": [
          74.6006913250472,
          68.64321790586156,
          64.6633723233878,
          55.83354523019224,
          24.908009017945894,
          null,
          null,
          null
         ],
         "xaxis": "x3",
         "y": [
          6.3,
          6.33,
          6.21,
          6.3,
          6,
          6.41,
          6.13,
          10
         ],
         "yaxis": "y3"
        },
        {
         "hovertemplate": "<b>%{hovertext}</b><br><br>Squadra=Lecce<br>R=C<br>Schierabilita=%{x}<br>Fm=%{y}<extra></extra>",
         "hovertext": [
          "Oudin",
          "Ramadani",
          "Rafia",
          "Kaba",
          "Strefezza",
          "Gonzalez",
          "Blin"
         ],
         "legendgroup": "Lecce",
         "marker": {
          "color": "#FFD700",
          "symbol": "circle"
         },
         "mode": "markers",
         "name": "Lecce",
         "orientation": "v",
         "showlegend": false,
         "type": "scatter",
         "x": [
          66.67553779091554,
          86.0526512631953,
          56.82919511151109,
          61.50669737540477,
          null,
          null,
          null
         ],
         "xaxis": "x4",
         "y": [
          6.48,
          5.72,
          5.88,
          5.73,
          5.87,
          5.94,
          5.75
         ],
         "yaxis": "y4"
        },
        {
         "hovertemplate": "<b>%{hovertext}</b><br><br>Squadra=Lecce<br>R=D<br>Schierabilita=%{x}<br>Fm=%{y}<extra></extra>",
         "hovertext": [
          "Baschirotto",
          "Gallo",
          "Dorgu",
          "Gendrey",
          "Pongracic",
          "Venuti",
          "Touba"
         ],
         "legendgroup": "Lecce",
         "marker": {
          "color": "#FFD700",
          "symbol": "circle"
         },
         "mode": "markers",
         "name": "Lecce",
         "orientation": "v",
         "showlegend": false,
         "type": "scatter",
         "x": [
          84.58546961233448,
          74.6840399855641,
          74.46671631532774,
          null,
          null,
          null,
          null
         ],
         "xaxis": "x",
         "y": [
          5.72,
          6,
          6,
          6.09,
          5.81,
          5.42,
          5.33
         ],
         "yaxis": "y"
        },
        {
         "hovertemplate": "<b>%{hovertext}</b><br><br>Squadra=Monza<br>R=A<br>Schierabilita=%{x}<br>Fm=%{y}<extra></extra>",
         "hovertext": [
          "Djuric",
          "Caprari",
          "Maric",
          "Mota",
          "Colombo"
         ],
         "legendgroup": "Monza",
         "marker": {
          "color": "#FF4500",
          "symbol": "circle"
         },
         "mode": "markers",
         "name": "Monza",
         "orientation": "v",
         "showlegend": true,
         "type": "scatter",
         "x": [
          67.62329498937086,
          67.1260437888702,
          43.17890707996674,
          null,
          null
         ],
         "xaxis": "x3",
         "y": [
          6.67,
          5.9,
          6.5,
          6.41,
          6.39
         ],
         "yaxis": "y3"
        },
        {
         "hovertemplate": "<b>%{hovertext}</b><br><br>Squadra=Monza<br>R=C<br>Schierabilita=%{x}<br>Fm=%{y}<extra></extra>",
         "hovertext": [
          "Pessina",
          "Maldini",
          "Ciurria",
          "Gagliardini",
          "Bondo",
          "Vignato",
          "Carboni",
          "Colpani",
          "Zerbin",
          "Akpa Akpro",
          "Gomez",
          "Machin"
         ],
         "legendgroup": "Monza",
         "marker": {
          "color": "#FF4500",
          "symbol": "circle"
         },
         "mode": "markers",
         "name": "Monza",
         "orientation": "v",
         "showlegend": false,
         "type": "scatter",
         "x": [
          81.1328409047337,
          74.63153396976638,
          85.13976529319814,
          73.5859538731202,
          76.46302471374842,
          60.66703753323382,
          66.62314407031711,
          null,
          null,
          null,
          null,
          null
         ],
         "xaxis": "x4",
         "y": [
          6.46,
          6.97,
          5.86,
          5.92,
          5.78,
          6.25,
          6.32,
          6.92,
          5.78,
          5.64,
          6.25,
          5.81
         ],
         "yaxis": "y4"
        },
        {
         "hovertemplate": "<b>%{hovertext}</b><br><br>Squadra=Monza<br>R=D<br>Schierabilita=%{x}<br>Fm=%{y}<extra></extra>",
         "hovertext": [
          "Izzo",
          "Caldirola",
          "Kyriakopoulos",
          "Pereira",
          "Birindelli",
          "D'Ambrosio",
          "Carboni",
          "Mari'"
         ],
         "legendgroup": "Monza",
         "marker": {
          "color": "#FF4500",
          "symbol": "circle"
         },
         "mode": "markers",
         "name": "Monza",
         "orientation": "v",
         "showlegend": false,
         "type": "scatter",
         "x": [
          76.99263242851065,
          67.70296265692126,
          65.79924365466572,
          57.63826813470156,
          61.009628790196615,
          79.8978168480111,
          62.27101966084729,
          null
         ],
         "xaxis": "x",
         "y": [
          5.62,
          5.78,
          5.93,
          5.74,
          5.89,
          5.69,
          6,
          5.88
         ],
         "yaxis": "y"
        },
        {
         "hovertemplate": "<b>%{hovertext}</b><br><br>Squadra=Monza<br>R=P<br>Schierabilita=%{x}<br>Fm=%{y}<extra></extra>",
         "hovertext": [
          "Di Gregorio"
         ],
         "legendgroup": "Monza",
         "marker": {
          "color": "#FF4500",
          "symbol": "circle"
         },
         "mode": "markers",
         "name": "Monza",
         "orientation": "v",
         "showlegend": false,
         "type": "scatter",
         "x": [
          null
         ],
         "xaxis": "x2",
         "y": [
          5.47
         ],
         "yaxis": "y2"
        },
        {
         "hovertemplate": "<b>%{hovertext}</b><br><br>Squadra=Fiorentina<br>R=A<br>Schierabilita=%{x}<br>Fm=%{y}<extra></extra>",
         "hovertext": [
          "Beltran",
          "Brekalo",
          "Gonzalez",
          "Belotti",
          "Kouame'",
          "Nzola"
         ],
         "legendgroup": "Fiorentina",
         "marker": {
          "color": "#6A0DAD",
          "symbol": "circle"
         },
         "mode": "markers",
         "name": "Fiorentina",
         "orientation": "v",
         "showlegend": true,
         "type": "scatter",
         "x": [
          65.76483327320733,
          51.948479163846336,
          null,
          null,
          null,
          null
         ],
         "xaxis": "x3",
         "y": [
          6.65,
          6.18,
          7.4,
          7.1,
          6.3,
          6.09
         ],
         "yaxis": "y3"
        },
        {
         "hovertemplate": "<b>%{hovertext}</b><br><br>Squadra=Fiorentina<br>R=C<br>Schierabilita=%{x}<br>Fm=%{y}<extra></extra>",
         "hovertext": [
          "Mandragora",
          "Barak",
          "Sottil",
          "Infantino",
          "Bonaventura",
          "Duncan",
          "Arthur Melo",
          "Castrovilli",
          "Ikone'",
          "Lopez",
          "Amatucci"
         ],
         "legendgroup": "Fiorentina",
         "marker": {
          "color": "#6A0DAD",
          "symbol": "circle"
         },
         "mode": "markers",
         "name": "Fiorentina",
         "orientation": "v",
         "showlegend": false,
         "type": "scatter",
         "x": [
          77.93152774113594,
          64.70054176083201,
          53.5362732210086,
          50.109578301893606,
          null,
          null,
          null,
          null,
          null,
          null,
          null
         ],
         "xaxis": "x4",
         "y": [
          6.28,
          6.62,
          6.44,
          5.67,
          6.89,
          6.46,
          6.34,
          7.3,
          6.08,
          5.66,
          5.5
         ],
         "yaxis": "y4"
        },
        {
         "hovertemplate": "<b>%{hovertext}</b><br><br>Squadra=Fiorentina<br>R=D<br>Schierabilita=%{x}<br>Fm=%{y}<extra></extra>",
         "hovertext": [
          "Biraghi",
          "Martinez Quarta",
          "Ranieri",
          "Parisi",
          "Kayode",
          "Comuzzo",
          "Milenkovic",
          "Dodo'",
          "Faraoni"
         ],
         "legendgroup": "Fiorentina",
         "marker": {
          "color": "#6A0DAD",
          "symbol": "circle"
         },
         "mode": "markers",
         "name": "Fiorentina",
         "orientation": "v",
         "showlegend": false,
         "type": "scatter",
         "x": [
          73.43005638885855,
          76.28604438125411,
          66.7933793624486,
          60.738977983004766,
          64.99850687907264,
          11.407816449652334,
          null,
          null,
          null
         ],
         "xaxis": "x",
         "y": [
          6.11,
          6.41,
          5.88,
          5.64,
          6.17,
          5.75,
          5.6,
          5.75,
          5.62
         ],
         "yaxis": "y"
        },
        {
         "hovertemplate": "<b>%{hovertext}</b><br><br>Squadra=Fiorentina<br>R=P<br>Schierabilita=%{x}<br>Fm=%{y}<extra></extra>",
         "hovertext": [
          "Terracciano"
         ],
         "legendgroup": "Fiorentina",
         "marker": {
          "color": "#6A0DAD",
          "symbol": "circle"
         },
         "mode": "markers",
         "name": "Fiorentina",
         "orientation": "v",
         "showlegend": false,
         "type": "scatter",
         "x": [
          64.20138919433931
         ],
         "xaxis": "x2",
         "y": [
          5.26
         ],
         "yaxis": "y2"
        },
        {
         "hovertemplate": "<b>%{hovertext}</b><br><br>Squadra=Cagliari<br>R=A<br>Schierabilita=%{x}<br>Fm=%{y}<extra></extra>",
         "hovertext": [
          "Luvumbo",
          "Lapadula",
          "Pavoletti",
          "Shomurodov",
          "Petagna"
         ],
         "legendgroup": "Cagliari",
         "marker": {
          "color": "#C71585",
          "symbol": "circle"
         },
         "mode": "markers",
         "name": "Cagliari",
         "orientation": "v",
         "showlegend": true,
         "type": "scatter",
         "x": [
          72.73666955967524,
          54.768876140632045,
          60.48536573248937,
          null,
          null
         ],
         "xaxis": "x3",
         "y": [
          6.75,
          6.24,
          7.04,
          6.42,
          6
         ],
         "yaxis": "y3"
        },
        {
         "hovertemplate": "<b>%{hovertext}</b><br><br>Squadra=Cagliari<br>R=C<br>Schierabilita=%{x}<br>Fm=%{y}<extra></extra>",
         "hovertext": [
          "Gaetano",
          "Viola",
          "Prati",
          "Deiola",
          "Jankto",
          "Makoumbou",
          "Nandez",
          "Oristanio",
          "Sulemana"
         ],
         "legendgroup": "Cagliari",
         "marker": {
          "color": "#C71585",
          "symbol": "circle"
         },
         "mode": "markers",
         "name": "Cagliari",
         "orientation": "v",
         "showlegend": false,
         "type": "scatter",
         "x": [
          72.21278518008312,
          58.65552819563406,
          69.31563746712693,
          63.11530267893215,
          57.757763134559504,
          85.62500460130683,
          null,
          null,
          null
         ],
         "xaxis": "x4",
         "y": [
          6.88,
          6.7,
          6,
          5.59,
          6.16,
          5.61,
          6.2,
          6.38,
          6.13
         ],
         "yaxis": "y4"
        },
        {
         "hovertemplate": "<b>%{hovertext}</b><br><br>Squadra=Cagliari<br>R=D<br>Schierabilita=%{x}<br>Fm=%{y}<extra></extra>",
         "hovertext": [
          "Mina",
          "Augello",
          "Zappa",
          "Azzi",
          "Wieteska",
          "Obert",
          "Dossena",
          "Goldaniga",
          "Di Pardo",
          "Hatzidiakos"
         ],
         "legendgroup": "Cagliari",
         "marker": {
          "color": "#C71585",
          "symbol": "circle"
         },
         "mode": "markers",
         "name": "Cagliari",
         "orientation": "v",
         "showlegend": false,
         "type": "scatter",
         "x": [
          83.17481218895225,
          73.6905535415829,
          62.29213673242477,
          56.63545566341189,
          54.17290511703651,
          61.71291744124824,
          null,
          null,
          null,
          null
         ],
         "xaxis": "x",
         "y": [
          6.27,
          5.81,
          5.91,
          5.82,
          5.5,
          5.31,
          5.94,
          5.54,
          5.67,
          5.46
         ],
         "yaxis": "y"
        },
        {
         "hovertemplate": "<b>%{hovertext}</b><br><br>Squadra=Verona<br>R=A<br>Schierabilita=%{x}<br>Fm=%{y}<extra></extra>",
         "hovertext": [
          "Cruz",
          "Noslin",
          "Swiderski",
          "Bonazzoli",
          "Henry",
          "Tavsan"
         ],
         "legendgroup": "Verona",
         "marker": {
          "color": "#FFFF00",
          "symbol": "circle"
         },
         "mode": "markers",
         "name": "Verona",
         "orientation": "v",
         "showlegend": true,
         "type": "scatter",
         "x": [
          46.44826296745091,
          null,
          null,
          null,
          null,
          null
         ],
         "xaxis": "x3",
         "y": [
          5.67,
          7.41,
          6.54,
          6.3,
          6.32,
          6
         ],
         "yaxis": "y3"
        },
        {
         "hovertemplate": "<b>%{hovertext}</b><br><br>Squadra=Verona<br>R=C<br>Schierabilita=%{x}<br>Fm=%{y}<extra></extra>",
         "hovertext": [
          "Suslov",
          "Duda",
          "Tchatchoua",
          "Lazovic",
          "Serdar",
          "Mitrovic",
          "Dani Silva",
          "Belahyane",
          "Folorunsho",
          "Saponara",
          "Hongla",
          "Mboula"
         ],
         "legendgroup": "Verona",
         "marker": {
          "color": "#FFFF00",
          "symbol": "circle"
         },
         "mode": "markers",
         "name": "Verona",
         "orientation": "v",
         "showlegend": false,
         "type": "scatter",
         "x": [
          73.73329702781146,
          80.1777841448216,
          77.69899788131238,
          72.66194167048026,
          72.42423490852984,
          59.55217695989997,
          55.095235348902285,
          62.039903458268356,
          null,
          null,
          null,
          null
         ],
         "xaxis": "x4",
         "y": [
          6.47,
          5.98,
          5.76,
          6.19,
          5.96,
          5.9,
          5.72,
          6.25,
          6.41,
          6,
          5.82,
          5.86
         ],
         "yaxis": "y4"
        },
        {
         "hovertemplate": "<b>%{hovertext}</b><br><br>Squadra=Verona<br>R=D<br>Schierabilita=%{x}<br>Fm=%{y}<extra></extra>",
         "hovertext": [
          "Dawidowicz",
          "Magnani",
          "Coppola",
          "Cabal",
          "Vinagre",
          "Centonze",
          "Amione"
         ],
         "legendgroup": "Verona",
         "marker": {
          "color": "#FFFF00",
          "symbol": "circle"
         },
         "mode": "markers",
         "name": "Verona",
         "orientation": "v",
         "showlegend": false,
         "type": "scatter",
         "x": [
          83.59695780790439,
          60.43014883778395,
          68.35005000012625,
          null,
          null,
          null,
          null
         ],
         "xaxis": "x",
         "y": [
          5.6,
          5.9,
          5.92,
          5.66,
          5.79,
          5.67,
          5.56
         ],
         "yaxis": "y"
        },
        {
         "hovertemplate": "<b>%{hovertext}</b><br><br>Squadra=Verona<br>R=P<br>Schierabilita=%{x}<br>Fm=%{y}<extra></extra>",
         "hovertext": [
          "Perilli"
         ],
         "legendgroup": "Verona",
         "marker": {
          "color": "#FFFF00",
          "symbol": "circle"
         },
         "mode": "markers",
         "name": "Verona",
         "orientation": "v",
         "showlegend": false,
         "type": "scatter",
         "x": [
          17.013540793570687
         ],
         "xaxis": "x2",
         "y": [
          5.5
         ],
         "yaxis": "y2"
        },
        {
         "hovertemplate": "<b>%{hovertext}</b><br><br>Squadra=Genoa<br>R=A<br>Schierabilita=%{x}<br>Fm=%{y}<extra></extra>",
         "hovertext": [
          "Vitinha",
          "Ekuban",
          "Ankeye",
          "Retegui",
          "Puscas"
         ],
         "legendgroup": "Genoa",
         "marker": {
          "color": "#D91E18",
          "symbol": "circle"
         },
         "mode": "markers",
         "name": "Genoa",
         "orientation": "v",
         "showlegend": true,
         "type": "scatter",
         "x": [
          75.08082359371846,
          56.8909520629016,
          48.22186457913505,
          null,
          null
         ],
         "xaxis": "x3",
         "y": [
          7.33,
          6.65,
          5.75,
          6.79,
          5.33
         ],
         "yaxis": "y3"
        },
        {
         "hovertemplate": "<b>%{hovertext}</b><br><br>Squadra=Genoa<br>R=C<br>Schierabilita=%{x}<br>Fm=%{y}<extra></extra>",
         "hovertext": [
          "Messias",
          "Frendrup",
          "Badelj",
          "Thorsby",
          "Bohinen",
          "Gudmundsson",
          "Malinovskyi",
          "Strootman",
          "Kutlu"
         ],
         "legendgroup": "Genoa",
         "marker": {
          "color": "#D91E18",
          "symbol": "circle"
         },
         "mode": "markers",
         "name": "Genoa",
         "orientation": "v",
         "showlegend": false,
         "type": "scatter",
         "x": [
          67.01473127441625,
          83.42119518817024,
          73.60400664456473,
          65.75971841266444,
          47.74652469049216,
          null,
          null,
          null,
          null
         ],
         "xaxis": "x4",
         "y": [
          6.35,
          6.42,
          6.14,
          6.31,
          5.82,
          7.64,
          6.63,
          5.96,
          6
         ],
         "yaxis": "y4"
        },
        {
         "hovertemplate": "<b>%{hovertext}</b><br><br>Squadra=Genoa<br>R=D<br>Schierabilita=%{x}<br>Fm=%{y}<extra></extra>",
         "hovertext": [
          "Vasquez",
          "Sabelli",
          "Bani",
          "Vogliacco",
          "De Winter",
          "Martin",
          "Dragusin",
          "Spence",
          "Haps",
          "Biraschi",
          "Hefti",
          "Cittadini"
         ],
         "legendgroup": "Genoa",
         "marker": {
          "color": "#D91E18",
          "symbol": "circle"
         },
         "mode": "markers",
         "name": "Genoa",
         "orientation": "v",
         "showlegend": false,
         "type": "scatter",
         "x": [
          76.08313536930194,
          65.97752622721322,
          81.7922970503003,
          61.27497915919749,
          74.92785820551727,
          61.09949213568491,
          null,
          null,
          null,
          null,
          null,
          null
         ],
         "xaxis": "x",
         "y": [
          6.19,
          5.87,
          6.07,
          5.97,
          5.74,
          5.92,
          6.45,
          5.97,
          6,
          9,
          5.7,
          5.83
         ],
         "yaxis": "y"
        },
        {
         "hovertemplate": "<b>%{hovertext}</b><br><br>Squadra=Genoa<br>R=P<br>Schierabilita=%{x}<br>Fm=%{y}<extra></extra>",
         "hovertext": [
          "Leali"
         ],
         "legendgroup": "Genoa",
         "marker": {
          "color": "#D91E18",
          "symbol": "circle"
         },
         "mode": "markers",
         "name": "Genoa",
         "orientation": "v",
         "showlegend": false,
         "type": "scatter",
         "x": [
          15.778110550982397
         ],
         "xaxis": "x2",
         "y": [
          5.25
         ],
         "yaxis": "y2"
        },
        {
         "hovertemplate": "<b>%{hovertext}</b><br><br>Squadra=Empoli<br>R=A<br>Schierabilita=%{x}<br>Fm=%{y}<extra></extra>",
         "hovertext": [
          "Niang",
          "Cambiaghi",
          "Cancellieri",
          "Cerri",
          "Caputo",
          "Destro",
          "Shpendi"
         ],
         "legendgroup": "Empoli",
         "marker": {
          "color": "#006BB6",
          "symbol": "circle"
         },
         "mode": "markers",
         "name": "Empoli",
         "orientation": "v",
         "showlegend": true,
         "type": "scatter",
         "x": [
          null,
          null,
          null,
          null,
          null,
          null,
          null
         ],
         "xaxis": "x3",
         "y": [
          7.68,
          6.2,
          6.31,
          6.05,
          6.15,
          5.59,
          5.72
         ],
         "yaxis": "y3"
        },
        {
         "hovertemplate": "<b>%{hovertext}</b><br><br>Squadra=Empoli<br>R=C<br>Schierabilita=%{x}<br>Fm=%{y}<extra></extra>",
         "hovertext": [
          "Gyasi",
          "Fazzini",
          "Zurkowski",
          "Grassi",
          "Maleh",
          "Marin",
          "Kovalenko",
          "Ranocchia"
         ],
         "legendgroup": "Empoli",
         "marker": {
          "color": "#006BB6",
          "symbol": "circle"
         },
         "mode": "markers",
         "name": "Empoli",
         "orientation": "v",
         "showlegend": false,
         "type": "scatter",
         "x": [
          63.44734038487673,
          72.81514040715712,
          74.21947347712464,
          69.12289619606703,
          68.94866055230689,
          null,
          null,
          null
         ],
         "xaxis": "x4",
         "y": [
          5.69,
          5.96,
          6.81,
          5.77,
          5.66,
          6.02,
          6.16,
          5.72
         ],
         "yaxis": "y4"
        },
        {
         "hovertemplate": "<b>%{hovertext}</b><br><br>Squadra=Empoli<br>R=D<br>Schierabilita=%{x}<br>Fm=%{y}<extra></extra>",
         "hovertext": [
          "Ismajli",
          "Ebuehi",
          "Cacace",
          "Luperto",
          "Bereszynski",
          "Walukiewicz",
          "Bastoni",
          "Pezzella Giu."
         ],
         "legendgroup": "Empoli",
         "marker": {
          "color": "#006BB6",
          "symbol": "circle"
         },
         "mode": "markers",
         "name": "Empoli",
         "orientation": "v",
         "showlegend": false,
         "type": "scatter",
         "x": [
          77.67999214669456,
          72.56308151354523,
          62.294256479523966,
          null,
          null,
          null,
          null,
          null
         ],
         "xaxis": "x",
         "y": [
          5.68,
          5.87,
          5.66,
          6.05,
          5.83,
          5.65,
          6,
          5.5
         ],
         "yaxis": "y"
        },
        {
         "hovertemplate": "<b>%{hovertext}</b><br><br>Squadra=Empoli<br>R=P<br>Schierabilita=%{x}<br>Fm=%{y}<extra></extra>",
         "hovertext": [
          "Caprile"
         ],
         "legendgroup": "Empoli",
         "marker": {
          "color": "#006BB6",
          "symbol": "circle"
         },
         "mode": "markers",
         "name": "Empoli",
         "orientation": "v",
         "showlegend": false,
         "type": "scatter",
         "x": [
          null
         ],
         "xaxis": "x2",
         "y": [
          5.22
         ],
         "yaxis": "y2"
        },
        {
         "hovertemplate": "<b>%{hovertext}</b><br><br>Squadra=Frosinone<br>R=A<br>Schierabilita=%{x}<br>Fm=%{y}<extra></extra>",
         "hovertext": [
          "Soule'",
          "Cheddira",
          "Kaio Jorge",
          "Cuni",
          "Seck",
          "Caso",
          "Borrelli",
          "Kvernadze",
          "Ghedjemis"
         ],
         "legendgroup": "Frosinone",
         "marker": {
          "color": "#636efa",
          "symbol": "circle"
         },
         "mode": "markers",
         "name": "Frosinone",
         "orientation": "v",
         "showlegend": true,
         "type": "scatter",
         "x": [
          null,
          null,
          null,
          null,
          null,
          null,
          null,
          null,
          null
         ],
         "xaxis": "x3",
         "y": [
          7.07,
          6.76,
          6.29,
          6.28,
          5.89,
          5.95,
          6,
          5.75,
          6.1
         ],
         "yaxis": "y3"
        },
        {
         "hovertemplate": "<b>%{hovertext}</b><br><br>Squadra=Frosinone<br>R=C<br>Schierabilita=%{x}<br>Fm=%{y}<extra></extra>",
         "hovertext": [
          "Mazzitelli",
          "Brescianini",
          "Harroui",
          "Reinier",
          "Barrenechea",
          "Gelli",
          "Ibrahimovic",
          "Lulic",
          "Baez",
          "Garritano",
          "Bourabia"
         ],
         "legendgroup": "Frosinone",
         "marker": {
          "color": "#636efa",
          "symbol": "circle"
         },
         "mode": "markers",
         "name": "Frosinone",
         "orientation": "v",
         "showlegend": false,
         "type": "scatter",
         "x": [
          null,
          null,
          null,
          null,
          null,
          null,
          null,
          null,
          null,
          null,
          null
         ],
         "xaxis": "x4",
         "y": [
          6.52,
          6.44,
          6.79,
          6.31,
          5.73,
          5.78,
          6.5,
          6,
          6.25,
          5.85,
          5.4
         ],
         "yaxis": "y4"
        },
        {
         "hovertemplate": "<b>%{hovertext}</b><br><br>Squadra=Frosinone<br>R=D<br>Schierabilita=%{x}<br>Fm=%{y}<extra></extra>",
         "hovertext": [
          "Zortea",
          "Lirola",
          "Romagnoli",
          "Monterisi",
          "Valeri",
          "Marchizza",
          "Okoli",
          "Bonifazi",
          "Oyono"
         ],
         "legendgroup": "Frosinone",
         "marker": {
          "color": "#636efa",
          "symbol": "circle"
         },
         "mode": "markers",
         "name": "Frosinone",
         "orientation": "v",
         "showlegend": false,
         "type": "scatter",
         "x": [
          null,
          null,
          null,
          null,
          null,
          null,
          null,
          null,
          null
         ],
         "xaxis": "x",
         "y": [
          6.63,
          6.02,
          5.83,
          6.25,
          5.57,
          6.19,
          5.62,
          5.75,
          5.75
         ],
         "yaxis": "y"
        },
        {
         "hovertemplate": "<b>%{hovertext}</b><br><br>Squadra=Sassuolo<br>R=A<br>Schierabilita=%{x}<br>Fm=%{y}<extra></extra>",
         "hovertext": [
          "Berardi",
          "Pinamonti",
          "Lauriente'",
          "Defrel",
          "Mulattieri",
          "Ceide"
         ],
         "legendgroup": "Sassuolo",
         "marker": {
          "color": "#228B22",
          "symbol": "circle"
         },
         "mode": "markers",
         "name": "Sassuolo",
         "orientation": "v",
         "showlegend": true,
         "type": "scatter",
         "x": [
          null,
          null,
          null,
          null,
          null,
          null
         ],
         "xaxis": "x3",
         "y": [
          8.06,
          6.7,
          6.46,
          6.31,
          5.88,
          5.64
         ],
         "yaxis": "y3"
        },
        {
         "hovertemplate": "<b>%{hovertext}</b><br><br>Squadra=Sassuolo<br>R=C<br>Schierabilita=%{x}<br>Fm=%{y}<extra></extra>",
         "hovertext": [
          "Thorstvedt",
          "Bajrami",
          "Matheus Henrique",
          "Racic",
          "Volpato",
          "Boloca",
          "Lipani",
          "Obiang",
          "Castillejo"
         ],
         "legendgroup": "Sassuolo",
         "marker": {
          "color": "#228B22",
          "symbol": "circle"
         },
         "mode": "markers",
         "name": "Sassuolo",
         "orientation": "v",
         "showlegend": false,
         "type": "scatter",
         "x": [
          null,
          null,
          null,
          null,
          null,
          null,
          null,
          null,
          null
         ],
         "xaxis": "x4",
         "y": [
          6.4,
          6.27,
          5.92,
          6.08,
          6,
          5.82,
          6,
          5.5,
          5.68
         ],
         "yaxis": "y4"
        },
        {
         "hovertemplate": "<b>%{hovertext}</b><br><br>Squadra=Sassuolo<br>R=D<br>Schierabilita=%{x}<br>Fm=%{y}<extra></extra>",
         "hovertext": [
          "Toljan",
          "Erlic",
          "Doig",
          "Ferrari",
          "Viti",
          "Vina",
          "Missori",
          "Pedersen",
          "Tressoldi"
         ],
         "legendgroup": "Sassuolo",
         "marker": {
          "color": "#228B22",
          "symbol": "circle"
         },
         "mode": "markers",
         "name": "Sassuolo",
         "orientation": "v",
         "showlegend": false,
         "type": "scatter",
         "x": [
          null,
          null,
          null,
          null,
          null,
          null,
          null,
          null,
          null
         ],
         "xaxis": "x",
         "y": [
          6.06,
          5.78,
          5.77,
          5.59,
          5.96,
          5.6,
          5.75,
          5.72,
          5.13
         ],
         "yaxis": "y"
        },
        {
         "hovertemplate": "<b>%{hovertext}</b><br><br>Squadra=Salernitana<br>R=A<br>Schierabilita=%{x}<br>Fm=%{y}<extra></extra>",
         "hovertext": [
          "Dia",
          "Simy",
          "Jovane",
          "Weissman",
          "Ikwuemesi",
          "Botheim",
          "Stewart"
         ],
         "legendgroup": "Salernitana",
         "marker": {
          "color": "#8B0000",
          "symbol": "circle"
         },
         "mode": "markers",
         "name": "Salernitana",
         "orientation": "v",
         "showlegend": true,
         "type": "scatter",
         "x": [
          null,
          null,
          null,
          null,
          null,
          null,
          null
         ],
         "xaxis": "x3",
         "y": [
          6.53,
          6.82,
          6.15,
          6,
          5.8,
          5.2,
          5.83
         ],
         "yaxis": "y3"
        },
        {
         "hovertemplate": "<b>%{hovertext}</b><br><br>Squadra=Salernitana<br>R=C<br>Schierabilita=%{x}<br>Fm=%{y}<extra></extra>",
         "hovertext": [
          "Candreva",
          "Tchaouna",
          "Kastanos",
          "Maggiore",
          "Vignato",
          "Coulibaly",
          "Legowski",
          "Martegani",
          "Basic",
          "Gomis"
         ],
         "legendgroup": "Salernitana",
         "marker": {
          "color": "#8B0000",
          "symbol": "circle"
         },
         "mode": "markers",
         "name": "Salernitana",
         "orientation": "v",
         "showlegend": false,
         "type": "scatter",
         "x": [
          null,
          null,
          null,
          null,
          null,
          null,
          null,
          null,
          null,
          null
         ],
         "xaxis": "x4",
         "y": [
          6.87,
          6.52,
          6.29,
          6.19,
          6.07,
          5.65,
          5.65,
          6,
          5.36,
          5.7
         ],
         "yaxis": "y4"
        },
        {
         "hovertemplate": "<b>%{hovertext}</b><br><br>Squadra=Salernitana<br>R=D<br>Schierabilita=%{x}<br>Fm=%{y}<extra></extra>",
         "hovertext": [
          "Sambia",
          "Manolas",
          "Zanoli",
          "Pierozzi",
          "Boateng",
          "Bradaric",
          "Fazio",
          "Pirola",
          "Gyomber",
          "Daniliuc",
          "Pellegrino",
          "Pasalidis",
          "Bronn"
         ],
         "legendgroup": "Salernitana",
         "marker": {
          "color": "#8B0000",
          "symbol": "circle"
         },
         "mode": "markers",
         "name": "Salernitana",
         "orientation": "v",
         "showlegend": false,
         "type": "scatter",
         "x": [
          null,
          null,
          null,
          null,
          null,
          null,
          null,
          null,
          null,
          null,
          null,
          null,
          null
         ],
         "xaxis": "x",
         "y": [
          6.09,
          5.81,
          5.75,
          6,
          5.83,
          5.74,
          5.85,
          5.54,
          5.07,
          5.36,
          5.3,
          5.36,
          5.75
         ],
         "yaxis": "y"
        }
       ],
       "layout": {
        "annotations": [
         {
          "font": {},
          "showarrow": false,
          "text": "R=D",
          "x": 0.245,
          "xanchor": "center",
          "xref": "paper",
          "y": 0.46499999999999997,
          "yanchor": "bottom",
          "yref": "paper"
         },
         {
          "font": {},
          "showarrow": false,
          "text": "R=P",
          "x": 0.755,
          "xanchor": "center",
          "xref": "paper",
          "y": 0.46499999999999997,
          "yanchor": "bottom",
          "yref": "paper"
         },
         {
          "font": {},
          "showarrow": false,
          "text": "R=A",
          "x": 0.245,
          "xanchor": "center",
          "xref": "paper",
          "y": 0.9999999999999999,
          "yanchor": "bottom",
          "yref": "paper"
         },
         {
          "font": {},
          "showarrow": false,
          "text": "R=C",
          "x": 0.755,
          "xanchor": "center",
          "xref": "paper",
          "y": 0.9999999999999999,
          "yanchor": "bottom",
          "yref": "paper"
         }
        ],
        "legend": {
         "title": {
          "text": "Squadra"
         },
         "tracegroupgap": 0
        },
        "margin": {
         "t": 60
        },
        "template": {
         "data": {
          "bar": [
           {
            "error_x": {
             "color": "#2a3f5f"
            },
            "error_y": {
             "color": "#2a3f5f"
            },
            "marker": {
             "line": {
              "color": "#E5ECF6",
              "width": 0.5
             }
            },
            "type": "bar"
           }
          ],
          "barpolar": [
           {
            "marker": {
             "line": {
              "color": "#E5ECF6",
              "width": 0.5
             }
            },
            "type": "barpolar"
           }
          ],
          "carpet": [
           {
            "aaxis": {
             "endlinecolor": "#2a3f5f",
             "gridcolor": "white",
             "linecolor": "white",
             "minorgridcolor": "white",
             "startlinecolor": "#2a3f5f"
            },
            "baxis": {
             "endlinecolor": "#2a3f5f",
             "gridcolor": "white",
             "linecolor": "white",
             "minorgridcolor": "white",
             "startlinecolor": "#2a3f5f"
            },
            "type": "carpet"
           }
          ],
          "choropleth": [
           {
            "colorbar": {
             "outlinewidth": 0,
             "ticks": ""
            },
            "type": "choropleth"
           }
          ],
          "contour": [
           {
            "colorbar": {
             "outlinewidth": 0,
             "ticks": ""
            },
            "colorscale": [
             [
              0,
              "#0d0887"
             ],
             [
              0.1111111111111111,
              "#46039f"
             ],
             [
              0.2222222222222222,
              "#7201a8"
             ],
             [
              0.3333333333333333,
              "#9c179e"
             ],
             [
              0.4444444444444444,
              "#bd3786"
             ],
             [
              0.5555555555555556,
              "#d8576b"
             ],
             [
              0.6666666666666666,
              "#ed7953"
             ],
             [
              0.7777777777777778,
              "#fb9f3a"
             ],
             [
              0.8888888888888888,
              "#fdca26"
             ],
             [
              1,
              "#f0f921"
             ]
            ],
            "type": "contour"
           }
          ],
          "contourcarpet": [
           {
            "colorbar": {
             "outlinewidth": 0,
             "ticks": ""
            },
            "type": "contourcarpet"
           }
          ],
          "heatmap": [
           {
            "colorbar": {
             "outlinewidth": 0,
             "ticks": ""
            },
            "colorscale": [
             [
              0,
              "#0d0887"
             ],
             [
              0.1111111111111111,
              "#46039f"
             ],
             [
              0.2222222222222222,
              "#7201a8"
             ],
             [
              0.3333333333333333,
              "#9c179e"
             ],
             [
              0.4444444444444444,
              "#bd3786"
             ],
             [
              0.5555555555555556,
              "#d8576b"
             ],
             [
              0.6666666666666666,
              "#ed7953"
             ],
             [
              0.7777777777777778,
              "#fb9f3a"
             ],
             [
              0.8888888888888888,
              "#fdca26"
             ],
             [
              1,
              "#f0f921"
             ]
            ],
            "type": "heatmap"
           }
          ],
          "heatmapgl": [
           {
            "colorbar": {
             "outlinewidth": 0,
             "ticks": ""
            },
            "colorscale": [
             [
              0,
              "#0d0887"
             ],
             [
              0.1111111111111111,
              "#46039f"
             ],
             [
              0.2222222222222222,
              "#7201a8"
             ],
             [
              0.3333333333333333,
              "#9c179e"
             ],
             [
              0.4444444444444444,
              "#bd3786"
             ],
             [
              0.5555555555555556,
              "#d8576b"
             ],
             [
              0.6666666666666666,
              "#ed7953"
             ],
             [
              0.7777777777777778,
              "#fb9f3a"
             ],
             [
              0.8888888888888888,
              "#fdca26"
             ],
             [
              1,
              "#f0f921"
             ]
            ],
            "type": "heatmapgl"
           }
          ],
          "histogram": [
           {
            "marker": {
             "colorbar": {
              "outlinewidth": 0,
              "ticks": ""
             }
            },
            "type": "histogram"
           }
          ],
          "histogram2d": [
           {
            "colorbar": {
             "outlinewidth": 0,
             "ticks": ""
            },
            "colorscale": [
             [
              0,
              "#0d0887"
             ],
             [
              0.1111111111111111,
              "#46039f"
             ],
             [
              0.2222222222222222,
              "#7201a8"
             ],
             [
              0.3333333333333333,
              "#9c179e"
             ],
             [
              0.4444444444444444,
              "#bd3786"
             ],
             [
              0.5555555555555556,
              "#d8576b"
             ],
             [
              0.6666666666666666,
              "#ed7953"
             ],
             [
              0.7777777777777778,
              "#fb9f3a"
             ],
             [
              0.8888888888888888,
              "#fdca26"
             ],
             [
              1,
              "#f0f921"
             ]
            ],
            "type": "histogram2d"
           }
          ],
          "histogram2dcontour": [
           {
            "colorbar": {
             "outlinewidth": 0,
             "ticks": ""
            },
            "colorscale": [
             [
              0,
              "#0d0887"
             ],
             [
              0.1111111111111111,
              "#46039f"
             ],
             [
              0.2222222222222222,
              "#7201a8"
             ],
             [
              0.3333333333333333,
              "#9c179e"
             ],
             [
              0.4444444444444444,
              "#bd3786"
             ],
             [
              0.5555555555555556,
              "#d8576b"
             ],
             [
              0.6666666666666666,
              "#ed7953"
             ],
             [
              0.7777777777777778,
              "#fb9f3a"
             ],
             [
              0.8888888888888888,
              "#fdca26"
             ],
             [
              1,
              "#f0f921"
             ]
            ],
            "type": "histogram2dcontour"
           }
          ],
          "mesh3d": [
           {
            "colorbar": {
             "outlinewidth": 0,
             "ticks": ""
            },
            "type": "mesh3d"
           }
          ],
          "parcoords": [
           {
            "line": {
             "colorbar": {
              "outlinewidth": 0,
              "ticks": ""
             }
            },
            "type": "parcoords"
           }
          ],
          "pie": [
           {
            "automargin": true,
            "type": "pie"
           }
          ],
          "scatter": [
           {
            "marker": {
             "colorbar": {
              "outlinewidth": 0,
              "ticks": ""
             }
            },
            "type": "scatter"
           }
          ],
          "scatter3d": [
           {
            "line": {
             "colorbar": {
              "outlinewidth": 0,
              "ticks": ""
             }
            },
            "marker": {
             "colorbar": {
              "outlinewidth": 0,
              "ticks": ""
             }
            },
            "type": "scatter3d"
           }
          ],
          "scattercarpet": [
           {
            "marker": {
             "colorbar": {
              "outlinewidth": 0,
              "ticks": ""
             }
            },
            "type": "scattercarpet"
           }
          ],
          "scattergeo": [
           {
            "marker": {
             "colorbar": {
              "outlinewidth": 0,
              "ticks": ""
             }
            },
            "type": "scattergeo"
           }
          ],
          "scattergl": [
           {
            "marker": {
             "colorbar": {
              "outlinewidth": 0,
              "ticks": ""
             }
            },
            "type": "scattergl"
           }
          ],
          "scattermapbox": [
           {
            "marker": {
             "colorbar": {
              "outlinewidth": 0,
              "ticks": ""
             }
            },
            "type": "scattermapbox"
           }
          ],
          "scatterpolar": [
           {
            "marker": {
             "colorbar": {
              "outlinewidth": 0,
              "ticks": ""
             }
            },
            "type": "scatterpolar"
           }
          ],
          "scatterpolargl": [
           {
            "marker": {
             "colorbar": {
              "outlinewidth": 0,
              "ticks": ""
             }
            },
            "type": "scatterpolargl"
           }
          ],
          "scatterternary": [
           {
            "marker": {
             "colorbar": {
              "outlinewidth": 0,
              "ticks": ""
             }
            },
            "type": "scatterternary"
           }
          ],
          "surface": [
           {
            "colorbar": {
             "outlinewidth": 0,
             "ticks": ""
            },
            "colorscale": [
             [
              0,
              "#0d0887"
             ],
             [
              0.1111111111111111,
              "#46039f"
             ],
             [
              0.2222222222222222,
              "#7201a8"
             ],
             [
              0.3333333333333333,
              "#9c179e"
             ],
             [
              0.4444444444444444,
              "#bd3786"
             ],
             [
              0.5555555555555556,
              "#d8576b"
             ],
             [
              0.6666666666666666,
              "#ed7953"
             ],
             [
              0.7777777777777778,
              "#fb9f3a"
             ],
             [
              0.8888888888888888,
              "#fdca26"
             ],
             [
              1,
              "#f0f921"
             ]
            ],
            "type": "surface"
           }
          ],
          "table": [
           {
            "cells": {
             "fill": {
              "color": "#EBF0F8"
             },
             "line": {
              "color": "white"
             }
            },
            "header": {
             "fill": {
              "color": "#C8D4E3"
             },
             "line": {
              "color": "white"
             }
            },
            "type": "table"
           }
          ]
         },
         "layout": {
          "annotationdefaults": {
           "arrowcolor": "#2a3f5f",
           "arrowhead": 0,
           "arrowwidth": 1
          },
          "autotypenumbers": "strict",
          "coloraxis": {
           "colorbar": {
            "outlinewidth": 0,
            "ticks": ""
           }
          },
          "colorscale": {
           "diverging": [
            [
             0,
             "#8e0152"
            ],
            [
             0.1,
             "#c51b7d"
            ],
            [
             0.2,
             "#de77ae"
            ],
            [
             0.3,
             "#f1b6da"
            ],
            [
             0.4,
             "#fde0ef"
            ],
            [
             0.5,
             "#f7f7f7"
            ],
            [
             0.6,
             "#e6f5d0"
            ],
            [
             0.7,
             "#b8e186"
            ],
            [
             0.8,
             "#7fbc41"
            ],
            [
             0.9,
             "#4d9221"
            ],
            [
             1,
             "#276419"
            ]
           ],
           "sequential": [
            [
             0,
             "#0d0887"
            ],
            [
             0.1111111111111111,
             "#46039f"
            ],
            [
             0.2222222222222222,
             "#7201a8"
            ],
            [
             0.3333333333333333,
             "#9c179e"
            ],
            [
             0.4444444444444444,
             "#bd3786"
            ],
            [
             0.5555555555555556,
             "#d8576b"
            ],
            [
             0.6666666666666666,
             "#ed7953"
            ],
            [
             0.7777777777777778,
             "#fb9f3a"
            ],
            [
             0.8888888888888888,
             "#fdca26"
            ],
            [
             1,
             "#f0f921"
            ]
           ],
           "sequentialminus": [
            [
             0,
             "#0d0887"
            ],
            [
             0.1111111111111111,
             "#46039f"
            ],
            [
             0.2222222222222222,
             "#7201a8"
            ],
            [
             0.3333333333333333,
             "#9c179e"
            ],
            [
             0.4444444444444444,
             "#bd3786"
            ],
            [
             0.5555555555555556,
             "#d8576b"
            ],
            [
             0.6666666666666666,
             "#ed7953"
            ],
            [
             0.7777777777777778,
             "#fb9f3a"
            ],
            [
             0.8888888888888888,
             "#fdca26"
            ],
            [
             1,
             "#f0f921"
            ]
           ]
          },
          "colorway": [
           "#636efa",
           "#EF553B",
           "#00cc96",
           "#ab63fa",
           "#FFA15A",
           "#19d3f3",
           "#FF6692",
           "#B6E880",
           "#FF97FF",
           "#FECB52"
          ],
          "font": {
           "color": "#2a3f5f"
          },
          "geo": {
           "bgcolor": "white",
           "lakecolor": "white",
           "landcolor": "#E5ECF6",
           "showlakes": true,
           "showland": true,
           "subunitcolor": "white"
          },
          "hoverlabel": {
           "align": "left"
          },
          "hovermode": "closest",
          "mapbox": {
           "style": "light"
          },
          "paper_bgcolor": "white",
          "plot_bgcolor": "#E5ECF6",
          "polar": {
           "angularaxis": {
            "gridcolor": "white",
            "linecolor": "white",
            "ticks": ""
           },
           "bgcolor": "#E5ECF6",
           "radialaxis": {
            "gridcolor": "white",
            "linecolor": "white",
            "ticks": ""
           }
          },
          "scene": {
           "xaxis": {
            "backgroundcolor": "#E5ECF6",
            "gridcolor": "white",
            "gridwidth": 2,
            "linecolor": "white",
            "showbackground": true,
            "ticks": "",
            "zerolinecolor": "white"
           },
           "yaxis": {
            "backgroundcolor": "#E5ECF6",
            "gridcolor": "white",
            "gridwidth": 2,
            "linecolor": "white",
            "showbackground": true,
            "ticks": "",
            "zerolinecolor": "white"
           },
           "zaxis": {
            "backgroundcolor": "#E5ECF6",
            "gridcolor": "white",
            "gridwidth": 2,
            "linecolor": "white",
            "showbackground": true,
            "ticks": "",
            "zerolinecolor": "white"
           }
          },
          "shapedefaults": {
           "line": {
            "color": "#2a3f5f"
           }
          },
          "ternary": {
           "aaxis": {
            "gridcolor": "white",
            "linecolor": "white",
            "ticks": ""
           },
           "baxis": {
            "gridcolor": "white",
            "linecolor": "white",
            "ticks": ""
           },
           "bgcolor": "#E5ECF6",
           "caxis": {
            "gridcolor": "white",
            "linecolor": "white",
            "ticks": ""
           }
          },
          "title": {
           "x": 0.05
          },
          "xaxis": {
           "automargin": true,
           "gridcolor": "white",
           "linecolor": "white",
           "ticks": "",
           "title": {
            "standoff": 15
           },
           "zerolinecolor": "white",
           "zerolinewidth": 2
          },
          "yaxis": {
           "automargin": true,
           "gridcolor": "white",
           "linecolor": "white",
           "ticks": "",
           "title": {
            "standoff": 15
           },
           "zerolinecolor": "white",
           "zerolinewidth": 2
          }
         }
        },
        "xaxis": {
         "anchor": "y",
         "domain": [
          0,
          0.49
         ],
         "title": {
          "text": "Schierabilita"
         }
        },
        "xaxis2": {
         "anchor": "y2",
         "domain": [
          0.51,
          1
         ],
         "matches": "x",
         "title": {
          "text": "Schierabilita"
         }
        },
        "xaxis3": {
         "anchor": "y3",
         "domain": [
          0,
          0.49
         ],
         "matches": "x",
         "showticklabels": false
        },
        "xaxis4": {
         "anchor": "y4",
         "domain": [
          0.51,
          1
         ],
         "matches": "x",
         "showticklabels": false
        },
        "yaxis": {
         "anchor": "x",
         "domain": [
          0,
          0.46499999999999997
         ],
         "title": {
          "text": "Fm"
         }
        },
        "yaxis2": {
         "anchor": "x2",
         "domain": [
          0,
          0.46499999999999997
         ],
         "matches": "y",
         "showticklabels": false
        },
        "yaxis3": {
         "anchor": "x3",
         "domain": [
          0.5349999999999999,
          0.9999999999999999
         ],
         "matches": "y",
         "title": {
          "text": "Fm"
         }
        },
        "yaxis4": {
         "anchor": "x4",
         "domain": [
          0.5349999999999999,
          0.9999999999999999
         ],
         "matches": "y",
         "showticklabels": false
        }
       }
      }
     },
     "metadata": {},
     "output_type": "display_data"
    }
   ],
   "source": [
    "# plot Qt.A over average vote (Fm)\n",
    "fig = px.scatter(merged2[ (merged2.R.notnull()) & (merged2.Fm > 5) ],\n",
    "                 x=\"Schierabilita\", y=\"Fm\",\n",
    "                 hover_name=\"Nome\",\n",
    "                 color=\"Squadra\",\n",
    "                 facet_col= \"R\", facet_col_wrap=2,\n",
    "                 color_discrete_map=team_colors)\n",
    "fig"
   ]
  }
 ],
 "metadata": {
  "kernelspec": {
   "display_name": "Python 3",
   "language": "python",
   "name": "python3"
  },
  "language_info": {
   "codemirror_mode": {
    "name": "ipython",
    "version": 3
   },
   "file_extension": ".py",
   "mimetype": "text/x-python",
   "name": "python",
   "nbconvert_exporter": "python",
   "pygments_lexer": "ipython3",
   "version": "3.8.10"
  },
  "orig_nbformat": 4,
  "vscode": {
   "interpreter": {
    "hash": "916dbcbb3f70747c44a77c7bcd40155683ae19c65e1c03b4aa3499c5328201f1"
   }
  }
 },
 "nbformat": 4,
 "nbformat_minor": 2
}
